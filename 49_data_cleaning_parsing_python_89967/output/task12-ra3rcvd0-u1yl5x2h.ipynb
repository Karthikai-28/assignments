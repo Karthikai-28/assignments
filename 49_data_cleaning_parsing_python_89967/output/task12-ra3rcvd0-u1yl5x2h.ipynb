{
 "cells": [
  {
   "cell_type": "markdown",
   "source": [
    "# Assignment 1: Data Parsing, Cleansing and Integration\n",
    "## Task 1 and 2\n",
    "#### Student Name: XXXX XXXX\n",
    "#### Student ID: 000000\n",
    "\n",
    "Date: XXXX\n",
    "\n",
    "Version: 1.0\n",
    "\n",
    "Environment: Python 3 and Jupyter notebook\n",
    "\n",
    "Libraries used: please include the main libraries you used in your assignment, e.g.,:\n",
    "* pandas\n",
    "* re\n",
    "* numpy\n",
    "\n",
    "## Introduction\n",
    "Brief information of this assessment, e.g., what problems were this assessment tackling, what problems were discovered in the data while you were parsing or cleansing it, and the approaches you chose to handle them, etc.\n",
    "\n",
    "<span style=\"color: red\"> Note that this is a sample notebook only. You will need to fill in the proper markdown and code blocks. You might also want to make necessary changes to the structure to meet your own needs. Note also that any generic comments written in this notebook are to be removed and replace with your own words.</span>"
   ],
   "metadata": {}
  },
  {
   "cell_type": "markdown",
   "source": [
    "## Importing libraries "
   ],
   "metadata": {}
  },
  {
   "cell_type": "code",
   "execution_count": 1,
   "source": [
    "# Code to import libraries as you need in this assessment, e.g.,\n",
    "import pandas as pd\n",
    "import re\n",
    "import numpy as np\n",
    "import xmltodict\n",
    "import xml.etree.ElementTree as Xet"
   ],
   "outputs": [],
   "metadata": {}
  },
  {
   "cell_type": "markdown",
   "source": [
    "## Task 1. Parsing Data"
   ],
   "metadata": {}
  },
  {
   "cell_type": "markdown",
   "source": [
    "### 1.1. Examining and loading data\n",
    "Examine \"\\<student\\_id\\>_dataset1.xml\" to determine its content and structure, then load it into Python. Explain your findings here, e.g., how are the records are stored? "
   ],
   "metadata": {}
  },
  {
   "cell_type": "markdown",
   "source": [
    "### 1.2 Parsing data into the required format"
   ],
   "metadata": {}
  },
  {
   "cell_type": "markdown",
   "source": [
    "<span style=\"color: red\"> You might have complex notebook structure in this section, please feel free to create your own notebook structure. </span>"
   ],
   "metadata": {}
  },
  {
   "cell_type": "code",
   "execution_count": 2,
   "source": [
    "cols = [\"Id\", \"Title\", \"Location\", \"Company\", \"ContractType\", \"ContractTime\", \"Category\", \"Salary\", \"OpenDate\", \"CloseDate\", \"SourceName\"]\n",
    "rows = []"
   ],
   "outputs": [],
   "metadata": {
    "collapsed": true
   }
  },
  {
   "cell_type": "code",
   "execution_count": 3,
   "source": [
    "xmlparse = Xet.parse('dataset1.xml')\n",
    "root = xmlparse.getroot()"
   ],
   "outputs": [],
   "metadata": {}
  },
  {
   "cell_type": "code",
   "execution_count": 18,
   "source": [
    "for i in root:\n",
    "    sourceName = i.find(\"SourceName\").text\n",
    "    \n",
    "    id = i.find(\"Row\").text\n",
    "    \n",
    "    title_node = i.find(\"Title\")\n",
    "    if title_node is not None:\n",
    "        title = title_node.text\n",
    "    else:\n",
    "        title = None\n",
    "    \n",
    "    location_node = i.find(\"Location\")\n",
    "    if location_node is not None:\n",
    "        location = location_node.text\n",
    "    else:\n",
    "        location = None\n",
    "        \n",
    "    company_node = i.find(\"Company\")\n",
    "    if company_node is not None:\n",
    "        company = company_node.text\n",
    "    else:\n",
    "        company = None\n",
    "        \n",
    "    contract_type_node = i.find(\"ContractType\")\n",
    "    if contract_type_node is not None:\n",
    "        contract_type = contract_type_node.text\n",
    "    else:\n",
    "        contract_type = None\n",
    "        \n",
    "    contract_time_node = i.find(\"ContractTime\")\n",
    "    if contract_time_node is not None:\n",
    "        contract_time = contract_time_node.text\n",
    "    else:\n",
    "        contract_time = None\n",
    "        \n",
    "    category_node = i.find(\"Category\")\n",
    "    if category_node is not None:\n",
    "        category = category_node.text\n",
    "    else:\n",
    "        category = None\n",
    "    \n",
    "    salary_node = i.find(\"Salary\")\n",
    "    if salary_node is not None:\n",
    "        salary = salary_node.text\n",
    "    else:\n",
    "        salary = None\n",
    "        \n",
    "    open_date_node= i.find(\"OpenDate\")\n",
    "    if open_date_node is not None:\n",
    "        open_date = open_date_node.text\n",
    "    else:\n",
    "        open_date = None\n",
    "        \n",
    "    close_date_node = i.find(\"CloseDate\")\n",
    "    if close_date_node is not None:\n",
    "        close_date = close_date_node.text\n",
    "    else:\n",
    "        close_date = None"
   ],
   "outputs": [],
   "metadata": {}
  },
  {
   "cell_type": "code",
   "execution_count": 19,
   "source": [
    "    rows.append({\"SourceName\": sourceName,\n",
    "                 \"Id\": id,\n",
    "                 \"Title\": title,\n",
    "                 \"Location\": location,\n",
    "                 \"Company\": company,\n",
    "                 \"ContractType\": contract_type,\n",
    "                 \"ContractTime\": contract_time,\n",
    "                 \"Category\": category,\n",
    "                 \"Salary\": salary,\n",
    "                 \"OpenDate\": open_date,\n",
    "                 \"CloseDate\": close_date\n",
    "                })"
   ],
   "outputs": [],
   "metadata": {}
  },
  {
   "cell_type": "markdown",
   "source": [
    "......"
   ],
   "metadata": {}
  },
  {
   "cell_type": "markdown",
   "source": [
    "## Task 2. Auditing and cleansing the loaded data\n",
    "\n",
    "Here, you should write your own code to audit data, identify data problems and to fix them. You are also required to record the errors found and fixings in an error list.\n",
    "\n",
    "<span style=\"color: red\"> You might have complex notebook structure in this section, please feel free to create your own notebook structure. </span>"
   ],
   "metadata": {}
  },
  {
   "cell_type": "markdown",
   "source": [
    "......"
   ],
   "metadata": {}
  },
  {
   "cell_type": "markdown",
   "source": [
    "## Saving data\n",
    "Save the parsed and cleaned data as well as the error list, named as:\n",
    "- \\<student\\_id\\>_dataset1_solution.csv\n",
    "- \\<student\\_id\\>_errorlist.csv"
   ],
   "metadata": {}
  },
  {
   "cell_type": "code",
   "execution_count": null,
   "source": [
    "# code to save output data\n",
    "df = pd.DataFrame(rows, columns=cols)\n",
    "  \n",
    "# Writing dataframe to csv\n",
    "df.to_csv('output.csv')"
   ],
   "outputs": [],
   "metadata": {
    "collapsed": true
   }
  },
  {
   "cell_type": "markdown",
   "source": [
    "## Summary\n",
    "Give a short summary and anything you would like to talk about the assessment here."
   ],
   "metadata": {}
  }
 ],
 "metadata": {
  "kernelspec": {
   "name": "python3",
   "display_name": "Python 3.6.9 64-bit"
  },
  "language_info": {
   "codemirror_mode": {
    "name": "ipython",
    "version": 3
   },
   "file_extension": ".py",
   "mimetype": "text/x-python",
   "name": "python",
   "nbconvert_exporter": "python",
   "pygments_lexer": "ipython3",
   "version": "3.6.9"
  },
  "interpreter": {
   "hash": "31f2aee4e71d21fbe5cf8b01ff0e069b9275f58929596ceb00d14d90e3e16cd6"
  }
 },
 "nbformat": 4,
 "nbformat_minor": 1
}