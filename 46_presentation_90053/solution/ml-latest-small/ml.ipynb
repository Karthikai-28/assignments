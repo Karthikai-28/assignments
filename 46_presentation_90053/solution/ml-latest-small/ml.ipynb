{
    "cells": [
        {
            "cell_type": "code",
            "execution_count": 1,
            "source": [
                "# Importing all necessaty libraries\n",
                "# %matplotlib inline\n",
                "import math\n",
                "import numpy as np\n",
                "import pandas as pd\n",
                "# import matplotlib.pyplot as plt"
            ],
            "outputs": [],
            "metadata": {}
        },
        {
            "cell_type": "code",
            "execution_count": 7,
            "source": [
                "ratings = pd.read_csv('ratings.csv', sep=',', encoding='latin-1', usecols=['userId', 'movieId', 'rating'])\n",
                "# max_user_id = ratings['userId'].drop_duplicate().max()\n",
                "# max_movieid = ratings['movieId'].drop_duplicates().max()\n",
                "\n",
                "\n",
                "tags = pd.read_csv('tags.csv', sep = ',', encoding='latin-1', usecols=['userId', 'movieId', 'tag'])\n",
                "movies = pd.read_csv('movies.csv', sep = ',', encoding='latin-1', usecols=['movieId', 'title', 'genres'])\n",
                "links = pd.read_csv('links.csv', sep = ',', encoding='utf-8', usecols=['movieId', 'imdbId', 'tmdbId'])"
            ],
            "outputs": [],
            "metadata": {}
        },
        {
            "cell_type": "code",
            "execution_count": 10,
            "source": [
                "shuffled_ratings = ratings.sample(frac = 1., random_state=70)\n",
                "\n",
                "Users = shuffled_ratings['userId'].values\n",
                "print ('Users:', Users, ', shape =', Users.shape)\n",
                "\n",
                "# Shuffling movies\n",
                "Movies = shuffled_ratings['movieId'].values\n",
                "print ('Movies:', Movies, ', shape =', Movies.shape)\n",
                "\n",
                "# Shuffling ratings\n",
                "Ratings = shuffled_ratings['rating'].values\n",
                "print ('Ratings:', Ratings, ', shape =', Ratings.shape)\n"
            ],
            "outputs": [
                {
                    "output_type": "stream",
                    "name": "stdout",
                    "text": [
                        "Users: [284 200 481 ... 179 562 580] , shape = (100836,)\n",
                        "Movies: [  275 54503  1485 ...   344  2005  1270] , shape = (100836,)\n",
                        "Ratings: [3.  4.5 2.  ... 3.  5.  3.5] , shape = (100836,)\n"
                    ]
                }
            ],
            "metadata": {}
        },
        {
            "cell_type": "code",
            "execution_count": 11,
            "source": [
                "from keras.callbacks import Callback, EarlyStopping, ModelCheckpoint\n",
                "from CFModel import CFModel"
            ],
            "outputs": [
                {
                    "output_type": "error",
                    "ename": "ModuleNotFoundError",
                    "evalue": "No module named 'keras'",
                    "traceback": [
                        "\u001b[0;31m---------------------------------------------------------------------------\u001b[0m",
                        "\u001b[0;31mModuleNotFoundError\u001b[0m                       Traceback (most recent call last)",
                        "\u001b[0;32m<ipython-input-11-a2e08cfa2965>\u001b[0m in \u001b[0;36m<module>\u001b[0;34m\u001b[0m\n\u001b[0;32m----> 1\u001b[0;31m \u001b[0;32mfrom\u001b[0m \u001b[0mkeras\u001b[0m\u001b[0;34m.\u001b[0m\u001b[0mcallbacks\u001b[0m \u001b[0;32mimport\u001b[0m \u001b[0mCallback\u001b[0m\u001b[0;34m,\u001b[0m \u001b[0mEarlyStopping\u001b[0m\u001b[0;34m,\u001b[0m \u001b[0mModelCheckpoint\u001b[0m\u001b[0;34m\u001b[0m\u001b[0;34m\u001b[0m\u001b[0m\n\u001b[0m\u001b[1;32m      2\u001b[0m \u001b[0;32mfrom\u001b[0m \u001b[0mCFModel\u001b[0m \u001b[0;32mimport\u001b[0m \u001b[0mCFModel\u001b[0m\u001b[0;34m\u001b[0m\u001b[0;34m\u001b[0m\u001b[0m\n",
                        "\u001b[0;31mModuleNotFoundError\u001b[0m: No module named 'keras'"
                    ]
                }
            ],
            "metadata": {}
        },
        {
            "cell_type": "code",
            "execution_count": null,
            "source": [],
            "outputs": [],
            "metadata": {}
        }
    ],
    "metadata": {
        "orig_nbformat": 4,
        "language_info": {
            "name": "python",
            "version": "3.6.9",
            "mimetype": "text/x-python",
            "codemirror_mode": {
                "name": "ipython",
                "version": 3
            },
            "pygments_lexer": "ipython3",
            "nbconvert_exporter": "python",
            "file_extension": ".py"
        },
        "kernelspec": {
            "name": "python3",
            "display_name": "Python 3.6.9 64-bit"
        },
        "interpreter": {
            "hash": "31f2aee4e71d21fbe5cf8b01ff0e069b9275f58929596ceb00d14d90e3e16cd6"
        }
    },
    "nbformat": 4,
    "nbformat_minor": 2
}