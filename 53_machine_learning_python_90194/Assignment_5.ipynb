{
 "cells": [
  {
   "cell_type": "markdown",
   "id": "considered-catering",
   "metadata": {},
   "source": [
    "![title](QMlogo.png)"
   ]
  },
  {
   "cell_type": "markdown",
   "id": "filled-princeton",
   "metadata": {},
   "source": [
    "|MTH786U/P, Semester C, 2020/2021||\n",
    "|:--|--:|\n",
    "|Assignment 5 Solutions|M. Poplavskyi|\n"
   ]
  },
  {
   "cell_type": "markdown",
   "id": "permanent-shock",
   "metadata": {},
   "source": [
    "In the following $2$ exercises you will be asked to implement $K$-fold cross-validation \n",
    "\tand the gradient descent methods on a given data. The assignment folder contains\n",
    "\ta helper file (external module)\tcalled \\texttt{MLHelper.py}. You can import it and\n",
    "\tuse any function from it by calling"
   ]
  },
  {
   "cell_type": "code",
   "execution_count": 86,
   "id": "polyphonic-formation",
   "metadata": {
    "ExecuteTime": {
     "end_time": "2021-07-12T21:34:45.468916Z",
     "start_time": "2021-07-12T21:34:45.454542Z"
    }
   },
   "outputs": [],
   "source": [
    "import MLHelper as ml"
   ]
  },
  {
   "cell_type": "code",
   "execution_count": 87,
   "id": "assigned-capture",
   "metadata": {
    "ExecuteTime": {
     "end_time": "2021-07-12T21:34:45.512738Z",
     "start_time": "2021-07-12T21:34:45.472699Z"
    }
   },
   "outputs": [],
   "source": [
    "%matplotlib inline\n",
    "import numpy as np\n",
    "import matplotlib.pyplot as plt"
   ]
  },
  {
   "cell_type": "markdown",
   "id": "sexual-privilege",
   "metadata": {},
   "source": [
    "### Standardisation and de-standardisation  of the data"
   ]
  },
  {
   "cell_type": "markdown",
   "id": "ordinary-voluntary",
   "metadata": {},
   "source": [
    "The goal of applying $\\textit{standardisation}$ is to make sure different features of objects are on \n",
    "\talmost the same scale so that each feature is equally important and make it easier to process by \n",
    "\tmost ML algorithms. The result of standardisation is that the features will be rescaled to ensure \n",
    "\tthe mean and the standard deviation to be $0$ and $1$, respectively. This means that for a data\n",
    "\tgiven by $\\mathbf{x} = \\left(x_1,x_2,\\ldots,x_n\\right) \\in \\mathbb{R}^n$ we define a new, rescaled data as:\n",
    "\t\\begin{equation*}\n",
    "\t\t\\hat x_i = \\frac{x_i - \\left\\langle \\mathbf{x} \\right\\rangle }{\\sigma_{\\mathbf{x}}},\n",
    "\t\\end{equation*}\n",
    "\twhere $\\left\\langle \\mathbf{x} \\right\\rangle = \\frac{1}{n}\\sum\\limits_{j=1}^n x_j$, and\n",
    "\t$\\sigma_\\mathbf{x} = \\sqrt{\n",
    "\t\\frac{1}{n}\\sum\\limits_{j=1}^n \\left(x_j-\\left\\langle \\mathbf{x} \\right\\rangle\\right)^2}$\n",
    "\tare the mean and standard deviation of $\\mathbf{x}$.  \n",
    "- $\\label{itm:standardise}$ Write two functions $\\texttt{standardise}$ and $\\texttt{de_standardise}$ to (de-)standardise the columns of a multi-dimensional array. The function $\\texttt{standardise}$\ttakes the multi-dimensional array $\\texttt{matrix}$ as its input argument. It subtracts the means from each column and divides by the standard deviations. It returns the standardised matrix, the row of means and the row of standard deviations. The function $\\texttt{de_standardise}$ reverses this operation. It takes a standardised matrix, the row of means and the row of standard deviations as its arguments and returns a matrix for which the standardisation process is reversed."
   ]
  },
  {
   "cell_type": "code",
   "execution_count": 88,
   "id": "outstanding-energy",
   "metadata": {
    "ExecuteTime": {
     "end_time": "2021-07-12T21:34:45.594694Z",
     "start_time": "2021-07-12T21:34:45.572188Z"
    }
   },
   "outputs": [],
   "source": [
    "def standardise(matrix):\n",
    "    row_of_means = np.mean(matrix, axis=0)\n",
    "    standardised_matrix = matrix - row_of_means\n",
    "    row_of_stds = np.std(standardised_matrix, axis=0)\n",
    "    return (standardised_matrix / row_of_stds), row_of_means, row_of_stds\n",
    "\n",
    "\n",
    "def de_standardise(standardised_matrix, row_of_means, row_of_stds):\n",
    "    matrix = np.copy(standardised_matrix * row_of_stds)\n",
    "    return matrix + row_of_means"
   ]
  },
  {
   "cell_type": "markdown",
   "id": "plastic-progress",
   "metadata": {},
   "source": [
    "### Model selection: cross validation"
   ]
  },
  {
   "cell_type": "markdown",
   "id": "agreed-saturn",
   "metadata": {},
   "source": [
    "In this exercise you will work with a real housing price data. The assignment folder contains $\\texttt{house\\_prices.csv}$ file which you will need to read the data from. This file contains the information about $N = 1200$ houses. The data columns are:\n",
    "- $\\texttt{StreetLength}$ - length of the street in front of the building\n",
    "- $\\texttt{Area}$ - total area of the lot\n",
    "- $\\texttt{Quality}$ - quality of building materials\n",
    "- $\\texttt{Condition}$ - condition of the building\n",
    "- $\\texttt{BasementArea}$ - area of the basement\n",
    "- $\\texttt{LivingArea}$ - total living area\n",
    "- $\\texttt{GarageArea}$ - a garage area\t\t\n",
    "- $\\texttt{SalePrice}$ - sale price\n",
    "\n",
    "Your task would be to build a ridge regression using $K$-fold cross validation strategy for validation and a grid search strategy for optimisation over hyperparameter $\\alpha$.\n",
    "\n",
    "1. $\\label{housing:data}$ Download the information of numerous houses from the $\\texttt{houses_prices.csv}$ dataset. In order to do so, download $\\texttt{MLHelper.py}$ from the QM+ module page and import the $\\texttt{load_housing_data}$ function from the module $\\texttt{MLHelper}$. Use this function to load the data via the command $\\texttt{housing_data, housing_prices = load_housing_data()}$. Standardise the data using the function $\\texttt{standrdise}$ you have written before."
   ]
  },
  {
   "cell_type": "code",
   "execution_count": 89,
   "id": "another-trinity",
   "metadata": {
    "ExecuteTime": {
     "end_time": "2021-07-12T21:34:45.728562Z",
     "start_time": "2021-07-12T21:34:45.663596Z"
    }
   },
   "outputs": [],
   "source": [
    "housing_data, housing_prices = ml.load_housing_data()\n",
    "standardised_housing_data, means_housing_data, stds_housing_data = standardise(\n",
    "    housing_data)\n",
    "standardised_housing_prices, means_housing_prices, stds_housing_prices = standardise(\n",
    "    housing_prices)"
   ]
  },
  {
   "cell_type": "markdown",
   "id": "dependent-lending",
   "metadata": {},
   "source": [
    "2. $\\label{housing:ridge}$ Use a function $\\texttt{ridge_regression}$ available from the module $\\texttt{MLHelper}$ that takes three arguments $\\texttt{data_x}$, $\\texttt{data_y}$,and\t$\\texttt{alpha}$, which computes and returns the solution $w_{\\alpha}$ of the normal equation\n",
    "$$\n",
    "\\left(X^{\\top} X + \\alpha I\\right)w_{\\alpha} = X^{\\top}y.\n",
    "$$\n",
    "Here $X$ is the mathematical representation of $\\texttt{data_x}$ and $y$ is the mathematical representation of $\\texttt{data_y}$."
   ]
  },
  {
   "cell_type": "code",
   "execution_count": 90,
   "id": "capital-quebec",
   "metadata": {
    "ExecuteTime": {
     "end_time": "2021-07-12T21:34:45.795714Z",
     "start_time": "2021-07-12T21:34:45.738536Z"
    }
   },
   "outputs": [
    {
     "name": "stdout",
     "output_type": "stream",
     "text": [
      "[-0.00997711  0.06980294  0.46026402  0.03218984  0.14526004  0.26548819\n",
      "  0.15698474]\n"
     ]
    }
   ],
   "source": [
    "w = ml.ridge_regression(standardised_housing_data, standardised_housing_prices,\n",
    "                        0)\n",
    "print(w)"
   ]
  },
  {
   "cell_type": "markdown",
   "id": "foster-swimming",
   "metadata": {},
   "source": [
    "3. $\\label{housing:validation}$ Define a \t\t$\\href{https://docs.python.org/3/tutorial/controlflow.html#lambda-expressions}{lambda function}$ $\\texttt{linear_regression}$ that takes two arguments $\\texttt{w}$ and $\\texttt{x}$ and evaluates $f_{w}\\left(x\\right)$. Define another $\\href{https://docs.python.org/3/tutorial/controlflow.html#lambda-expressions}{lambda function}$ $\\texttt{error_measure}$ that takes two numeric arguments $\\texttt{f}$ and $\\texttt{y}$ and evaluates\t$\\frac{1}{2}\\left(f-y\\right)^2$. Finally, implement a function $\\texttt{validation_error}$ that takes $3$ parameters: $\\texttt{validation_x}$, $\\texttt{validation_y}$, $\\texttt{w}$ and evaluates\tthe validation error\n",
    "$$\n",
    "\\begin{align*}\n",
    "\\text{Val}_{S_v}(w) = \\frac{1}{2|S_v|} \n",
    "\\sum_{(x_i, y_i) \\in S_v} | f_{w}(x_i) - y_i |^2 \\, ,\n",
    "\\end{align*}\n",
    "$$\n",
    "between output samples $\\{ y_i^v \\}_{i = 1}^{|S_v|}$ (represented by $\\texttt{validation_y}$) from a validation data set $S_v$ and the outputs of the ridge regression function $f_w$ for matching inputs $\\{ x_i^v \\}_{i = 1}^{|S_v|}$ (represented by $\\texttt{validation_x}$) from $S_v$."
   ]
  },
  {
   "cell_type": "code",
   "execution_count": 91,
   "id": "maritime-guyana",
   "metadata": {
    "ExecuteTime": {
     "end_time": "2021-07-12T21:34:45.823331Z",
     "start_time": "2021-07-12T21:34:45.800572Z"
    }
   },
   "outputs": [],
   "source": [
    "linear_regression = lambda x, w: x @ w.T\n",
    "error_measure = lambda f, y: (f - y)**2 / 2\n",
    "\n",
    "\n",
    "def validation_error(data_x, data_y, w):\n",
    "    error = 0\n",
    "    s = data_x.shape[0]\n",
    "    for i in range(s):\n",
    "        error += error_measure(linear_regression(data_x[i, :], w),\n",
    "                               data_y[i]) / s\n",
    "    return error"
   ]
  },
  {
   "cell_type": "markdown",
   "id": "desperate-fisher",
   "metadata": {},
   "source": [
    "4. Implement a $K$-fold cross validation strategy as introduced in the lectures. Write a function $\\texttt{data_split}$ that takes arguments $\\texttt{data}$ and $\\texttt{K}$ and splits the data randomly into $K$ equal (or almost equal) chunks. Write a function $\\texttt{KFold_validation_error}$ that takes arguments $\\texttt{data_x}$, $\\texttt{data_y}$, $\\texttt{alpha}$, $\\texttt{K}$, and \n",
    "    - using the function $\\texttt{data_split}$, splits the data into $K$ chunks;\n",
    "\t- uses $K-1$ sets to compute the ridge regression weights $w_{\\alpha}$ and the remaining set as the validation set $S_v$ for the calculation of an error; \n",
    "\t- repeats this for all combinations, and average your results;\n",
    "\t- returns the average regression coefficients $\\left\\langle w_{\\alpha}\\right\\rangle$ and the corresponding validation error $\\left\\langle \\mathrm{Val}_{S_v}\\left( w_{\\alpha}\\right)\\right\\rangle$."
   ]
  },
  {
   "cell_type": "code",
   "execution_count": 92,
   "id": "eight-range",
   "metadata": {
    "ExecuteTime": {
     "end_time": "2021-07-12T21:34:45.880571Z",
     "start_time": "2021-07-12T21:34:45.855101Z"
    }
   },
   "outputs": [],
   "source": [
    "def data_split(data, K):\n",
    "    no_samples = data.shape[0]\n",
    "    indices = np.random.permutation(no_samples)\n",
    "\n",
    "    m, r = divmod(no_samples, K)\n",
    "    indices_split = [\n",
    "        indices[i * m + min(i, r):(i + 1) * m + min(i, r)] for i in range(K)\n",
    "    ]\n",
    "\n",
    "    return [data[indices_split[i]] for i in range(K)]\n",
    "\n",
    "\n",
    "def KFold_validation_error(data_x, data_y, alpha, K):\n",
    "    data_xy = np.c_[data_x, data_y]\n",
    "    data_chunks = data_split(data_xy, K)\n",
    "\n",
    "    average_w = np.zeros(data_x.shape[1])\n",
    "    average_error = 0\n",
    "    for i in range(K):\n",
    "        training_data = np.concatenate(\n",
    "            [data_chunks[j] for j in range(K) if (j != i)], axis=0)\n",
    "        validation_data = data_chunks[i]\n",
    "        w = ml.ridge_regression(training_data[:, :-1],\n",
    "                                         training_data[:, -1], alpha)\n",
    "        average_error += validation_error(validation_data[:, :-1],\n",
    "                                         validation_data[:, -1], w) / K\n",
    "        average_w +=w/K\n",
    "\n",
    "    return average_w, average_error"
   ]
  },
  {
   "cell_type": "markdown",
   "id": "extreme-ghost",
   "metadata": {},
   "source": [
    "5. Implement a grid search algorithm to find an unknown parameter $\\hat \\alpha$ such that\n",
    "$$\n",
    "\\hat{\\alpha} = \\arg\\min\\limits_{\\alpha\\geq 0} \\left\\langle \\mathrm{Val}_{S_v}\\left( w_{\\alpha}\\right)\\right\\rangle.\n",
    "$$"
   ]
  },
  {
   "cell_type": "code",
   "execution_count": 93,
   "id": "recognized-timber",
   "metadata": {
    "ExecuteTime": {
     "end_time": "2021-07-12T21:34:46.809245Z",
     "start_time": "2021-07-12T21:34:45.908173Z"
    },
    "scrolled": true
   },
   "outputs": [
    {
     "name": "stdout",
     "output_type": "stream",
     "text": [
      "An optimal regularisation parameter is 15\n"
     ]
    },
    {
     "data": {
      "image/png": "[encoded data removed]",
      "text/plain": [
       "<Figure size 432x288 with 1 Axes>"
      ]
     },
     "metadata": {
      "needs_background": "light"
     },
     "output_type": "display_data"
    }
   ],
   "source": [
    "K_global = 5\n",
    "def grid_search(grid):\n",
    "    function_values = []\n",
    "    for point in grid:\n",
    "        _, error = KFold_validation_error(standardised_housing_data, standardised_housing_prices, point, K_global)\n",
    "        function_values.append(error)\n",
    "    \n",
    "    plt.plot(grid, function_values, '--', linewidth=3, label='Validation Error')\n",
    "    plt.legend( prop={'size': 12})\n",
    "    plt.xlabel(r'$\\alpha$-axis', fontsize=16)\n",
    "    plt.xticks(fontsize=16)\n",
    "    plt.ylabel(r'$Val_{S_v}$-axis', fontsize=16)\n",
    "    plt.yticks(fontsize=16)\n",
    "    plt.tight_layout;    \n",
    "    return grid[np.argmin(function_values)], np.min(function_values)\n",
    "\n",
    "optimal_alpha, _ = grid_search(np.arange(1,20,1))\n",
    "print(\"An optimal regularisation parameter is {}\".format(optimal_alpha))"
   ]
  },
  {
   "cell_type": "markdown",
   "id": "coordinate-throat",
   "metadata": {},
   "source": [
    "## Gradient descent\n",
    "\n",
    "The goal of this exercise is to minimise the mean squared error via gradient descent. Please follow the following steps.\n",
    "\t\n",
    "1. $\\label{itm:data}$ Download and visualise the height- and weight-information of numerous individuals from the $\\texttt{height-weight-genders.csv}$ dataset. In order to do so, import the $\\texttt{load_measurements_data}$ function from the file $\\texttt{MLHelper.py}$. Use this function to load the data via the command $\\texttt{height, weight, _ = load_measurements_data()}$. Sort the data points in terms of their height for later visualisations. Visualise the data points with your favourite tools from the Matplotlib library."
   ]
  },
  {
   "cell_type": "code",
   "execution_count": 94,
   "id": "quality-function",
   "metadata": {
    "ExecuteTime": {
     "end_time": "2021-07-12T21:34:47.572468Z",
     "start_time": "2021-07-12T21:34:46.814991Z"
    }
   },
   "outputs": [
    {
     "data": {
      "image/png": "[encoded data removed]",
      "text/plain": [
       "<Figure size 432x288 with 1 Axes>"
      ]
     },
     "metadata": {
      "needs_background": "light"
     },
     "output_type": "display_data"
    }
   ],
   "source": [
    "height, weight, _ = ml.𝚕𝚘𝚊𝚍_𝚖𝚎𝚊𝚜𝚞𝚛𝚎𝚖𝚎𝚗𝚝𝚜_𝚍𝚊𝚝𝚊()\n",
    "indices = np.argsort(height)\n",
    "height = height[indices]\n",
    "weight = weight[indices]\n",
    "plt.plot(height, weight, '.', linewidth=3)\n",
    "plt.xlabel('Height in metres', fontsize=16)\n",
    "plt.xticks(fontsize=16)\n",
    "plt.ylabel('Weight in kilogram', fontsize=16)\n",
    "plt.yticks(fontsize=16)\n",
    "plt.tight_layout;"
   ]
  },
  {
   "cell_type": "markdown",
   "id": "amateur-craft",
   "metadata": {},
   "source": [
    "\t\t\n",
    "2. $\\label{itm:regression}$ Standardise the height and weight arrays from Question \\eqref{itm:data}. Use the standardised height array to create a polynomial basis matrix of degree one. You can use your methods from the previous coursework, or use the functions provided in the file $\\texttt{MLHelper.py}$. Compute the optimal weights by performing linear regression as you did in the previous coursework. A function $\\texttt{regression}$ is also provided with the file $\\texttt{MLHelper.py}$."
   ]
  },
  {
   "cell_type": "code",
   "execution_count": 95,
   "id": "identified-shakespeare",
   "metadata": {
    "ExecuteTime": {
     "end_time": "2021-07-12T21:34:47.596640Z",
     "start_time": "2021-07-12T21:34:47.579358Z"
    }
   },
   "outputs": [
    {
     "name": "stdout",
     "output_type": "stream",
     "text": [
      "The optimal weights for MSE regression with a linear model are [[2.27524330e-16 9.24756299e-01]].T.\n"
     ]
    }
   ],
   "source": [
    "def polynomial_basis(inputs, degree=1):\n",
    "    basis_matrix = np.ones((len(inputs), 1))\n",
    "    for counter in range(1, degree + 1):\n",
    "        basis_matrix = np.c_[basis_matrix, np.power(inputs, counter)]\n",
    "    return basis_matrix\n",
    "def polynomial_regression(basis_matrix, outputs):\n",
    "    gram_matrix = basis_matrix.T @ basis_matrix\n",
    "    right_hand_side = basis_matrix.T @ outputs.reshape(-1, 1)\n",
    "    return np.linalg.solve(gram_matrix, right_hand_side)\n",
    "\n",
    "height_standardised, _, _ = standardise(height.reshape(-1, 1))\n",
    "data_matrix = polynomial_basis(height_standardised, 1)\n",
    "data_samples, row_of_means, row_of_stds = standardise(weight.reshape(-1, 1))\n",
    "\n",
    "optimal_weights = polynomial_regression(data_matrix, data_samples)\n",
    "print(\"The optimal weights for MSE regression with a linear model are {w}.T.\".format( \\\n",
    "            w=optimal_weights.T))"
   ]
  },
  {
   "cell_type": "markdown",
   "id": "adapted-resident",
   "metadata": {},
   "source": [
    "\t\t\n",
    "3. Visualise your results from Question $\\eqref{itm:regression}$. Apply the forward model to your optimal weights and use the $\\texttt{de_standardise}$ function from Question \\eqref{itm:standardise}. Plot your results together with the data points."
   ]
  },
  {
   "cell_type": "code",
   "execution_count": 96,
   "id": "little-smell",
   "metadata": {
    "ExecuteTime": {
     "end_time": "2021-07-12T21:34:48.201041Z",
     "start_time": "2021-07-12T21:34:47.603529Z"
    }
   },
   "outputs": [
    {
     "data": {
      "image/png": "[encoded data removed]",
      "text/plain": [
       "<Figure size 432x288 with 1 Axes>"
      ]
     },
     "metadata": {
      "needs_background": "light"
     },
     "output_type": "display_data"
    }
   ],
   "source": [
    "model_output = de_standardise(data_matrix @ optimal_weights, row_of_means, row_of_stds)\n",
    "plt.plot(height, weight, '.', linewidth=3, label='Samples')\n",
    "plt.plot(height, model_output, linewidth=3, label='Linear approximation')\n",
    "plt.xlabel('Height in metres', fontsize=16)\n",
    "plt.xticks(fontsize=16)\n",
    "plt.ylabel('Weight in kilogram', fontsize=16)\n",
    "plt.yticks(fontsize=16)\n",
    "plt.legend()\n",
    "plt.tight_layout;"
   ]
  },
  {
   "cell_type": "markdown",
   "id": "desperate-belly",
   "metadata": {},
   "source": [
    "\t\t\n",
    "4. $\\label{itm:mse}$ Write two functions $\\texttt{mean_squared_error}$ and $\\texttt{mean_squared_error_gradient}$ that implement the mean squared error\tand its gradient as defined in the lecture notes. Both functions take a two-dimensional NumPy array $\\texttt{data_matrix}$, a one-dimensional NumPy array $\\texttt{weights}$ and a one-dimensional NumPy array $\\texttt{outputs}$ as arguments"
   ]
  },
  {
   "cell_type": "code",
   "execution_count": 97,
   "id": "democratic-engine",
   "metadata": {
    "ExecuteTime": {
     "end_time": "2021-07-12T21:34:48.225242Z",
     "start_time": "2021-07-12T21:34:48.205523Z"
    }
   },
   "outputs": [],
   "source": [
    "def mean_squared_error(data_matrix, weights, outputs):\n",
    "    return np.mean((data_matrix @ weights - outputs) ** 2) / 2\n",
    "\n",
    "def mean_squared_error_gradient(data_matrix, weights, outputs):\n",
    "    return (data_matrix.T @ (data_matrix @ weights - outputs)) / len(outputs)"
   ]
  },
  {
   "cell_type": "markdown",
   "id": "advanced-relay",
   "metadata": {},
   "source": [
    "We compute the value *optimal_mean_squared_error* of the mean-squared-error for the optimal weights *optimal_weights* that we have computed earlier."
   ]
  },
  {
   "cell_type": "code",
   "execution_count": 98,
   "id": "broad-heavy",
   "metadata": {
    "ExecuteTime": {
     "end_time": "2021-07-12T21:34:48.240546Z",
     "start_time": "2021-07-12T21:34:48.229507Z"
    }
   },
   "outputs": [
    {
     "name": "stdout",
     "output_type": "stream",
     "text": [
      "The optimal mean squared error is 0.07241289396950212.\n"
     ]
    }
   ],
   "source": [
    "optimal_mean_squared_error = mean_squared_error(data_matrix, optimal_weights, data_samples)\n",
    "print(\"The optimal mean squared error is {mse}.\".format(mse=optimal_mean_squared_error))"
   ]
  },
  {
   "cell_type": "markdown",
   "id": "reasonable-subscription",
   "metadata": {},
   "source": [
    "5. $\\label{itm:gd}$ Implement a function $\\texttt{gradient_descent}$ that performs gradient descent to numerically approximate a minimiser of a convex function $\\texttt{objective}$ with gradient $\\texttt{gradient}$. In addition to the functions $\\texttt{objective}$ and $\\texttt{gradient}$ that take a NumPy array as their argument, the arguments for this function are a NumPy array $\\texttt{initial_weights}$ with initial values for the first iterate, a step-size parameter $\\texttt{step_size}$ for the gradient descent step and a parameter $\\texttt{no_of_iterations}$ that controls the number of iterations. Implement the function so that it returns a NumPy array of the weights obtained after gradient descent together with a list of objective values for all iterates.\t"
   ]
  },
  {
   "cell_type": "code",
   "execution_count": 99,
   "id": "excess-character",
   "metadata": {
    "ExecuteTime": {
     "end_time": "2021-07-12T21:34:48.255757Z",
     "start_time": "2021-07-12T21:34:48.245286Z"
    }
   },
   "outputs": [],
   "source": [
    "def gradient_descent(objective, gradient, initial_weights, step_size=1, \\\n",
    "                     no_of_iterations=100, print_output=10):\n",
    "    objective_values = []\n",
    "    weights = np.copy(initial_weights)\n",
    "    objective_values.append(objective(weights))\n",
    "    for counter in range(no_of_iterations):\n",
    "        weights -= step_size * gradient(weights)\n",
    "        objective_values.append(objective(weights))\n",
    "        if (counter + 1) % print_output == 0:\n",
    "            print(\"Iteration {k}/{m}, objective = {o}.\".format(k=counter+1, \\\n",
    "                    m=no_of_iterations, o=objective_values[counter]))\n",
    "    print(\"Iteration completed after {k}/{m}, objective = {o}.\".format(k=counter + 1, \\\n",
    "                m=no_of_iterations, o=objective_values[counter]))\n",
    "    return weights, objective_values"
   ]
  },
  {
   "cell_type": "markdown",
   "id": "convinced-robin",
   "metadata": {},
   "source": [
    "6. Use the function $\\texttt{gradient_descent}$ from Question \\eqref{itm:gd} to minimise the mean squared error (and thus, to compute a solution to the linear regression problem). Experiment with different initialisations and parameters. How should the step-size parameter be chosen? Compare your result to the reference-solution from Question $\\eqref{itm:regression}$.$\\textbf{Hint}$: make use of your functions from Question $\\eqref{itm:mse}$ and Python's \t\t$\\href{https://docs.python.org/3/tutorial/controlflow.html#lambda-expressions}{lambda function}$.\n",
    "\t"
   ]
  },
  {
   "cell_type": "markdown",
   "id": "tribal-producer",
   "metadata": {},
   "source": [
    "We make use of *mean_squared_error*, *mean_squared_error_gradient* and Python's **lambda**-function to set up the arguments *objective* and *gradient*."
   ]
  },
  {
   "cell_type": "code",
   "execution_count": 100,
   "id": "forbidden-constraint",
   "metadata": {
    "ExecuteTime": {
     "end_time": "2021-07-12T21:34:48.271427Z",
     "start_time": "2021-07-12T21:34:48.263909Z"
    }
   },
   "outputs": [],
   "source": [
    "objective = lambda weights: mean_squared_error(data_matrix, weights, data_samples)\n",
    "gradient = lambda weights: mean_squared_error_gradient(data_matrix, weights, data_samples)"
   ]
  },
  {
   "cell_type": "markdown",
   "id": "dried-novelty",
   "metadata": {},
   "source": [
    "We use the function **gradient_descent** to minimise the mean squared error (and thus, to compute a solution *gradient_descent_weights* to the linear regression problem) with zeros as initial weights."
   ]
  },
  {
   "cell_type": "code",
   "execution_count": 101,
   "id": "collective-devil",
   "metadata": {
    "ExecuteTime": {
     "end_time": "2021-07-12T21:34:48.389366Z",
     "start_time": "2021-07-12T21:34:48.279015Z"
    }
   },
   "outputs": [
    {
     "name": "stdout",
     "output_type": "stream",
     "text": [
      "Iteration 10/100, objective = 0.1365914247068438.\n",
      "Iteration 20/100, objective = 0.08021550503308562.\n",
      "Iteration 30/100, objective = 0.07336150931968392.\n",
      "Iteration 40/100, objective = 0.07252822345027048.\n",
      "Iteration 50/100, objective = 0.07242691534194962.\n",
      "Iteration 60/100, objective = 0.07241459864105705.\n",
      "Iteration 70/100, objective = 0.07241310121776695.\n",
      "Iteration 80/100, objective = 0.07241291916605283.\n",
      "Iteration 90/100, objective = 0.07241289703281446.\n",
      "Iteration 100/100, objective = 0.07241289434192938.\n",
      "Iteration completed after 100/100, objective = 0.07241289434192938.\n"
     ]
    }
   ],
   "source": [
    "initial_weights = np.zeros((data_matrix.shape[1], 1))\n",
    "no_of_iterations=100\n",
    "step_size = (1.9 * len(data_samples))/(np.linalg.norm(data_matrix, 2) ** 2)\n",
    "gradient_descent_weights, objective_values = gradient_descent(objective, gradient, \\\n",
    "                                    initial_weights, step_size, no_of_iterations, 10)"
   ]
  },
  {
   "cell_type": "code",
   "execution_count": 102,
   "id": "broad-synthetic",
   "metadata": {
    "ExecuteTime": {
     "end_time": "2021-07-12T21:34:48.413821Z",
     "start_time": "2021-07-12T21:34:48.394346Z"
    }
   },
   "outputs": [
    {
     "name": "stdout",
     "output_type": "stream",
     "text": [
      "The weights obtained with gradient descent after 100 iterations \n",
      "and step-size 1.8999999999999972 are [[5.24487120e-16 9.24731736e-01]].T\n"
     ]
    }
   ],
   "source": [
    "print(\"The weights obtained with gradient descent after {it} iterations\".format( \\\n",
    "        it=no_of_iterations),\"\\nand step-size {s} are {w}.T\".format(s=step_size, \\\n",
    "        w= gradient_descent_weights.T))"
   ]
  }
 ],
 "metadata": {
  "hide_input": false,
  "kernelspec": {
   "display_name": "Python 3",
   "language": "python",
   "name": "python3"
  },
  "language_info": {
   "codemirror_mode": {
    "name": "ipython",
    "version": 3
   },
   "file_extension": ".py",
   "mimetype": "text/x-python",
   "name": "python",
   "nbconvert_exporter": "python",
   "pygments_lexer": "ipython3",
   "version": "3.8.3"
  },
  "toc": {
   "base_numbering": 1,
   "nav_menu": {},
   "number_sections": false,
   "sideBar": true,
   "skip_h1_title": false,
   "title_cell": "Table of Contents",
   "title_sidebar": "Contents",
   "toc_cell": false,
   "toc_position": {},
   "toc_section_display": true,
   "toc_window_display": true
  },
  "varInspector": {
   "cols": {
    "lenName": 16,
    "lenType": 16,
    "lenVar": 40
   },
   "kernels_config": {
    "python": {
     "delete_cmd_postfix": "",
     "delete_cmd_prefix": "del ",
     "library": "var_list.py",
     "varRefreshCmd": "print(var_dic_list())"
    },
    "r": {
     "delete_cmd_postfix": ") ",
     "delete_cmd_prefix": "rm(",
     "library": "var_list.r",
     "varRefreshCmd": "cat(var_dic_list()) "
    }
   },
   "types_to_exclude": [
    "module",
    "function",
    "builtin_function_or_method",
    "instance",
    "_Feature"
   ],
   "window_display": false
  }
 },
 "nbformat": 4,
 "nbformat_minor": 5
}
