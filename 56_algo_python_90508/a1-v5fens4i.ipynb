{
 "cells": [
  {
   "cell_type": "markdown",
   "source": [
    "# Assignment 1 Space Cows Transportation\n"
   ],
   "metadata": {
    "collapsed": true
   }
  },
  {
   "cell_type": "markdown",
   "source": [
    "\n",
    "## Introduction\n",
    "In this assignment, a colony of Aucks (super-intelligent alien bio-engineers) has landed on Earth and has created new species of farm animals! The Aucks are performing their experiments on Earth, and plan on transporting the mutant animals back to their home planet of Aurock. In this problem set, you will implement algorithms to figure out how the aliens should shuttle their experimental animals back across space.\n",
    "\n"
   ],
   "metadata": {
    "collapsed": true
   }
  },
  {
   "cell_type": "markdown",
   "source": [
    "## Getting Started \n",
    "\n",
    "Download Assignment1.zip from the website.\n",
    "\n",
    "Please do not rename the provided files, change any of the provided helper functions, change function/method names, or delete provided docstrings. You will need to keep ```a1_cow_data.txt```, and ```a1_cow_data_1.txt```, in the same folder as ```a1.ipynb```.\n"
   ],
   "metadata": {}
  },
  {
   "cell_type": "markdown",
   "source": [
    "## Problem Set Overview\n",
    "\n",
    "The aliens have succeeded in breeding cows that jump over the moon! Now they want to take home their mutant cows. The aliens want to take all chosen cows back, but their spaceship has a weight limit and they can only travel a limitted number of trips they have to take across the universe. Somehow, the aliens have evolved and developed breeding technology to make cows with integer weights and IQs.\n",
    "\n",
    "The data for the cows to be transported is stored in ```a1_cow_data.txt```, and another set of cows for another separate transport are in ```a1_cow_data_1.txt```. (You may use the two files to read data and test your implementation individually). All of your code for the problem solving in this assignment should go into ```a1.ipynb```--you need to expand the given notebook to include your Python code and discussion notes. \n"
   ],
   "metadata": {}
  },
  {
   "cell_type": "markdown",
   "source": [
    "# Problem 1: Defining Cow Class\n",
    "\n",
    "First we need to define a **Cow** class.  Each cow object state is described using name as a string and weight as an int. (You may check the Food class definition in the lecture notes as a reference when you are working on defining the Cow class.) \n",
    "\n",
    "Note that I provided some skeleton code below so that you may expand based on what is provided.  "
   ],
   "metadata": {}
  },
  {
   "cell_type": "code",
   "execution_count": 1,
   "source": [
    "#Problem 1\r\n",
    "\r\n",
    "class Cow(object):\r\n",
    "    \"\"\"\r\n",
    "    Cow is defined as a means to organize cow data including name and weight as \r\n",
    "    well as accessing name and weight from a cow object\r\n",
    "\r\n",
    "    Cow object data\r\n",
    "    name - cow name as a string\r\n",
    "    weight - cow weight as an int\r\n",
    "    IQ -cow intelligence as an int\r\n",
    "\r\n",
    "    \"\"\"\r\n",
    "    pass\r\n",
    "    # TODO: Your code here\r\n",
    "\r\n",
    "    def __init__(name, weight, IQ):\r\n",
    "        Cow.name = str(name)\r\n",
    "        Cow.weight = int(weight)\r\n",
    "        Cow.IQ = int(IQ)\r\n",
    "\r\n",
    "#test code\r\n",
    "#mary= Cow('mary', 3, 120)\r\n",
    "#print(mary)"
   ],
   "outputs": [],
   "metadata": {}
  },
  {
   "cell_type": "markdown",
   "source": [
    "# Problem 2: Loading Cow Data\n",
    "\n",
    "Second we need to load the cow data from the data file ```a1_cow_data.txt```.\n",
    "￼￼￼￼￼￼￼￼￼\n",
    "The file ```a1_cow_data_1.txt``` is given as another file that you can read and test from, but for now, just work with a1_cow_data.txt\n",
    "\n",
    "You can expect the data to be formatted in triples of ```x,y,z``` on each line, where ```x``` is the name of the cow, ```y``` is a number indicating how much the cow weighs in tons, and ```z``` is a number indicating the cow's IQ value. Here are the few lines\n",
    "of ```a1_cow_data.txt```: \n",
    "\n",
    "<code>\n",
    "Maggie,3,165\n",
    "Herman,7,126\n",
    "Betsy,9,122\n",
    "Oreo,6,104\n",
    "Moo Moo,3,151\n",
    "Milkshake,2,117\n",
    "Millie,5,84\n",
    "Lola,2,131\n",
    "Florence,2,101\n",
    "Henrietta,9,106\n",
    "</code>\n",
    "\n",
    "You can assume that all the cows have unique names.\n",
    "Hint: If you don’t remember how to read lines from a file, check out the online python documentation, which has a chapter on **Input and Output** that includes file I/O here: https://docs.python.org/3/tutorial/inputoutput.html\n",
    "\n",
    "Some functions that may be helpful:\n",
    "\n",
    "<code>\n",
    "str.split\n",
    "open\n",
    "file.readline\n",
    "file.close\n",
    "</code>\n",
    "\n",
    "By running the test code, which is provided following the definition, your code should get output like below\n",
    "<code>\n",
    " (Maggie, 3, 165)\n",
    " (Herman, 7, 126)\n",
    " (Betsy, 9, 122)\n",
    " (Oreo, 6, 104)\n",
    " (Moo Moo, 3, 151)\n",
    " (Milkshake, 2, 117)\n",
    " (Millie, 5, 84)\n",
    " (Lola, 2, 131)\n",
    " (Florence, 2, 101)\n",
    " (Henrietta, 9, 106)\n",
    "</code>\n",
    "\n",
    "The test code is like below \n",
    "```Python\n",
    "data = load_cows(\"a1_cow_data.txt\")\n",
    "for i in range(len(data)):\n",
    "    print(data[i])\n",
    "```\n",
    " \n",
    "\n"
   ],
   "metadata": {}
  },
  {
   "cell_type": "code",
   "execution_count": 58,
   "source": [
    "! cat \"a1_cow_data.txt\""
   ],
   "outputs": [
    {
     "output_type": "stream",
     "name": "stdout",
     "text": [
      "Maggie,3,165\r\n",
      "Herman,7,126\r\n",
      "Betsy,9,122\r\n",
      "Oreo,6,104\r\n",
      "Moo Moo,3,151\r\n",
      "Milkshake,2,117\r\n",
      "Millie,5,84\r\n",
      "Lola,2,131\r\n",
      "Florence,2,101\r\n",
      "Henrietta,9,106\r\n"
     ]
    }
   ],
   "metadata": {}
  },
  {
   "cell_type": "code",
   "execution_count": 19,
   "source": [
    "! cat \"a1_cow_data_1.txt\"\n"
   ],
   "outputs": [
    {
     "output_type": "stream",
     "name": "stdout",
     "text": [
      "Miss Moo-dy,3,172\r\n",
      "Milkshake,4,102\r\n",
      "Lotus,10,149\r\n",
      "Miss Bella,2,103\r\n",
      "Horns,9,81\r\n",
      "Betsy,5,97\r\n",
      "Rose,3,155\r\n",
      "Dottie,6,91\r\n"
     ]
    }
   ],
   "metadata": {}
  },
  {
   "cell_type": "code",
   "execution_count": 29,
   "source": [
    "# Problem 2\n",
    "def load_cows(filename):\n",
    "    \"\"\"\n",
    "    Read the contents of the given file.  Assumes the file contents contain\n",
    "    data in the form of comma-separated triples composed of cow name, weight, and iq, and return a\n",
    "    list containing Cow objects each of which has has a name, a weight, and an iq\n",
    "\n",
    "    Parameters:\n",
    "    filename - the name of the data file as a string\n",
    "\n",
    "    Returns:\n",
    "    a list of Cow objects\n",
    "    \"\"\"\n",
    "    pass\n",
    "    # TODO: Your code here\n",
    "\n",
    "\n",
    "data = load_cows(\"a1_cow_data.txt\")\n",
    "for i in range(len(data)):\n",
    "    print(data[i])\n",
    "\n"
   ],
   "outputs": [
    {
     "output_type": "stream",
     "name": "stdout",
     "text": [
      " (Maggie, 3, 165)\n",
      " (Herman, 7, 126)\n",
      " (Betsy, 9, 122)\n",
      " (Oreo, 6, 104)\n",
      " (Moo Moo, 3, 151)\n",
      " (Milkshake, 2, 117)\n",
      " (Millie, 5, 84)\n",
      " (Lola, 2, 131)\n",
      " (Florence, 2, 101)\n",
      " (Henrietta, 9, 106)\n"
     ]
    }
   ],
   "metadata": {}
  },
  {
   "cell_type": "markdown",
   "source": [
    "### Problem 3: Greedy Cow Transport \n",
    "\n",
    "One way of transporting cows is to always pick the cow that has the most intelligence density (IQ/weight) onto the spaceship first. This is an example of a ```greedy``` algorithm.  You may choose a criteria to use, which you think suitable to accomplish the goal ---to transport the maximum intelligence values of cows back home.\n",
    "\n",
    "Implement a greedy algorithm for transporting the cows back across space in\n",
    "**greedy_cow_transport**. The constraints include the weight limit for each space trip and the total number of trips the aliens can make.  The result should be a pair composed of two values: the first value presents the total sum of the IQs of the cows transported and the second is a list of lists, with each inner list containing cows (cow objects) transported on a particular trip \n",
    "\n",
    "\n",
    "\n",
    "\n",
    "\n"
   ],
   "metadata": {}
  },
  {
   "cell_type": "code",
   "execution_count": null,
   "source": [
    "# Problem 3\n",
    "\n",
    "def greedy_cow_transport(cows,oneTripWeightLimit=10, numberOfTrips=3):\n",
    "    \"\"\"\n",
    "    Uses a greedy heuristic to determine an allocation of cows that attempts to\n",
    "    maxminize the intelligence (sum of IQs) of the cows that can be transported back to Aurock. \n",
    "    The returned allocation of cows may or may not be optimal.\n",
    "    The greedy heuristic should follow the following method:\n",
    "\n",
    "    1. As long as the current trip can fit another cow based on your critera, add the cow that will fit\n",
    "        to the trip\n",
    "    2. Once the trip is full, begin a new trip to transport the remaining cows\n",
    "    3. Stop the trasportation after the number of limitted trips \n",
    "\n",
    "    Does not mutate the given dictionary of cows.\n",
    "\n",
    "    Parameters:\n",
    "    cows - a list of cow objects\n",
    "    oneTripWeightLimit - weight limit of the spaceship (an int) for one trip\n",
    "    numberOfTrips -- limit of number of trips for the whole transportation\n",
    "    \n",
    "    Returns:\n",
    "    A tuple composed of a value and a list. \n",
    "    The first value presents the total sum of the IQs of the cows transported\n",
    "    A second is a list of lists, with each inner list containing cows (cow objects)\n",
    "    transported on a particular trip and the overall list containing all the\n",
    "    trips\n",
    "    \"\"\"\n",
    "    pass\n",
    "    # TODO: Your code here\n",
    "\n",
    "\n",
    "\n",
    "cows = load_cows(\"a1_cow_data.txt\")\n",
    "totalValue, trips = greedy_cow_transport(cows)\n",
    "for i in range(len(trips)):\n",
    "    print(\"Trip \" + str(i) + \":\")\n",
    "    for j in range(len(trips[i])):\n",
    "        print(trips[i][j])\n",
    "    print(\"\\n\")\n",
    "print(\"Total IQs transported = \" + str(totalValue))"
   ],
   "outputs": [],
   "metadata": {
    "collapsed": true
   }
  },
  {
   "cell_type": "markdown",
   "source": [
    "### Problem 4: Writeup\n",
    "\n",
    "Answer the following questions:\n",
    "\n",
    "<li>Does the greedy algorithm return the optimal solution? </li>\n",
    "<li>If yes, why?\n",
    "<li>If not, what could be a solution that can find the optimial solution?  </li>\n",
    "\n",
    "Note that you can write your answers to the questions in this notebook document with your code implementations.   "
   ],
   "metadata": {}
  },
  {
   "cell_type": "markdown",
   "source": [
    "# Turn-in\n",
    "You need to turn in below for your submission:\n",
    "\n",
    "* Your notebook file that contains the code and presentation \n",
    "* Any other supplementary documents you want to submit to D2L Assignments folder \n",
    "\n",
    "You need to package the files into a zip archive and upload the zip file to D2L assignment folder <b>Assignment 1</b>"
   ],
   "metadata": {}
  }
 ],
 "metadata": {
  "kernelspec": {
   "name": "python385jvsc74a57bd031d092aa056c2bb9d06167525424aaa28dcf5d150ede851e97746b3066ba82fb",
   "display_name": "Python 3.8.5 64-bit ('base': conda)"
  },
  "language_info": {
   "codemirror_mode": {
    "name": "ipython",
    "version": 3
   },
   "file_extension": ".py",
   "mimetype": "text/x-python",
   "name": "python",
   "nbconvert_exporter": "python",
   "pygments_lexer": "ipython3",
   "version": "3.8.5"
  }
 },
 "nbformat": 4,
 "nbformat_minor": 2
}