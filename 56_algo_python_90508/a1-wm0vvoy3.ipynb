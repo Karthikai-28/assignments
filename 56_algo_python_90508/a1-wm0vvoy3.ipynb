{
 "cells": [
  {
   "cell_type": "markdown",
   "source": [
    "# Assignment 1 Space Cows Transportation\n"
   ],
   "metadata": {
    "collapsed": true
   }
  },
  {
   "cell_type": "markdown",
   "source": [
    "\n",
    "## Introduction\n",
    "In this assignment, a colony of Aucks (super-intelligent alien bio-engineers) has landed on Earth and has created new species of farm animals! The Aucks are performing their experiments on Earth, and plan on transporting the mutant animals back to their home planet of Aurock. In this problem set, you will implement algorithms to figure out how the aliens should shuttle their experimental animals back across space.\n",
    "\n"
   ],
   "metadata": {
    "collapsed": true
   }
  },
  {
   "cell_type": "markdown",
   "source": [
    "## Getting Started \n",
    "\n",
    "Download Assignment1.zip from the website.\n",
    "\n",
    "Please do not rename the provided files, change any of the provided helper functions, change function/method names, or delete provided docstrings. You will need to keep ```a1_cow_data.txt```, and ```a1_cow_data_1.txt```, in the same folder as ```a1.ipynb```.\n"
   ],
   "metadata": {}
  },
  {
   "cell_type": "markdown",
   "source": [
    "## Problem Set Overview\n",
    "\n",
    "The aliens have succeeded in breeding cows that jump over the moon! Now they want to take home their mutant cows. The aliens want to take all chosen cows back, but their spaceship has a weight limit and they can only travel a limitted number of trips they have to take across the universe. Somehow, the aliens have evolved and developed breeding technology to make cows with integer weights and IQs.\n",
    "\n",
    "The data for the cows to be transported is stored in ```a1_cow_data.txt```, and another set of cows for another separate transport are in ```a1_cow_data_1.txt```. (You may use the two files to read data and test your implementation individually). All of your code for the problem solving in this assignment should go into ```a1.ipynb```--you need to expand the given notebook to include your Python code and discussion notes. \n"
   ],
   "metadata": {}
  },
  {
   "cell_type": "markdown",
   "source": [
    "# Problem 1: Defining Cow Class\n",
    "\n",
    "First we need to define a **Cow** class.  Each cow object state is described using name as a string and weight as an int. (You may check the Food class definition in the lecture notes as a reference when you are working on defining the Cow class.) \n",
    "\n",
    "Note that I provided some skeleton code below so that you may expand based on what is provided.  "
   ],
   "metadata": {}
  },
  {
   "cell_type": "code",
   "execution_count": 38,
   "source": [
    "#Problem 1\n",
    "import time\n",
    "\n",
    "def partitions(set_):\n",
    "    if not set_:\n",
    "        yield []\n",
    "        return\n",
    "    for i in range(2**len(set_)//2):\n",
    "        parts = [set(), set()]\n",
    "        for item in set_:\n",
    "            parts[i&1].add(item)\n",
    "            i >>= 1\n",
    "        for b in partitions(parts[1]):\n",
    "            yield [parts[0]]+b\n"
   ],
   "outputs": [],
   "metadata": {}
  },
  {
   "cell_type": "code",
   "execution_count": 39,
   "source": [
    "def get_partitions(set_):\n",
    "    for partition in partitions(set_):\n",
    "        yield [list(elt) for elt in partition]\n",
    "\n",
    "for item in (get_partitions(['a','b','c','d'])):\n",
    "    print(item)"
   ],
   "outputs": [
    {
     "output_type": "stream",
     "name": "stdout",
     "text": [
      "[['c', 'd', 'a', 'b']]\n",
      "[['c', 'd', 'b'], ['a']]\n",
      "[['c', 'd', 'a'], ['b']]\n",
      "[['c', 'd'], ['a', 'b']]\n",
      "[['c', 'd'], ['b'], ['a']]\n",
      "[['d', 'a', 'b'], ['c']]\n",
      "[['d', 'b'], ['c', 'a']]\n",
      "[['d', 'b'], ['a'], ['c']]\n",
      "[['d', 'a'], ['c', 'b']]\n",
      "[['d', 'a'], ['b'], ['c']]\n",
      "[['d'], ['c', 'a', 'b']]\n",
      "[['d'], ['a', 'b'], ['c']]\n",
      "[['d'], ['c', 'b'], ['a']]\n",
      "[['d'], ['b'], ['c', 'a']]\n",
      "[['d'], ['b'], ['a'], ['c']]\n"
     ]
    }
   ],
   "metadata": {}
  },
  {
   "cell_type": "markdown",
   "source": [
    "# Problem 2: Loading Cow Data\n",
    "\n",
    "Second we need to load the cow data from the data file ```a1_cow_data.txt```.\n",
    "￼￼￼￼￼￼￼￼￼\n",
    "The file ```a1_cow_data_1.txt``` is given as another file that you can read and test from, but for now, just work with a1_cow_data.txt\n",
    "\n",
    "You can expect the data to be formatted in triples of ```x,y,z``` on each line, where ```x``` is the name of the cow, ```y``` is a number indicating how much the cow weighs in tons, and ```z``` is a number indicating the cow's IQ value. Here are the few lines\n",
    "of ```a1_cow_data.txt```: \n",
    "\n",
    "<code>\n",
    "Maggie,3,165\n",
    "Herman,7,126\n",
    "Betsy,9,122\n",
    "Oreo,6,104\n",
    "Moo Moo,3,151\n",
    "Milkshake,2,117\n",
    "Millie,5,84\n",
    "Lola,2,131\n",
    "Florence,2,101\n",
    "Henrietta,9,106\n",
    "</code>\n",
    "\n",
    "You can assume that all the cows have unique names.\n",
    "Hint: If you don’t remember how to read lines from a file, check out the online python documentation, which has a chapter on **Input and Output** that includes file I/O here: https://docs.python.org/3/tutorial/inputoutput.html\n",
    "\n",
    "Some functions that may be helpful:\n",
    "\n",
    "<code>\n",
    "str.split\n",
    "open\n",
    "file.readline\n",
    "file.close\n",
    "</code>\n",
    "\n",
    "By running the test code, which is provided following the definition, your code should get output like below\n",
    "<code>\n",
    " (Maggie, 3, 165)\n",
    " (Herman, 7, 126)\n",
    " (Betsy, 9, 122)\n",
    " (Oreo, 6, 104)\n",
    " (Moo Moo, 3, 151)\n",
    " (Milkshake, 2, 117)\n",
    " (Millie, 5, 84)\n",
    " (Lola, 2, 131)\n",
    " (Florence, 2, 101)\n",
    " (Henrietta, 9, 106)\n",
    "</code>\n",
    "\n",
    "The test code is like below \n",
    "```Python\n",
    "data = load_cows(\"a1_cow_data.txt\")\n",
    "for i in range(len(data)):\n",
    "    print(data[i])\n",
    "```\n",
    " \n",
    "\n"
   ],
   "metadata": {}
  },
  {
   "cell_type": "code",
   "execution_count": 40,
   "source": [
    "! cat \"a1cowdata.txt\""
   ],
   "outputs": [
    {
     "output_type": "stream",
     "name": "stdout",
     "text": [
      "Maggie,3,165\n",
      "Herman,7,126\n",
      "Betsy,9,122\n",
      "Oreo,6,104\n",
      "Moo Moo,3,151\n",
      "Milkshake,2,117\n",
      "Millie,5,84\n",
      "Lola,2,131\n",
      "Florence,2,101\n",
      "Henrietta,9,106\n"
     ]
    }
   ],
   "metadata": {}
  },
  {
   "cell_type": "code",
   "execution_count": 41,
   "source": [
    "! cat \"a1cowdata1.txt\"\n"
   ],
   "outputs": [
    {
     "output_type": "stream",
     "name": "stdout",
     "text": [
      "Miss Moo-dy,3,172\n",
      "Milkshake,4,102\n",
      "Lotus,10,149\n",
      "Miss Bella,2,103\n",
      "Horns,9,81\n",
      "Betsy,5,97\n",
      "Rose,3,155\n",
      "Dottie,6,91\n"
     ]
    }
   ],
   "metadata": {}
  },
  {
   "cell_type": "code",
   "execution_count": 42,
   "source": [
    "# Problem 2\n",
    "def load_cows(filename):\n",
    "    \"\"\"\n",
    "    Read the contents of the given file.  Assumes the file contents contain\n",
    "    data in the form of comma-separated triples composed of cow name, weight, and iq, and return a\n",
    "    list containing Cow objects each of which has has a name, a weight, and an iq\n",
    "\n",
    "    Parameters:\n",
    "    filename - the name of the data file as a string\n",
    "\n",
    "    Returns:\n",
    "    a list of Cow objects\n",
    "    \"\"\"\n",
    "    cow_dict = dict()\n",
    "\n",
    "    f = open(filename, 'r')\n",
    "    \n",
    "    for line in f:\n",
    "        line_data = line.split(',')\n",
    "        cow_dict[line_data[0]] = int(line_data[1])\n",
    "    return cow_dict"
   ],
   "outputs": [],
   "metadata": {}
  },
  {
   "cell_type": "markdown",
   "source": [
    "### Problem 3: Greedy Cow Transport \n",
    "\n",
    "One way of transporting cows is to always pick the cow that has the most intelligence density (IQ/weight) onto the spaceship first. This is an example of a ```greedy``` algorithm.  You may choose a criteria to use, which you think suitable to accomplish the goal ---to transport the maximum intelligence values of cows back home.\n",
    "\n",
    "Implement a greedy algorithm for transporting the cows back across space in\n",
    "**greedy_cow_transport**. The constraints include the weight limit for each space trip and the total number of trips the aliens can make.  The result should be a pair composed of two values: the first value presents the total sum of the IQs of the cows transported and the second is a list of lists, with each inner list containing cows (cow objects) transported on a particular trip \n",
    "\n",
    "\n",
    "\n",
    "\n",
    "\n"
   ],
   "metadata": {}
  },
  {
   "cell_type": "code",
   "execution_count": 53,
   "source": [
    "# Problem 3\n",
    "\n",
    "def greedy_cow_transport(cows, limit=10):\n",
    "    \"\"\"\n",
    "    Uses a greedy heuristic to determine an allocation of cows that attempts to\n",
    "    minimize the number of spaceship trips needed to transport all the cows. The\n",
    "    returned allocation of cows may or may not be optimal.\n",
    "    The greedy heuristic should follow the following method:\n",
    "\n",
    "    1. As long as the current trip can fit another cow, add the largest cow that will fit\n",
    "        to the trip\n",
    "    2. Once the trip is full, begin a new trip to transport the remaining cows\n",
    "\n",
    "    Does not mutate the given dictionary of cows.\n",
    "\n",
    "    Parameters:\n",
    "    cows - a dictionary of name (string), weight (int) pairs\n",
    "    limit - weight limit of the spaceship (an int)\n",
    "    \n",
    "    Returns:\n",
    "    A list of lists, with each inner list containing the names of cows\n",
    "    transported on a particular trip and the overall list containing all the\n",
    "    trips\n",
    "    \"\"\"\n",
    "    # TODO: Your code here\n",
    "    trips = []\n",
    "    cowsCopy = cows.copy()\n",
    "    sortedCows = sorted(cowsCopy.items(), key=lambda x: x[1], reverse = True)\n",
    "    while sum(cowsCopy.values()) > 0:\n",
    "        ship = []\n",
    "        total = 0\n",
    "        for cow, value in sortedCows:\n",
    "            if cowsCopy[cow] != 0 and value + total <= limit:\n",
    "                ship.append(cow)\n",
    "                total += value\n",
    "                cowsCopy[cow] = 0\n",
    "        trips.append(ship)\n",
    "    return trips"
   ],
   "outputs": [],
   "metadata": {
    "collapsed": true
   }
  },
  {
   "cell_type": "code",
   "execution_count": 54,
   "source": [
    "def brute_force_cow_transport(cows,limit=10):\n",
    "    \"\"\"\n",
    "    Finds the allocation of cows that minimizes the number of spaceship trips\n",
    "    via brute force.  The brute force algorithm should follow the following method:\n",
    "    1. Enumerate all possible ways that the cows can be divided into separate trips \n",
    "        Use the given get_partitions function in ps1_partition.py to help you!\n",
    "    2. Select the allocation that minimizes the number of trips without making any trip\n",
    "        that does not obey the weight limitation\n",
    "            \n",
    "    Does not mutate the given dictionary of cows.\n",
    "    Parameters:\n",
    "    cows - a dictionary of name (string), weight (int) pairs\n",
    "    limit - weight limit of the spaceship (an int)\n",
    "    \n",
    "    Returns:\n",
    "    A list of lists, with each inner list containing the names of cows\n",
    "    transported on a particular trip and the overall list containing all the\n",
    "    trips\n",
    "    \"\"\"\n",
    "    trips = []\n",
    "    power_list = sorted(get_partitions(cows), key = len)\n",
    "    possibilities = []\n",
    "    for i in power_list:\n",
    "        ship = []\n",
    "        for j in i:\n",
    "            ship_weights = []\n",
    "            for k in j:\n",
    "                ship_weights.append(cows[k])\n",
    "            ship.append(sum(ship_weights))\n",
    "        if all(d <= limit for d in ship):\n",
    "            possibilities.append(i)\n",
    "    pruned_possibilities = []\n",
    "    for k in possibilities:\n",
    "        if k not in pruned_possibilities:\n",
    "            pruned_possibilities.append(k)\n",
    "    min_list_len = min(map(len, pruned_possibilities))\n",
    "    for l in pruned_possibilities:\n",
    "        if len(l) == min_list_len:\n",
    "            return l"
   ],
   "outputs": [],
   "metadata": {}
  },
  {
   "cell_type": "code",
   "execution_count": 55,
   "source": [
    "def compare_cow_transport_algorithms():\n",
    "    \"\"\"\n",
    "    Using the data from ps1_cow_data.txt and the specified weight limit, run your\n",
    "    greedy_cow_transport and brute_force_cow_transport functions here. Use the\n",
    "    default weight limits of 10 for both greedy_cow_transport and\n",
    "    brute_force_cow_transport.\n",
    "    \n",
    "    Print out the number of trips returned by each method, and how long each\n",
    "    method takes to run in seconds.\n",
    "    Returns:\n",
    "    Does not return anything.\n",
    "    \"\"\"\n",
    "    greedy_start = time.time()\n",
    "    greedy_results = greedy_cow_transport(cows, limit = 10)\n",
    "    greedy_end = time.time()\n",
    "    print('Greedy Algorithm time:', greedy_end -greedy_start)\n",
    "    brute_force_start = time.time()\n",
    "    brute_force_results = brute_force_cow_transport(cows, limit = 10)\n",
    "    brute_force_end = time.time()\n",
    "    print('Brute force time:', brute_force_end - brute_force_start)\n",
    "    print('Greedy Algorithm results:', greedy_results)\n",
    "    print('Number of trips returned by Greedy Algorithm:', len(greedy_results))\n",
    "    print('Brute Force Algorithm results:', brute_force_results)\n",
    "    print('Number of trips returned by Brute Force Algorithm:', len(brute_force_results))"
   ],
   "outputs": [],
   "metadata": {}
  },
  {
   "cell_type": "code",
   "execution_count": 56,
   "source": [
    "cows = load_cows(\"a1cowdata.txt\")\n",
    "\n",
    "print(compare_cow_transport_algorithms())"
   ],
   "outputs": [
    {
     "output_type": "stream",
     "name": "stdout",
     "text": [
      "Greedy Algorithm time: 2.2172927856445312e-05\n",
      "Brute force time: 1.1840760707855225\n",
      "Greedy Algorithm results: [['Betsy'], ['Henrietta'], ['Herman', 'Maggie'], ['Oreo', 'Moo Moo'], ['Millie', 'Milkshake', 'Lola'], ['Florence']]\n",
      "Number of trips returned by Greedy Algorithm: 6\n",
      "Brute Force Algorithm results: [['Henrietta'], ['Millie', 'Maggie', 'Florence'], ['Betsy'], ['Lola', 'Oreo', 'Milkshake'], ['Moo Moo', 'Herman']]\n",
      "Number of trips returned by Brute Force Algorithm: 5\n",
      "None\n"
     ]
    }
   ],
   "metadata": {}
  },
  {
   "cell_type": "markdown",
   "source": [
    "### Problem 4: Writeup\n",
    "\n",
    "Answer the following questions:\n",
    "\n",
    "<li>Does the greedy algorithm return the optimal solution? </li>\n",
    "<li>If yes, why?\n",
    "<li>If not, what could be a solution that can find the optimial solution?  </li>\n",
    "\n",
    "Note that you can write your answers to the questions in this notebook document with your code implementations.   "
   ],
   "metadata": {}
  },
  {
   "cell_type": "markdown",
   "source": [
    "## Greedy algorithm works really for this transportation problem. When it combines with Greedy algorithm it works more feasible.\n",
    "\n",
    "## Here, we are using brute force method to transport all the cows with the minimal time.\n",
    "\n",
    "## Transportation details and other required details are displayed."
   ],
   "metadata": {}
  },
  {
   "cell_type": "markdown",
   "source": [
    "# Turn-in\n",
    "You need to turn in below for your submission:\n",
    "\n",
    "* Your notebook file that contains the code and presentation \n",
    "* Any other supplementary documents you want to submit to D2L Assignments folder \n",
    "\n",
    "You need to package the files into a zip archive and upload the zip file to D2L assignment folder <b>Assignment 1</b>"
   ],
   "metadata": {}
  }
 ],
 "metadata": {
  "kernelspec": {
   "name": "python3",
   "display_name": "Python 3.6.9 64-bit"
  },
  "language_info": {
   "codemirror_mode": {
    "name": "ipython",
    "version": 3
   },
   "file_extension": ".py",
   "mimetype": "text/x-python",
   "name": "python",
   "nbconvert_exporter": "python",
   "pygments_lexer": "ipython3",
   "version": "3.6.9"
  },
  "interpreter": {
   "hash": "31f2aee4e71d21fbe5cf8b01ff0e069b9275f58929596ceb00d14d90e3e16cd6"
  }
 },
 "nbformat": 4,
 "nbformat_minor": 2
}