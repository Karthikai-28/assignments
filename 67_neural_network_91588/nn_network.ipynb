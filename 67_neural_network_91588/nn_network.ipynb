{
 "cells": [
  {
   "cell_type": "code",
   "execution_count": 45,
   "source": [
    "import numpy as np\n",
    "import pandas as pd\n",
    "from scipy import sparse\n",
    "import matplotlib.pyplot as plt\n",
    "import seaborn as sns\n",
    "import time\n",
    "\n",
    "from sklearn.pipeline import Pipeline, make_pipeline\n",
    "from sklearn.feature_extraction.text import TfidfVectorizer\n",
    "from sklearn.base import BaseEstimator, ClassifierMixin\n",
    "from sklearn.linear_model import LogisticRegression\n",
    "from sklearn.model_selection import cross_val_score\n",
    "from sklearn import metrics\n",
    "from sklearn import preprocessing\n",
    "from sklearn.metrics import roc_auc_score\n",
    "from sklearn import svm\n",
    "\n",
    "from keras.preprocessing.text import Tokenizer\n",
    "from keras.preprocessing.sequence import pad_sequences\n",
    "from keras.layers import Dense, Input, LSTM, Embedding, Dropout, Activation, SpatialDropout1D, GRU\n",
    "from keras.layers import Bidirectional, GlobalAveragePooling1D, GlobalMaxPooling1D, concatenate\n",
    "from keras.models import Model\n",
    "from keras import initializers, regularizers, constraints, optimizers, layers\n",
    "from sklearn.neighbors import KNeighborsClassifier\n",
    "from keras.callbacks import EarlyStopping, ModelCheckpoint\n",
    "from sklearn.metrics import accuracy_score\n",
    "from sklearn.naive_bayes import MultinomialNB\n",
    "from keras.models import Sequential\n",
    "%matplotlib inline"
   ],
   "outputs": [],
   "metadata": {}
  },
  {
   "cell_type": "code",
   "execution_count": 5,
   "source": [
    "business = pd.read_csv(\"/home/kai/yelp_dataset/business.csv\")\n",
    "review_all = pd.read_csv(\"/home/kai/yelp_dataset/review.csv\")"
   ],
   "outputs": [],
   "metadata": {}
  },
  {
   "cell_type": "code",
   "execution_count": 6,
   "source": [
    "a = business[business['categories'].str.contains('Restaurant') == True]\n",
    "rev = review_all[review_all.business_id.isin(a['business_id']) == True]"
   ],
   "outputs": [],
   "metadata": {}
  },
  {
   "cell_type": "code",
   "execution_count": 7,
   "source": [
    "rev_samp = rev.sample(n = 350000, random_state = 42)\n",
    "train = rev_samp[0:280000]\n",
    "test = rev_samp[280000:]"
   ],
   "outputs": [],
   "metadata": {}
  },
  {
   "cell_type": "code",
   "execution_count": 8,
   "source": [
    "train.shape, test.shape"
   ],
   "outputs": [
    {
     "output_type": "execute_result",
     "data": {
      "text/plain": [
       "((280000, 9), (70000, 9))"
      ]
     },
     "metadata": {},
     "execution_count": 8
    }
   ],
   "metadata": {}
  },
  {
   "cell_type": "code",
   "execution_count": 9,
   "source": [
    "train = train[['text', 'stars']]\n",
    "train['stars'].hist();train.head()"
   ],
   "outputs": [
    {
     "output_type": "execute_result",
     "data": {
      "text/html": [
       "<div>\n",
       "<style scoped>\n",
       "    .dataframe tbody tr th:only-of-type {\n",
       "        vertical-align: middle;\n",
       "    }\n",
       "\n",
       "    .dataframe tbody tr th {\n",
       "        vertical-align: top;\n",
       "    }\n",
       "\n",
       "    .dataframe thead th {\n",
       "        text-align: right;\n",
       "    }\n",
       "</style>\n",
       "<table border=\"1\" class=\"dataframe\">\n",
       "  <thead>\n",
       "    <tr style=\"text-align: right;\">\n",
       "      <th></th>\n",
       "      <th>text</th>\n",
       "      <th>stars</th>\n",
       "    </tr>\n",
       "  </thead>\n",
       "  <tbody>\n",
       "    <tr>\n",
       "      <th>2760442</th>\n",
       "      <td>Second time here.... first time had the pulled...</td>\n",
       "      <td>5</td>\n",
       "    </tr>\n",
       "    <tr>\n",
       "      <th>3014452</th>\n",
       "      <td>Great place. Like their sauce and lunch specia...</td>\n",
       "      <td>5</td>\n",
       "    </tr>\n",
       "    <tr>\n",
       "      <th>2876979</th>\n",
       "      <td>So goooooooood and so simple! I love their pel...</td>\n",
       "      <td>5</td>\n",
       "    </tr>\n",
       "    <tr>\n",
       "      <th>469097</th>\n",
       "      <td>We stopped in for a late lunch on a Tuesday af...</td>\n",
       "      <td>3</td>\n",
       "    </tr>\n",
       "    <tr>\n",
       "      <th>4971248</th>\n",
       "      <td>A great option to try hakka chinese since its ...</td>\n",
       "      <td>4</td>\n",
       "    </tr>\n",
       "  </tbody>\n",
       "</table>\n",
       "</div>"
      ],
      "text/plain": [
       "                                                      text  stars\n",
       "2760442  Second time here.... first time had the pulled...      5\n",
       "3014452  Great place. Like their sauce and lunch specia...      5\n",
       "2876979  So goooooooood and so simple! I love their pel...      5\n",
       "469097   We stopped in for a late lunch on a Tuesday af...      3\n",
       "4971248  A great option to try hakka chinese since its ...      4"
      ]
     },
     "metadata": {},
     "execution_count": 9
    },
    {
     "output_type": "display_data",
     "data": {
      "image/png": "[encoded data removed]",
      "text/plain": [
       "<Figure size 432x288 with 1 Axes>"
      ]
     },
     "metadata": {
      "needs_background": "light"
     }
    }
   ],
   "metadata": {}
  },
  {
   "cell_type": "code",
   "execution_count": 10,
   "source": [
    "train = pd.get_dummies(train, columns = ['stars'])\n",
    "train.head()"
   ],
   "outputs": [
    {
     "output_type": "execute_result",
     "data": {
      "text/html": [
       "<div>\n",
       "<style scoped>\n",
       "    .dataframe tbody tr th:only-of-type {\n",
       "        vertical-align: middle;\n",
       "    }\n",
       "\n",
       "    .dataframe tbody tr th {\n",
       "        vertical-align: top;\n",
       "    }\n",
       "\n",
       "    .dataframe thead th {\n",
       "        text-align: right;\n",
       "    }\n",
       "</style>\n",
       "<table border=\"1\" class=\"dataframe\">\n",
       "  <thead>\n",
       "    <tr style=\"text-align: right;\">\n",
       "      <th></th>\n",
       "      <th>text</th>\n",
       "      <th>stars_1</th>\n",
       "      <th>stars_2</th>\n",
       "      <th>stars_3</th>\n",
       "      <th>stars_4</th>\n",
       "      <th>stars_5</th>\n",
       "    </tr>\n",
       "  </thead>\n",
       "  <tbody>\n",
       "    <tr>\n",
       "      <th>2760442</th>\n",
       "      <td>Second time here.... first time had the pulled...</td>\n",
       "      <td>0</td>\n",
       "      <td>0</td>\n",
       "      <td>0</td>\n",
       "      <td>0</td>\n",
       "      <td>1</td>\n",
       "    </tr>\n",
       "    <tr>\n",
       "      <th>3014452</th>\n",
       "      <td>Great place. Like their sauce and lunch specia...</td>\n",
       "      <td>0</td>\n",
       "      <td>0</td>\n",
       "      <td>0</td>\n",
       "      <td>0</td>\n",
       "      <td>1</td>\n",
       "    </tr>\n",
       "    <tr>\n",
       "      <th>2876979</th>\n",
       "      <td>So goooooooood and so simple! I love their pel...</td>\n",
       "      <td>0</td>\n",
       "      <td>0</td>\n",
       "      <td>0</td>\n",
       "      <td>0</td>\n",
       "      <td>1</td>\n",
       "    </tr>\n",
       "    <tr>\n",
       "      <th>469097</th>\n",
       "      <td>We stopped in for a late lunch on a Tuesday af...</td>\n",
       "      <td>0</td>\n",
       "      <td>0</td>\n",
       "      <td>1</td>\n",
       "      <td>0</td>\n",
       "      <td>0</td>\n",
       "    </tr>\n",
       "    <tr>\n",
       "      <th>4971248</th>\n",
       "      <td>A great option to try hakka chinese since its ...</td>\n",
       "      <td>0</td>\n",
       "      <td>0</td>\n",
       "      <td>0</td>\n",
       "      <td>1</td>\n",
       "      <td>0</td>\n",
       "    </tr>\n",
       "  </tbody>\n",
       "</table>\n",
       "</div>"
      ],
      "text/plain": [
       "                                                      text  stars_1  stars_2  \\\n",
       "2760442  Second time here.... first time had the pulled...        0        0   \n",
       "3014452  Great place. Like their sauce and lunch specia...        0        0   \n",
       "2876979  So goooooooood and so simple! I love their pel...        0        0   \n",
       "469097   We stopped in for a late lunch on a Tuesday af...        0        0   \n",
       "4971248  A great option to try hakka chinese since its ...        0        0   \n",
       "\n",
       "         stars_3  stars_4  stars_5  \n",
       "2760442        0        0        1  \n",
       "3014452        0        0        1  \n",
       "2876979        0        0        1  \n",
       "469097         1        0        0  \n",
       "4971248        0        1        0  "
      ]
     },
     "metadata": {},
     "execution_count": 10
    }
   ],
   "metadata": {}
  },
  {
   "cell_type": "code",
   "execution_count": 11,
   "source": [
    "test = test[['text', 'stars']]\n",
    "test = pd.get_dummies(test, columns = ['stars'])\n",
    "train.shape, test.shape"
   ],
   "outputs": [
    {
     "output_type": "execute_result",
     "data": {
      "text/plain": [
       "((280000, 6), (70000, 6))"
      ]
     },
     "metadata": {},
     "execution_count": 11
    }
   ],
   "metadata": {}
  },
  {
   "cell_type": "code",
   "execution_count": 12,
   "source": [
    "train_samp = train.sample(frac = .1, random_state = 42)\n",
    "test_samp = test.sample(frac = .1, random_state = 42)\n",
    "train_samp.shape, test_samp.shape"
   ],
   "outputs": [
    {
     "output_type": "execute_result",
     "data": {
      "text/plain": [
       "((28000, 6), (7000, 6))"
      ]
     },
     "metadata": {},
     "execution_count": 12
    }
   ],
   "metadata": {}
  },
  {
   "cell_type": "code",
   "execution_count": 13,
   "source": [
    "max_features = 2000\n",
    "tfidf = TfidfVectorizer(max_features = max_features)"
   ],
   "outputs": [],
   "metadata": {}
  },
  {
   "cell_type": "code",
   "execution_count": 14,
   "source": [
    "class NBFeatures(BaseEstimator):\n",
    "    '''Class implementation of Jeremy Howards NB Linear model'''\n",
    "    def __init__(self, alpha):\n",
    "        # Smoothing Parameter: always going to be one for my use\n",
    "        self.alpha = alpha\n",
    "        \n",
    "    def preprocess_x(self, x, r):\n",
    "        return x.multiply(r)\n",
    "    \n",
    "    # calculate probabilities\n",
    "    def pr(self, x, y_i, y):\n",
    "        p = x[y == y_i].sum(0)\n",
    "        return (p + self.alpha)/((y==y_i).sum()+self.alpha)\n",
    "    \n",
    "    # calculate the log ratio and represent as sparse matrix\n",
    "    # ie fit the nb model\n",
    "    def fit(self, x, y = None):\n",
    "        self._r = sparse.csr_matrix(np.log(self.pr(x, 1, y) /self.pr(x, 0, y)))\n",
    "        return self\n",
    "    \n",
    "    # apply the nb fit to original features x\n",
    "    def transform(self, x):\n",
    "        x_nb = self.preprocess_x(x, self._r)\n",
    "        return x_nb"
   ],
   "outputs": [],
   "metadata": {}
  },
  {
   "cell_type": "code",
   "execution_count": 15,
   "source": [
    "lr = LogisticRegression()\n",
    "nb = NBFeatures(1)\n",
    "p = Pipeline([\n",
    "    ('tfidf', tfidf),\n",
    "    ('nb', nb),\n",
    "    ('lr', lr)\n",
    "])"
   ],
   "outputs": [],
   "metadata": {}
  },
  {
   "cell_type": "code",
   "execution_count": 16,
   "source": [
    "class_names = ['stars_1', 'stars_2', 'stars_3', 'stars_4', 'stars_5']\n",
    "scores = []\n",
    "preds = np.zeros((len(test_samp), len(class_names)))\n",
    "for i, class_name in enumerate(class_names):\n",
    "    train_target = train_samp[class_name]    \n",
    "    cv_score = np.mean(cross_val_score(estimator = p, X = train_samp['text'].values, \n",
    "                                      y = train_target, cv = 3, scoring = 'accuracy'))\n",
    "    scores.append(cv_score)\n",
    "    print('CV score for class {} is {}'.format(class_name, cv_score))\n",
    "    p.fit(train_samp['text'].values, train_target)\n",
    "    preds[:,i] = p.predict_proba(test_samp['text'].values)[:,1]"
   ],
   "outputs": [
    {
     "output_type": "stream",
     "name": "stdout",
     "text": [
      "CV score for class stars_1 is 0.9282499819604656\n",
      "CV score for class stars_2 is 0.90339283521352\n",
      "CV score for class stars_3 is 0.8591786654537303\n",
      "CV score for class stars_4 is 0.7321071676830603\n",
      "CV score for class stars_5 is 0.8044644727087923\n"
     ]
    }
   ],
   "metadata": {}
  },
  {
   "cell_type": "code",
   "execution_count": 17,
   "source": [
    "train['text'][4971248]"
   ],
   "outputs": [
    {
     "output_type": "execute_result",
     "data": {
      "text/plain": [
       "'A great option to try hakka chinese since its halal! We had cantonese chow mein, chicken 88 and spicy fish with vegetable stir fry rice and that was all enough for four people to eat! Beware, their portion sizes are huge and that will be your only complaint! For those that like mild spices though, you will have to ask them to keep it mild!'"
      ]
     },
     "metadata": {},
     "execution_count": 17
    }
   ],
   "metadata": {}
  },
  {
   "cell_type": "code",
   "execution_count": 18,
   "source": [
    "t = metrics.classification_report(np.argmax(test_samp[class_names].values, axis = 1),np.argmax(preds, axis = 1))\n",
    "print(t)"
   ],
   "outputs": [
    {
     "output_type": "stream",
     "name": "stdout",
     "text": [
      "              precision    recall  f1-score   support\n",
      "\n",
      "           0       0.63      0.73      0.68       771\n",
      "           1       0.43      0.15      0.23       687\n",
      "           2       0.49      0.31      0.38      1020\n",
      "           3       0.47      0.46      0.47      1906\n",
      "           4       0.67      0.85      0.75      2616\n",
      "\n",
      "    accuracy                           0.59      7000\n",
      "   macro avg       0.54      0.50      0.50      7000\n",
      "weighted avg       0.56      0.59      0.56      7000\n",
      "\n"
     ]
    }
   ],
   "metadata": {}
  },
  {
   "cell_type": "code",
   "execution_count": 19,
   "source": [
    "embed_size = 200 \n",
    "# max number of unique words \n",
    "max_features = 20000\n",
    "# max number of words from review to use\n",
    "maxlen = 200\n",
    "\n",
    "# File path\n",
    "embedding_file = '/home/kai/yelp_dataset/glove.twitter.27B.200d.txt'\n",
    "\n",
    "# read in embeddings\n",
    "def get_coefs(word,*arr): return word, np.asarray(arr, dtype='float32')\n",
    "embeddings_index = dict(get_coefs(*o.strip().split()) for o in open(embedding_file))"
   ],
   "outputs": [],
   "metadata": {}
  },
  {
   "cell_type": "code",
   "execution_count": 20,
   "source": [
    "class_names = ['stars_1', 'stars_2', 'stars_3', 'stars_4', 'stars_5']\n",
    "# Splitting off my y variable\n",
    "y = train_samp[class_names].values"
   ],
   "outputs": [],
   "metadata": {}
  },
  {
   "cell_type": "code",
   "execution_count": 21,
   "source": [
    "tokenizer = Tokenizer(num_words=max_features)\n",
    "tokenizer.fit_on_texts(list(train_samp['text'].values))\n",
    "X_train = tokenizer.texts_to_sequences(train_samp['text'].values)\n",
    "X_test = tokenizer.texts_to_sequences(test_samp['text'].values)\n",
    "x_train = pad_sequences(X_train, maxlen = maxlen)\n",
    "x_test = pad_sequences(X_test, maxlen = maxlen)"
   ],
   "outputs": [],
   "metadata": {}
  },
  {
   "cell_type": "code",
   "execution_count": 22,
   "source": [
    "word_index = tokenizer.word_index\n",
    "\n",
    "nb_words = min(max_features, len(word_index))\n",
    "# create a zeros matrix of the correct dimensions \n",
    "embedding_matrix = np.zeros((nb_words, embed_size))\n",
    "missed = []\n",
    "for word, i in word_index.items():\n",
    "    if i >= max_features: break\n",
    "    embedding_vector = embeddings_index.get(word)\n",
    "    if embedding_vector is not None:\n",
    "        embedding_matrix[i] = embedding_vector\n",
    "    else:\n",
    "        missed.append(word)"
   ],
   "outputs": [],
   "metadata": {}
  },
  {
   "cell_type": "code",
   "execution_count": 23,
   "source": [
    "len(missed)"
   ],
   "outputs": [
    {
     "output_type": "execute_result",
     "data": {
      "text/plain": [
       "2147"
      ]
     },
     "metadata": {},
     "execution_count": 23
    }
   ],
   "metadata": {}
  },
  {
   "cell_type": "code",
   "execution_count": 24,
   "source": [
    "missed[0:10]"
   ],
   "outputs": [
    {
     "output_type": "execute_result",
     "data": {
      "text/plain": [
       "[\"it's\", \"don't\", \"i'm\", \"i've\", \"didn't\", '5', '2', '3', \"wasn't\", '4']"
      ]
     },
     "metadata": {},
     "execution_count": 24
    }
   ],
   "metadata": {}
  },
  {
   "cell_type": "code",
   "execution_count": 25,
   "source": [
    "missed[1000:1010]"
   ],
   "outputs": [
    {
     "output_type": "execute_result",
     "data": {
      "text/plain": [
       "[\"lobby's\",\n",
       " \"capo's\",\n",
       " \"'fast\",\n",
       " 'gratuities',\n",
       " \"owners'\",\n",
       " 'brasseurs',\n",
       " 'mittagszeit',\n",
       " \"soup'\",\n",
       " \"pauly's\",\n",
       " \"flo's\"]"
      ]
     },
     "metadata": {},
     "execution_count": 25
    }
   ],
   "metadata": {}
  },
  {
   "cell_type": "code",
   "execution_count": 26,
   "source": [
    "inp = Input(shape = (maxlen,))\n",
    "x = Embedding(max_features, embed_size, weights = [embedding_matrix], trainable = True)(inp)\n",
    "x = SpatialDropout1D(0.5)(x)\n",
    "x = Bidirectional(LSTM(40, return_sequences=True))(x)\n",
    "x = Bidirectional(GRU(40, return_sequences=True))(x)\n",
    "avg_pool = GlobalAveragePooling1D()(x)\n",
    "max_pool = GlobalMaxPooling1D()(x)\n",
    "conc = concatenate([avg_pool, max_pool])\n",
    "outp = Dense(5, activation = 'sigmoid')(conc)\n",
    "\n",
    "model = Model(inputs = inp, outputs = outp)\n",
    "# patience is how many epochs to wait to see if val_loss will improve again.\n",
    "earlystop = EarlyStopping(monitor = 'val_loss', min_delta = 0, patience = 3)\n",
    "checkpoint = ModelCheckpoint(monitor = 'val_loss', save_best_only = True, filepath = 'yelp_lstm_gru_weights.hdf5')\n",
    "model.compile(loss = 'mean_squared_error', optimizer = 'adam', metrics = ['accuracy'])\n",
    "print (model.summary())"
   ],
   "outputs": [
    {
     "output_type": "stream",
     "name": "stdout",
     "text": [
      "Model: \"model\"\n",
      "__________________________________________________________________________________________________\n",
      "Layer (type)                    Output Shape         Param #     Connected to                     \n",
      "==================================================================================================\n",
      "input_1 (InputLayer)            [(None, 200)]        0                                            \n",
      "__________________________________________________________________________________________________\n",
      "embedding (Embedding)           (None, 200, 200)     4000000     input_1[0][0]                    \n",
      "__________________________________________________________________________________________________\n",
      "spatial_dropout1d (SpatialDropo (None, 200, 200)     0           embedding[0][0]                  \n",
      "__________________________________________________________________________________________________\n",
      "bidirectional (Bidirectional)   (None, 200, 80)      77120       spatial_dropout1d[0][0]          \n",
      "__________________________________________________________________________________________________\n",
      "bidirectional_1 (Bidirectional) (None, 200, 80)      29280       bidirectional[0][0]              \n",
      "__________________________________________________________________________________________________\n",
      "global_average_pooling1d (Globa (None, 80)           0           bidirectional_1[0][0]            \n",
      "__________________________________________________________________________________________________\n",
      "global_max_pooling1d (GlobalMax (None, 80)           0           bidirectional_1[0][0]            \n",
      "__________________________________________________________________________________________________\n",
      "concatenate (Concatenate)       (None, 160)          0           global_average_pooling1d[0][0]   \n",
      "                                                                 global_max_pooling1d[0][0]       \n",
      "__________________________________________________________________________________________________\n",
      "dense (Dense)                   (None, 5)            805         concatenate[0][0]                \n",
      "==================================================================================================\n",
      "Total params: 4,107,205\n",
      "Trainable params: 4,107,205\n",
      "Non-trainable params: 0\n",
      "__________________________________________________________________________________________________\n",
      "None\n"
     ]
    }
   ],
   "metadata": {}
  },
  {
   "cell_type": "code",
   "execution_count": 27,
   "source": [
    "model.fit(x_train, y, batch_size = 512, epochs = 20, validation_split = .1, callbacks=[earlystop, checkpoint])"
   ],
   "outputs": [
    {
     "output_type": "stream",
     "name": "stdout",
     "text": [
      "Epoch 1/20\n",
      "50/50 [==============================] - 52s 959ms/step - loss: 0.1582 - accuracy: 0.3643 - val_loss: 0.1461 - val_accuracy: 0.3843\n",
      "Epoch 2/20\n",
      "50/50 [==============================] - 46s 921ms/step - loss: 0.1363 - accuracy: 0.4270 - val_loss: 0.1239 - val_accuracy: 0.5032\n",
      "Epoch 3/20\n",
      "50/50 [==============================] - 45s 898ms/step - loss: 0.1206 - accuracy: 0.5137 - val_loss: 0.1128 - val_accuracy: 0.5568\n",
      "Epoch 4/20\n",
      "50/50 [==============================] - 47s 935ms/step - loss: 0.1117 - accuracy: 0.5562 - val_loss: 0.1063 - val_accuracy: 0.5882\n",
      "Epoch 5/20\n",
      "50/50 [==============================] - 47s 931ms/step - loss: 0.1062 - accuracy: 0.5862 - val_loss: 0.1070 - val_accuracy: 0.5732\n",
      "Epoch 6/20\n",
      "50/50 [==============================] - 46s 920ms/step - loss: 0.1022 - accuracy: 0.6037 - val_loss: 0.1022 - val_accuracy: 0.5968\n",
      "Epoch 7/20\n",
      "50/50 [==============================] - 53s 1s/step - loss: 0.0998 - accuracy: 0.6145 - val_loss: 0.1018 - val_accuracy: 0.6050\n",
      "Epoch 8/20\n",
      "50/50 [==============================] - 48s 955ms/step - loss: 0.0969 - accuracy: 0.6306 - val_loss: 0.1003 - val_accuracy: 0.6111\n",
      "Epoch 9/20\n",
      "50/50 [==============================] - 51s 1s/step - loss: 0.0944 - accuracy: 0.6440 - val_loss: 0.1000 - val_accuracy: 0.6114\n",
      "Epoch 10/20\n",
      "50/50 [==============================] - 48s 957ms/step - loss: 0.0921 - accuracy: 0.6540 - val_loss: 0.1005 - val_accuracy: 0.6143\n",
      "Epoch 11/20\n",
      "50/50 [==============================] - 54s 1s/step - loss: 0.0903 - accuracy: 0.6612 - val_loss: 0.1038 - val_accuracy: 0.6082\n",
      "Epoch 12/20\n",
      "50/50 [==============================] - 55s 1s/step - loss: 0.0884 - accuracy: 0.6740 - val_loss: 0.1004 - val_accuracy: 0.6139\n"
     ]
    },
    {
     "output_type": "execute_result",
     "data": {
      "text/plain": [
       "<keras.callbacks.History at 0x7f5b380efc50>"
      ]
     },
     "metadata": {},
     "execution_count": 27
    }
   ],
   "metadata": {}
  },
  {
   "cell_type": "code",
   "execution_count": 28,
   "source": [
    "y_test = model.predict([x_test], batch_size=1024, verbose = 1)"
   ],
   "outputs": [
    {
     "output_type": "stream",
     "name": "stdout",
     "text": [
      "7/7 [==============================] - 6s 651ms/step\n"
     ]
    }
   ],
   "metadata": {}
  },
  {
   "cell_type": "code",
   "execution_count": 29,
   "source": [
    "model.evaluate(x_test, test_samp[class_names].values, verbose = 1, batch_size=1024)"
   ],
   "outputs": [
    {
     "output_type": "stream",
     "name": "stdout",
     "text": [
      "7/7 [==============================] - 5s 661ms/step - loss: 0.1014 - accuracy: 0.6160\n"
     ]
    },
    {
     "output_type": "execute_result",
     "data": {
      "text/plain": [
       "[0.10136958211660385, 0.6159999966621399]"
      ]
     },
     "metadata": {},
     "execution_count": 29
    }
   ],
   "metadata": {}
  },
  {
   "cell_type": "code",
   "execution_count": 30,
   "source": [
    "v = metrics.classification_report(np.argmax(test_samp[class_names].values, axis = 1),np.argmax(y_test, axis = 1))\n",
    "print(v)"
   ],
   "outputs": [
    {
     "output_type": "stream",
     "name": "stdout",
     "text": [
      "              precision    recall  f1-score   support\n",
      "\n",
      "           0       0.68      0.70      0.69       771\n",
      "           1       0.43      0.39      0.41       687\n",
      "           2       0.50      0.43      0.46      1020\n",
      "           3       0.52      0.54      0.53      1906\n",
      "           4       0.74      0.78      0.76      2616\n",
      "\n",
      "    accuracy                           0.62      7000\n",
      "   macro avg       0.58      0.57      0.57      7000\n",
      "weighted avg       0.61      0.62      0.61      7000\n",
      "\n"
     ]
    }
   ],
   "metadata": {}
  },
  {
   "cell_type": "code",
   "execution_count": 31,
   "source": [
    "model.save('yelp_nn_model.h5')"
   ],
   "outputs": [],
   "metadata": {}
  },
  {
   "cell_type": "code",
   "execution_count": 32,
   "source": [
    "start = time.time()\n",
    "history = model.fit(x_train, y, validation_data= (x_test, y_test), \n",
    "          batch_size = 32,callbacks=[earlystop,checkpoint],\n",
    "          verbose=0,epochs=100)\n",
    "print(\"Time to train:\", time.time() - start)\n",
    "model.load_weights(\"yelp_lstm_gru_weights.hdf5\")"
   ],
   "outputs": [
    {
     "output_type": "stream",
     "name": "stdout",
     "text": [
      "Time to train: 553.5746953487396\n"
     ]
    }
   ],
   "metadata": {}
  },
  {
   "cell_type": "code",
   "execution_count": 33,
   "source": [
    "plt.plot(history.history['accuracy'])\n",
    "plt.plot(history.history['val_accuracy'])\n",
    "plt.title('model accuracy')\n",
    "plt.ylabel('accuracy')\n",
    "plt.xlabel('epoch')\n",
    "plt.legend(['train', 'test'], loc='upper left')\n",
    "plt.show()\n",
    "\n",
    "plt.plot(history.history['loss'])\n",
    "plt.plot(history.history['val_loss'])\n",
    "plt.title('model loss')\n",
    "plt.ylabel('loss')\n",
    "plt.xlabel('epoch')\n",
    "plt.legend(['train', 'test'], loc='upper left')\n",
    "plt.show()"
   ],
   "outputs": [
    {
     "output_type": "display_data",
     "data": {
      "image/png": "[encoded data removed]",
      "text/plain": [
       "<Figure size 432x288 with 1 Axes>"
      ]
     },
     "metadata": {
      "needs_background": "light"
     }
    },
    {
     "output_type": "display_data",
     "data": {
      "image/png": "[encoded data removed]",
      "text/plain": [
       "<Figure size 432x288 with 1 Axes>"
      ]
     },
     "metadata": {
      "needs_background": "light"
     }
    }
   ],
   "metadata": {}
  },
  {
   "cell_type": "code",
   "execution_count": 34,
   "source": [
    "true_classes = np.argmax(y_test,axis=1)\n",
    "total_activation = [\"relu\", \"sigmoid\",\"tanh\"]\n",
    "optimizers = [\"adam\",\"sgd\"]\n",
    "\n",
    "result = {}\n",
    "\n",
    "for i in total_activation:\n",
    "    for j in optimizers:\n",
    "        model = Sequential()\n",
    "        \n",
    "        model.add(Dense(4,input_dim = inp.shape[1], activation = i))\n",
    "        model.add(Dense(8, activation=i)) # Hidden 2\n",
    "#         model.add(Dense(8, activation=i)) # Hidden 3\n",
    "        model.add(Dense(outp.shape[1], activation='softmax')) # Output\n",
    "        \n",
    "        model.compile(loss='categorical_crossentropy', optimizer=j, metrics = ['accuracy'])\n",
    "        \n",
    "        monitor = EarlyStopping(monitor='val_loss', min_delta = 1e-3, patience = 4, verbose=0, mode = 'auto')\n",
    "        \n",
    "        checkpoint = ModelCheckpoint(filepath='best_model.hdf5', monitor='val_loss', save_best_only=True)\n",
    "        start = time.time()\n",
    "        \n",
    "        history = model.fit(x_train, y, validation_data= (x_test, y_test), \n",
    "          batch_size = 32,callbacks=[monitor,checkpoint],\n",
    "          verbose=0,epochs=100)\n",
    "        pred = model.predict(x_test)\n",
    "        predict_classes = np.argmax(pred,axis=1)\n",
    "        \n",
    "#         print(\"Predictions for model:\")\n",
    "#         for k in range(5):\n",
    "#             print(lab_enc.inverse_transform(true_classes[k]),\"\\t\\t\",lab_enc.inverse_transform(predict_classes[k]))\n",
    "        accuracy = accuracy_score(true_classes,predict_classes)\n",
    "        data = {\n",
    "            \"Accuracy\" : accuracy*100,\n",
    "            \"Activation\" : i,\n",
    "            \"Optimizer\" : j,\n",
    "            \"Train time(sec):\" : (time.time() - start)\n",
    "        }\n",
    "        result[i+ ' '+j] = data\n",
    "result_of_project_2 = pd.DataFrame(result)"
   ],
   "outputs": [],
   "metadata": {}
  },
  {
   "cell_type": "code",
   "execution_count": 35,
   "source": [
    "result_of_project_2"
   ],
   "outputs": [
    {
     "output_type": "execute_result",
     "data": {
      "text/html": [
       "<div>\n",
       "<style scoped>\n",
       "    .dataframe tbody tr th:only-of-type {\n",
       "        vertical-align: middle;\n",
       "    }\n",
       "\n",
       "    .dataframe tbody tr th {\n",
       "        vertical-align: top;\n",
       "    }\n",
       "\n",
       "    .dataframe thead th {\n",
       "        text-align: right;\n",
       "    }\n",
       "</style>\n",
       "<table border=\"1\" class=\"dataframe\">\n",
       "  <thead>\n",
       "    <tr style=\"text-align: right;\">\n",
       "      <th></th>\n",
       "      <th>relu adam</th>\n",
       "      <th>relu sgd</th>\n",
       "      <th>sigmoid adam</th>\n",
       "      <th>sigmoid sgd</th>\n",
       "      <th>tanh adam</th>\n",
       "      <th>tanh sgd</th>\n",
       "    </tr>\n",
       "  </thead>\n",
       "  <tbody>\n",
       "    <tr>\n",
       "      <th>Accuracy</th>\n",
       "      <td>39.2286</td>\n",
       "      <td>39.2286</td>\n",
       "      <td>42.1286</td>\n",
       "      <td>39.2286</td>\n",
       "      <td>42.8286</td>\n",
       "      <td>40.3429</td>\n",
       "    </tr>\n",
       "    <tr>\n",
       "      <th>Activation</th>\n",
       "      <td>relu</td>\n",
       "      <td>relu</td>\n",
       "      <td>sigmoid</td>\n",
       "      <td>sigmoid</td>\n",
       "      <td>tanh</td>\n",
       "      <td>tanh</td>\n",
       "    </tr>\n",
       "    <tr>\n",
       "      <th>Optimizer</th>\n",
       "      <td>adam</td>\n",
       "      <td>sgd</td>\n",
       "      <td>adam</td>\n",
       "      <td>sgd</td>\n",
       "      <td>adam</td>\n",
       "      <td>sgd</td>\n",
       "    </tr>\n",
       "    <tr>\n",
       "      <th>Train time(sec):</th>\n",
       "      <td>11.1644</td>\n",
       "      <td>3.4384</td>\n",
       "      <td>6.58684</td>\n",
       "      <td>10.5505</td>\n",
       "      <td>9.8709</td>\n",
       "      <td>9.42492</td>\n",
       "    </tr>\n",
       "  </tbody>\n",
       "</table>\n",
       "</div>"
      ],
      "text/plain": [
       "                 relu adam relu sgd sigmoid adam sigmoid sgd tanh adam  \\\n",
       "Accuracy           39.2286  39.2286      42.1286     39.2286   42.8286   \n",
       "Activation            relu     relu      sigmoid     sigmoid      tanh   \n",
       "Optimizer             adam      sgd         adam         sgd      adam   \n",
       "Train time(sec):   11.1644   3.4384      6.58684     10.5505    9.8709   \n",
       "\n",
       "                 tanh sgd  \n",
       "Accuracy          40.3429  \n",
       "Activation           tanh  \n",
       "Optimizer             sgd  \n",
       "Train time(sec):  9.42492  "
      ]
     },
     "metadata": {},
     "execution_count": 35
    }
   ],
   "metadata": {}
  }
 ],
 "metadata": {
  "orig_nbformat": 4,
  "language_info": {
   "name": "python",
   "version": "3.6.9",
   "mimetype": "text/x-python",
   "codemirror_mode": {
    "name": "ipython",
    "version": 3
   },
   "pygments_lexer": "ipython3",
   "nbconvert_exporter": "python",
   "file_extension": ".py"
  },
  "kernelspec": {
   "name": "python3",
   "display_name": "Python 3.6.9 64-bit"
  },
  "interpreter": {
   "hash": "31f2aee4e71d21fbe5cf8b01ff0e069b9275f58929596ceb00d14d90e3e16cd6"
  }
 },
 "nbformat": 4,
 "nbformat_minor": 2
}