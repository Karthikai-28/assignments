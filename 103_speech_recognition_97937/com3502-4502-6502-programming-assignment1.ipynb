{
 "cells": [
  {
   "cell_type": "markdown",
   "metadata": {},
   "source": [
    "# COM3502-4502-6502 Speech Processing - Python Programming Assignment\n",
    "\n",
    "## 1. General Information\n",
    "\n",
    "This programming assignment is worth 55% of the overall course mark.\n",
    "\n",
    "You are free to complete this assignment in your own time. However, feedback, advice and guidance is available during the lab classes and via the discussion board on Blackboard. \n",
    "\n",
    "Note: Via these channels we try to help you as much as possible, but will not debug your code or provide solutions to the assignment itself.\n",
    "\n",
    "Note: It will take some time to complete this assignment, so plan your work accordingly over the coming weeks. Read these instructions carefully.\n",
    "\n",
    "Note: Please be aware that students registered on COM4502 and COM6502 have **additional tasks** to perform. These are marked ‘COM4502-6502 Only’.\n",
    "\n",
    "Note: You should always ensure that your results (e.g. in terms of plots you create) are clear to undrestand and leave no room for mis-interpretation. This can often easily achieved by adding proper $x$- and $y$-axis labels, titles, legends etc. Where results are not clear to interprete, this might result in missed points. \n"
   ]
  },
  {
   "cell_type": "markdown",
   "metadata": {},
   "source": [
    "## 1.1 Student Data\n",
    "\n",
    "Student Family Name: <span style=\"font-weight:bold;color:orange\">**PLEASE PUT IN YOUR NAME HERE**</span>\n",
    "\n",
    "Student Given Name(s): <span style=\"font-weight:bold;color:orange\">**PLEASE PUT IN YOUR NAME HERE**</span>\n",
    "\n",
    "Date of submission: <span style=\"font-weight:bold;color:orange\">**PLEASE FILL DATE**</span>\n",
    "\n",
    "Academic Year 2021/2022"
   ]
  },
  {
   "cell_type": "markdown",
   "metadata": {},
   "source": [
    "## 1.2 Copyright\n",
    "\n",
    "This programming assignment is part of the lecture COM[3502](http://www.dcs.shef.ac.uk/intranet/teaching/public/modules/level3/com3502.html \"Open web page for COM3502 module\")-[4502](http://www.dcs.shef.ac.uk/intranet/teaching/public/modules/level4/com4502.html \"Open web page for COM4502 module\")-[6502](http://www.dcs.shef.ac.uk/intranet/teaching/public/modules/msc/com6502.html \"Open web page for COM4502 module\") Speech Processing at the [University of Sheffield](https://www.sheffield.ac.uk/ \"Open web page of The University of Sheffield\"), Dept. of [Computer Science](https://www.sheffield.ac.uk/dcs \"Open web page of Department of Computer Science\"), University of Sheffield.\n",
    "\n",
    "This notebook is licensed as an assignment to be used during the lecture COM3502-4502-6502 Speech Processing at the University of Sheffield. Any further use is only permitted if agreed with the [module lead](mailto:s.goetze@sheffield.ac.uk).\n",
    "\n",
    "It should be a matter of course that rules of [unfair means](https://www.sheffield.ac.uk/apse/apo/quality/assessment/unfair) apply and the assignment is not to be shared with or made available to other persons besides those participating in the module during the same academic year. This includes publishing on web pages etc. All questions can be asked during the lab classes or using the Blackboard Discussion board.\n",
    "\n",
    "\n",
    "## 1.3 Hand-In Procedure and Deadline\n",
    "\n",
    "Once you have completed the assignment you should submit a `.zip` file (via Blackboard) containing your solution (as a file named `YourName.ipynb`) and possibly other source linked in your Jupyter Notebook. Also the `.zip` filename should be of the form `YourName.zip`. Please make also sure that your name is entered correctly in the section above.\n",
    "\n",
    "Standard departmental penalties apply for [late hand-in](https://sites.google.com/sheffield.ac.uk/comughandbook/general-information/assessment/late-submission) and [plagiarism](https://sites.google.com/sheffield.ac.uk/comughandbook/general-information/assessment/unfair-means).\n",
    "\n",
    "The **deadline** for handing-in this assignment (via Blackboard) is \n",
    "<span style=\"font-weight:bold;color:red\">**Friday 17th December 2022**</span>"
   ]
  },
  {
   "cell_type": "markdown",
   "metadata": {},
   "source": [
    "<br>\n",
    "<div style=\"border: 2px solid #999; padding: 10px; background: #abe;\">\n",
    "    \n",
    "**Task 0:**\n",
    "    \n",
    "Ensure that you data is correctly entered in the section at the top of this sheet and that the filename is in the form `YourName.ipynb`. \n",
    "    \n",
    "</div>"
   ]
  },
  {
   "cell_type": "markdown",
   "metadata": {},
   "source": [
    "## 1.4 Libraries\n",
    "\n",
    "You should be familar to the use of the following Python libraries from the lab. You should not need to use additional ones. You are allowed to use additional libraries if necessary for your code. If they need to be installed by `!pip install <libraryname>` or `!conda install <libraryname>`, please indicate this as a comment in your code. You should not make use of libraries that can't be installed by either `!pip install` or `!conda install`. You have to ensure that your Notebook runs \"out of the box\". You can test this on the Computer Lab machines in the Diamond if you are unsure and using your own computer."
   ]
  },
  {
   "cell_type": "code",
   "execution_count": null,
   "metadata": {},
   "outputs": [],
   "source": [
    "#Let's do some necessary and nice-to-have imports\n",
    "%matplotlib inline\n",
    "import matplotlib.pyplot as plt    # plotting\n",
    "#import seaborn as sns; sns.set()  # styling\n",
    "import numpy as np                 # math\n",
    "\n",
    "import soundfile as sf             # to load files\n",
    "from IPython import display as ipd # for sound playback\n",
    "\n",
    "from scipy import signal           # filter designs (if not already imported)"
   ]
  },
  {
   "cell_type": "markdown",
   "metadata": {},
   "source": [
    "## 2. Download, load, and analyse audio\n",
    "\n",
    "<br>\n",
    "<div style=\"border: 2px solid #999; padding: 10px; background: #abe;\">\n",
    "    \n",
    "**Task T1:**\n",
    "    \n",
    "* Load a wave file containing speech. You can find a file at <a href=\"https://staffwww.dcs.shef.ac.uk/people/S.Goetze/sound/speech.wav\"> https://staffwww.dcs.shef.ac.uk/people/S.Goetze/sound/speech.wav</a> and should be able to download this. You can also use your own WAVE files if you prefer this. If you want to record WAVE files and are using your own computer, the program [Audacity](https://www.audacityteam.org/download/) is one possibility to [record WAVE files](https://manual.audacityteam.org/man/basic_recording_editing_and_exporting.html).\n",
    "    \n",
    "* Visualise the signal in time domain, in the spectral domain (as spectrum) and as a time-frequency representation (spectrogram). Please ensure proper axis labels for all your plot in this assignment.\n",
    "\n",
    "* Playback the signal.\n",
    "    \n",
    "</div>"
   ]
  },
  {
   "cell_type": "code",
   "execution_count": null,
   "metadata": {},
   "outputs": [],
   "source": [
    "# your code here\n",
    "#\n",
    "# ..."
   ]
  },
  {
   "cell_type": "markdown",
   "metadata": {},
   "source": [
    "<br>\n",
    "<div style=\"border: 2px solid #999; padding: 10px; background: #9696ff;\">\n",
    "    \n",
    "**Question Q1:**\n",
    "\n",
    "* Determine the sampling frequency $f_s$ in Hz and the length of the signal in seconds. What is the sampling interval $T_s$ of your signal? What is the highest occuring frequency?\n",
    "    \n",
    "Note: You can either give your answer in form of a code block (e.g. by using the `print()` functions) or as text. For the latter, change the [type of the next cell](https://jupyter-notebook.readthedocs.io/en/stable/notebook.html#structure-of-a-notebook-document) from `code` to `markdown` or use the yellow example text below.\n",
    "    \n",
    "</div>"
   ]
  },
  {
   "cell_type": "code",
   "execution_count": null,
   "metadata": {},
   "outputs": [],
   "source": [
    "# Your answer here \n",
    "#\n",
    "# ..."
   ]
  },
  {
   "cell_type": "markdown",
   "metadata": {},
   "source": [
    "<span style=\"font-weight:bold;color:orange\">In case you want to answer by written text, we would appreciate if you  colour-code your answers, e.g. like using orange font colour as illustrated in this example. This helps us, not to overlook parts of your answers.</span>"
   ]
  },
  {
   "cell_type": "markdown",
   "metadata": {},
   "source": [
    "## 3. Piece-wise linear filtering in the time domain\n",
    "\n",
    "<br>\n",
    "<div style=\"border: 2px solid #999; padding: 10px; background: #abe;\">\n",
    "    \n",
    "**Task T2:**\n",
    "    \n",
    "* Design a high-pass filter with a cut-off frequency of $\\approx 500$ Hz using a filter design method of your choice. \n",
    "* Design a low-pass filter with a cut-off frequency of $\\approx 500$ Hz.\n",
    "* Design a band-stop filter with a cut-off frequencies of $\\approx 300$ Hz and of $\\approx 1.1$ kHz.\n",
    "* Simulate the effect of a land-line telephone by eliminating all energy below 300 Hz and above 3,400 Hz.\n",
    "* Visualise the transfer functions of the filters and the zero-pole plots.\n",
    "* Apply the designed filters, compare filter input and output as a time-frequency visualisation and play back the filtered signal.\n",
    "    \n",
    "Note: Don't forget proper labeling / description of your figures to make clear what is what.\n",
    "</div>"
   ]
  },
  {
   "cell_type": "code",
   "execution_count": null,
   "metadata": {},
   "outputs": [],
   "source": [
    "# Your code here \n",
    "#\n",
    "# ..."
   ]
  },
  {
   "cell_type": "markdown",
   "metadata": {},
   "source": [
    "<br>\n",
    "<div style=\"border: 2px solid #999; padding: 10px; background: #9696ff;\">\n",
    "    \n",
    "**Question Q2:**\n",
    "\n",
    "* Explain the behaviour of the designed band-stop filter, i.e. describe (briefly) what you can see in the generated plots. If you didn't generate plots you can explain what you would expect to see.\n",
    "\n",
    "    \n",
    "</div>"
   ]
  },
  {
   "cell_type": "markdown",
   "metadata": {},
   "source": [
    "**Answer to Question Q2:**\n",
    "\n",
    "<span style=\"font-weight:bold;color:orange\">\n",
    "    ...your answer here ...\n",
    "</span>"
   ]
  },
  {
   "cell_type": "markdown",
   "metadata": {},
   "source": [
    "<br>\n",
    "<div style=\"border: 2px solid #999; padding: 10px; background: #9696ff;\">\n",
    "    \n",
    "**Question Q3:**\n",
    "\n",
    "* Which sounds are most affected when the low-pass cut-off frequency is set to around $500$\n",
    "Hz - vowels or consonants - and why?\n",
    "    \n",
    "</div>"
   ]
  },
  {
   "cell_type": "markdown",
   "metadata": {},
   "source": [
    "**Answer to Question Q3:**\n",
    "\n",
    "<span style=\"font-weight:bold;color:orange\">\n",
    "    ...your answer here ...\n",
    "</span>"
   ]
  },
  {
   "cell_type": "markdown",
   "metadata": {},
   "source": [
    "## 4. Audio Effects\n",
    "\n",
    "### 4.1 Low Frequency Oscillator\n",
    "\n",
    "Many ‘Voice effects (FX)’ are achieved by modifying some characteristic of the speech using a low frequency oscillator or *LFO*. LFOs typically have two controls: speed (which is specified by the frequency in Hertz) and depth (which specifies the magnitude of the effect). The following tasks will require several LFOs, so it makes sense to implement one in the following.\n",
    "\n",
    "<br>\n",
    "<div style=\"border: 2px solid #999; padding: 10px; background: #abe;\">\n",
    "    \n",
    "**Task T3:**\n",
    "    \n",
    "* Implement a Low Frequency Oscillator as a function `lfo()` as described below. Visualise that your function works be generating a sine and a square wave of frequency $5$ Hz and length $2$ seconds with different depths.\n",
    "    \n",
    "Note: There will be an extra point in the marking if you **do not** use the `scipy` library to solve this task.\n",
    "    \n",
    "</div>"
   ]
  },
  {
   "cell_type": "code",
   "execution_count": null,
   "metadata": {},
   "outputs": [],
   "source": [
    "def lfo(speed_hz, depth, num_samples, fs=44100, square_curve=False):\n",
    "    '''\n",
    "    Low-frequency oscillator\n",
    "    \n",
    "    Parameters\n",
    "    ----------\n",
    "    speed_hz : float\n",
    "       frequency of generated signal in Hertz\n",
    "    depth : float\n",
    "        magnitude of the effect\n",
    "    num_samples : int\n",
    "        length of the signal in samples\n",
    "    fs : float, optional \n",
    "        sampling frequency in Hz, default 44100\n",
    "    square_curve : boolean, optional (default: False)\n",
    "        generate square wave if true, generate sine wave if false\n",
    "\n",
    "    Example use:\n",
    "    -------\n",
    "        sig_square = lfo(speed_hz=5, depth=0.7, num_samples=88250, fs=44100, square_curve=True)\n",
    "    '''\n",
    "    \n",
    "    # Your code here \n",
    "    #\n",
    "    # ..."
   ]
  },
  {
   "cell_type": "code",
   "execution_count": null,
   "metadata": {},
   "outputs": [],
   "source": [
    "# Your code here to show that the LFO works\n",
    "#\n",
    "# ..."
   ]
  },
  {
   "cell_type": "markdown",
   "metadata": {},
   "source": [
    "Although your function outputs audio, you are unlikely to be able to hear it as the frequency is so low. However, you can check that it is functioning correctly by combining is with other audio signals as we will do in the following.\n",
    "\n",
    "### 4.2 Amplitude Modulation - Tremolo\n",
    "\n",
    "*Tremolo* is one of the most basic voice manipulations that makes use of an LFO. In this effect, the amplitude of a speech signal is [modulated](https://en.wikipedia.org/wiki/Amplitude_modulation), i.e. the speech waveform is multiplied by a variable gain that ranges between 0 and 1. \n",
    "\n",
    "Your LFO outputs an audio signal between `-depth` and `+depth`. So, in order to modulate the amplitude of the speech correctly, the output of the LFO has to be scaled appropriately to range between $0$ and $1$.\n",
    "\n",
    "<br>\n",
    "<div style=\"border: 2px solid #999; padding: 10px; background: #abe;\">\n",
    "    \n",
    "**Task T4:**\n",
    "    \n",
    "* Implement  a function `tremolo()` using your function `lfo()` and modulate the amplitude of the speech signal. Experiment with different settings for `speed` and `depth`. In particular, note that a square wave with speed between 3 and 4 Hz (and depth = 1) has a very destructive effect on the intelligibility of the output. This is because 3-4 Hz corresponds to the typical syllabic rate of speech.\n",
    "    \n",
    "</div>"
   ]
  },
  {
   "cell_type": "code",
   "execution_count": null,
   "metadata": {},
   "outputs": [],
   "source": [
    "def tremolo(signal, fs, speed_hz, depth, square_curve=False):\n",
    "    '''\n",
    "    Applies a tremolo effect to a signal\n",
    "    \n",
    "    Parameters\n",
    "    ----------\n",
    "    signal : float\n",
    "       input signal to which the effect should be applied\n",
    "    fs : int\n",
    "        sampling frequency in Hz\n",
    "    speed_hz : float\n",
    "       frequency of LFO and by this also the effect\n",
    "    depth : float\n",
    "        magnitude of the effect\n",
    "    square_curve : boolean, optional\n",
    "        generate square wave if true, generate sine wave if false\n",
    "    \n",
    "    Return\n",
    "    ----------\n",
    "    signal after application of tremolo effect\n",
    "    \n",
    "    Example use:\n",
    "    -------\n",
    "        signal_tremolo = tremolo(audio_in, fs, 10, 1, square_curve=False)\n",
    "    '''\n",
    "    \n",
    "    # Your code here \n",
    "    #\n",
    "    # ..."
   ]
  },
  {
   "cell_type": "code",
   "execution_count": null,
   "metadata": {},
   "outputs": [],
   "source": [
    "# Your code here to show an example of the Tremolo effect\n",
    "#\n",
    "# ..."
   ]
  },
  {
   "cell_type": "markdown",
   "metadata": {},
   "source": [
    "### 4.3 Ring Modulation\n",
    "\n",
    "Another basic effect is to multiply the speech signal by the output of an LFO. This is known as ‘ring modulation’.\n",
    "\n",
    "<br>\n",
    "<div style=\"border: 2px solid #999; padding: 10px; background: #abe;\">\n",
    "    \n",
    "**Task T5:**\n",
    "    \n",
    "* Implement  a function `ring_modulation()` using your function `lfo()` and modulate the amplitude of the speech signal by multiplying with the LFO signal. Experiment with different settings for `speed` and `depth`. Note how the\n",
    "timbre of the resulting sound is subtly different from *tremolo*.\n",
    "    \n",
    "</div>\n",
    "\n",
    "Note: In the BBC TV series [Dr. Who](https://en.wikipedia.org/wiki/Doctor_Who), the voices of the alien [Daleks](https://en.wikipedia.org/wiki/Dalek) are generated by a ring modulator with an LFO set to around 30 Hz. The voice actors also spoke using a stilted monotonic intonation in order to enhance the effect. You can try this yourself by\n",
    "recording your own voice and applying the effect."
   ]
  },
  {
   "cell_type": "code",
   "execution_count": null,
   "metadata": {},
   "outputs": [],
   "source": [
    "def ring_modulation(signal, fs, speed_hz, depth, square_curve=False):\n",
    "    '''\n",
    "    Applies a ring modulation effect to a signal\n",
    "    \n",
    "    Parameters\n",
    "    ----------\n",
    "    signal : float\n",
    "       input signal to which the effect should be applied\n",
    "    fs : int\n",
    "        sampling frequency in Hz\n",
    "    speed_hz : float\n",
    "       frequency of LFO and by this also the effect\n",
    "    depth : float\n",
    "        magnitude of the effect\n",
    "    square_curve : boolean, optional\n",
    "        generate square wave if true, generate sine wave if false\n",
    "    \n",
    "    Return\n",
    "    ----------\n",
    "    signal after application of the ring modulation effect\n",
    "    \n",
    "    Example use:\n",
    "    -------\n",
    "        signal_ring_mod = ring_modulation(audio_in, fs, 10, 1, square_curve=False)\n",
    "    '''\n",
    "#\n",
    "# ...   "
   ]
  },
  {
   "cell_type": "code",
   "execution_count": null,
   "metadata": {},
   "outputs": [],
   "source": [
    "# Your code here to show an example of the Ring Modulation effect\n",
    "#\n",
    "# ..."
   ]
  },
  {
   "cell_type": "markdown",
   "metadata": {},
   "source": [
    "### 4.4 Frequency Shifting\n",
    "\n",
    "Many Vocal FX are the result of altering the frequencies present, e.g. changing the pitch of a voice. There are many algorithms for frequency shifting. You have already implemented an approximate solution with your ring modulator.\n",
    "\n",
    "For simplicity, the following function will be givem implementing frequency shifting."
   ]
  },
  {
   "cell_type": "code",
   "execution_count": null,
   "metadata": {},
   "outputs": [],
   "source": [
    "# the following code in this cell is taken and slightly adapted from:\n",
    "# https://gist.github.com/lebedov/4428122\n",
    "\n",
    "import scipy.signal\n",
    "\n",
    "def nextpow2(n):\n",
    "    '''Return the first integer N such that 2**N >= abs(n)'''\n",
    "    return int(np.ceil(np.log2(np.abs(n))))\n",
    "\n",
    "def frequency_shift(signal, fs, shift_amount):\n",
    "    '''\n",
    "    Shift the specified signal by the specified frequency.\n",
    "    \n",
    "    Parameters\n",
    "    ----------\n",
    "    signal : float\n",
    "       input signal to which the effect should be applied\n",
    "    fs : int\n",
    "        sampling frequency in Hz\n",
    "    shift_amount : float\n",
    "       amount of frequency shift (in Hz)\n",
    "   \n",
    "    Return\n",
    "    ----------\n",
    "    signal after application of the frequancy shifting effect\n",
    "    \n",
    "    Example use:\n",
    "    -------\n",
    "        signal_frequency_shifted = frequency_shift(audio_in, fs, 100)\n",
    "    '''\n",
    "\n",
    "    # Pad the signal with zeros to prevent the FFT invoked by the transform from\n",
    "    # slowing down the computation:\n",
    "    N_orig = len(signal)\n",
    "    N_padded = 2 ** nextpow2(N_orig)\n",
    "    t = np.arange(0, N_padded)\n",
    "    return (\n",
    "        scipy.signal.hilbert(\n",
    "            np.hstack((signal, np.zeros(N_padded - N_orig, signal.dtype)))\n",
    "        )\n",
    "        * np.exp(2j * np.pi * shift_amount * t / fs)\n",
    "    )[:N_orig].real"
   ]
  },
  {
   "cell_type": "markdown",
   "metadata": {},
   "source": [
    "<br>\n",
    "<div style=\"border: 2px solid #999; padding: 10px; background: #abe;\">\n",
    "    \n",
    "**Task T6:**\n",
    "    \n",
    "* Visualise the effect of the frequency shift effect using an appropriate spectral representation.\n",
    "    \n",
    "</div>"
   ]
  },
  {
   "cell_type": "code",
   "execution_count": null,
   "metadata": {},
   "outputs": [],
   "source": [
    "# Your code here to show an example of the frequency shift effect\n",
    "#\n",
    "# ..."
   ]
  },
  {
   "cell_type": "markdown",
   "metadata": {},
   "source": [
    "<br>\n",
    "<div style=\"border: 2px solid #999; padding: 10px; background: #9696ff;\">\n",
    "    \n",
    "**Question Q4:**\n",
    "\n",
    "* COM3502-4502-6502: Why can the voice be shifted up in frequency much further than\n",
    "it can be shifted down in frequency before it becomes severely distorted? Hint: Calculate a spectrum plot if the answer is not immediately clear to you.\n",
    "* COM4502-6502 ONLY: Your frequency shifter changes all the frequencies present in an input signal. How might it be possible to change the pitch of a voice without altering the formant frequencies?\n",
    "    \n",
    "</div>"
   ]
  },
  {
   "cell_type": "markdown",
   "metadata": {},
   "source": [
    "**Answer to Question Q4:**\n",
    "\n",
    "<span style=\"font-weight:bold;color:orange\">\n",
    "    ...your answer here ...\n",
    "</span>"
   ]
  },
  {
   "cell_type": "markdown",
   "metadata": {},
   "source": [
    "### 4.5 Harmony Effect\n",
    "\n",
    "A classic ‘robotic’ voice can be achieved by simply adding frequency-shifted speech back to the unprocessed original. This effect is known as ‘harmony’. However, rather than simply adding the signals in equal amounts, we will implement a more general purpose approach.\n",
    "\n",
    "<br>\n",
    "<div style=\"border: 2px solid #999; padding: 10px; background: #abe;\">\n",
    "    \n",
    "**Task T7:**\n",
    "    \n",
    "* Implement a function `mixer()` that adds the original speech with the manipulated speech in different proportions. \n",
    "* Implement a function `harmony()` mixes the input signal with a frequency shifted version of itself (using the funtions `mixer()` and `frequency_shift()`). With your mixer at the 50-50 setting, experiment with different frequency shifts in order to produce the best robotic sounding output. Report \"your optimal\" setting. \n",
    "</div>"
   ]
  },
  {
   "cell_type": "code",
   "execution_count": null,
   "metadata": {},
   "outputs": [],
   "source": [
    "# def mixer(signal1, signal1, percentage_l=0.5):\n",
    "\n",
    "# Your code here to implement mixing of two signals, used later for the harmony effect\n",
    "#\n",
    "# ..."
   ]
  },
  {
   "cell_type": "code",
   "execution_count": null,
   "metadata": {},
   "outputs": [],
   "source": [
    "# def harmony(...\n",
    "\n",
    "# Your code here to implement the harmony effect\n",
    "#\n",
    "# ..."
   ]
  },
  {
   "cell_type": "code",
   "execution_count": null,
   "metadata": {},
   "outputs": [],
   "source": [
    "# Your code here to show an example of the harmony effect\n",
    "#\n",
    "# ..."
   ]
  },
  {
   "cell_type": "markdown",
   "metadata": {},
   "source": [
    "**Answer to question in Task T7:**\n",
    "\n",
    "<span style=\"font-weight:bold;color:orange\">\n",
    "    ...your answer here ... <br>\n",
    "  My optimal setting is ..... <br>\n",
    "    because .....\n",
    "</span>"
   ]
  },
  {
   "cell_type": "markdown",
   "metadata": {},
   "source": [
    "### 4.6 Frequency Modulation: Vibrato\n",
    "\n",
    "Now that you have the ability to shift the frequencies in a speech signal, it is very easy to implement another common voice manipulation technique - *vibrato*. All that is required is for the frequency shifter to be controlled by the output of an LFO.\n",
    "\n",
    "\n",
    "\n",
    "<br>\n",
    "<div style=\"border: 2px solid #999; padding: 10px; background: #abe;\">\n",
    "    \n",
    "**Task T8:**\n",
    "    \n",
    "* Implement a function `vibrato()` by connecting an LFO to your frequency shifter, and experiment with different values for speed and depth . Note that the LFO output will need to be scaled to provide an appropriate frequency shift range and then added to the output of the frequency shift slider.\n",
    "    \n",
    "</div>\n",
    "\n"
   ]
  },
  {
   "cell_type": "code",
   "execution_count": null,
   "metadata": {},
   "outputs": [],
   "source": [
    "# def vibrato(...\n",
    "\n",
    "# Your code here to show an example of the harmony effect\n",
    "#\n",
    "# ..."
   ]
  },
  {
   "cell_type": "code",
   "execution_count": null,
   "metadata": {},
   "outputs": [],
   "source": [
    "# Your code here to show an example of the vibrato effect\n",
    "#\n",
    "# ..."
   ]
  },
  {
   "cell_type": "markdown",
   "metadata": {},
   "source": [
    "### 4.7 Time Delay Effect - Echo and Comb Filter\n",
    "\n",
    "Many interesting voice FX can be achieved by delaying the signal and recombining it with itself. \n",
    "\n",
    "<br>\n",
    "<div style=\"border: 2px solid #999; padding: 10px; background: #abe;\">\n",
    "    \n",
    "**Task T9:**\n",
    "    \n",
    "* Implement a function `echo()` which mixes a signal $s(t)$ with itself in a delayed version, i.e. $s(t-t_0)$. Experiment with various values for the delay $t_0$, and note the different effects you can achieve with delays \n",
    "  * below 20 msecs\n",
    "  * between 20 and 100 msecs, and \n",
    "  * above 100 msecs.\n",
    "</div>"
   ]
  },
  {
   "cell_type": "code",
   "execution_count": null,
   "metadata": {},
   "outputs": [],
   "source": [
    "# def echo(...\n",
    "\n",
    "# Your code here to show an example of the echo effect\n",
    "#\n",
    "# ..."
   ]
  },
  {
   "cell_type": "code",
   "execution_count": null,
   "metadata": {},
   "outputs": [],
   "source": [
    "# Your code here to show an example of the echo effect\n",
    "#\n",
    "# ..."
   ]
  },
  {
   "cell_type": "markdown",
   "metadata": {},
   "source": [
    "### 4.8 Comb Filtering "
   ]
  },
  {
   "cell_type": "markdown",
   "metadata": {},
   "source": [
    "You should observe that, with delays below $20$ msec in your function `echo()`, the signals combine to create a subtle ‘phasing’ effect. This is known as ‘comb filtering’ as the signal is effectively interfering with itself, and frequency components corresponding to multiples of the delay time are enhanced or cancelled out (due to ‘superposition’). Delays between $20$ and $100$ msecs give the effect of the voice being in a reverberant room. Delays above $100$ msecs sound like distant echoes.\n",
    "\n",
    "<br>\n",
    "<div style=\"border: 2px solid #999; padding: 10px; background: #abe;\">\n",
    "    \n",
    "**Task T10:**\n",
    "    \n",
    "* Visualise the impulse response of your function `echo()` as well as the transfer function. Can you give an explanation from havin a look at the transfer function, why this effect would be called *comb filter*?\n",
    "</div>"
   ]
  },
  {
   "cell_type": "code",
   "execution_count": null,
   "metadata": {},
   "outputs": [],
   "source": [
    "# Your code here \n",
    "#\n",
    "# ..."
   ]
  },
  {
   "cell_type": "markdown",
   "metadata": {},
   "source": [
    "**Answer to question in Task T10:**\n",
    "\n",
    "<span style=\"font-weight:bold;color:orange\">\n",
    "    ...your answer here ...\n",
    "</span>"
   ]
  },
  {
   "cell_type": "markdown",
   "metadata": {},
   "source": [
    "### 4.9 Flanger \n",
    "\n",
    "It is possible to use an LFO to vary the delay. The resulting effect is known as a *flanger*.\n",
    "\n",
    "<br>\n",
    "<div style=\"border: 2px solid #999; padding: 10px; background: #abe;\">\n",
    "    \n",
    "**Task T11:**\n",
    "    \n",
    "* Add an LFO to your ‘delay’ to create a ‘flanger’, and experiment with different settings. Note that you will need to scale the output of the LFO, and you will get different effects depending on whether the delayed signal is mixed with the original or not.\n",
    "</div>"
   ]
  },
  {
   "cell_type": "code",
   "execution_count": null,
   "metadata": {},
   "outputs": [],
   "source": [
    "# Your code here \n",
    "#\n",
    "# ..."
   ]
  },
  {
   "cell_type": "code",
   "execution_count": null,
   "metadata": {},
   "outputs": [],
   "source": [
    "# Your code here \n",
    "#\n",
    "# ..."
   ]
  },
  {
   "cell_type": "markdown",
   "metadata": {},
   "source": [
    "## Frequency Analysis\n",
    "\n",
    "<br>\n",
    "<div style=\"border: 2px solid #999; padding: 10px; background: #9696ff;\">\n",
    "    \n",
    "**Question Q5:**\n",
    "\n",
    "* COM3502-4502-6502: \n",
    "    * What does FFT stand for and what does an FFT do?\n",
    "* COM4502-6502 ONLY: What is a DFT and how is it different from an FFT?\n",
    "    \n",
    "</div>"
   ]
  },
  {
   "cell_type": "markdown",
   "metadata": {},
   "source": [
    "**Answer to Question Q5:**\n",
    "\n",
    "<span style=\"font-weight:bold;color:orange\">\n",
    "    ...your answer here ...\n",
    "</span>"
   ]
  },
  {
   "cell_type": "markdown",
   "metadata": {},
   "source": [
    "## 5 Equaliser (for COM4502-6502 only)\n",
    "\n",
    "We want to design an equaliser like shown in the picture below as a hardware system.\n",
    "\n",
    "<img src=\"https://upload.wikimedia.org/wikipedia/commons/thumb/f/fa/Yamaha_EQ-500_Graphic_Equalizer.jpg/1920px-Yamaha_EQ-500_Graphic_Equalizer.jpg\" align=\"center\" style=\"width: 500px;\"/>\n",
    "<center><span style=\"font-size:smaller\">\n",
    "    Picture taken from <a href=\"https://simple.wikipedia.org/wiki/Equalization_(audio)\">Wikipedia</a>, license: <a href=\"https://creativecommons.org/licenses/by/2.0/\">CC BY 2.0</a>\n",
    "</span></center>\n",
    "\n",
    "\n",
    "The following function realises one of the sliders in software."
   ]
  },
  {
   "cell_type": "code",
   "execution_count": null,
   "metadata": {},
   "outputs": [],
   "source": [
    "def peaking_filter(gain,center_freq,q,fs):\n",
    "    \"\"\"\n",
    "    Derive coefficients for a peaking filter with a given amplitude and\n",
    "     bandwidth.  All coefficients are calculated as described in Zolzer's\n",
    "     DAFX book (p. 50 - 55).  This algorithm assumes a constant q-term\n",
    "     is used through the equation.\n",
    "    \n",
    "    Usage:     `b,a` = peaking_filter(gain,center_freq, q,fs)\n",
    "                `gain` is the logrithmic gain (in dB)\n",
    "                `center_freq` is the center frequency\n",
    "                `q` is q-term equating to (Fb / Fc)\n",
    "                `fs` is the sampling rate\n",
    "    \n",
    "    Author:    Jeff Tackett 08/22/05\n",
    "    Port to Python by George Close 10/07/21\n",
    "    \"\"\"\n",
    "    \n",
    "    gain = np.float32(gain)\n",
    "    k = np.tan((np.pi*center_freq)/fs)\n",
    "    V0 = 10**((gain)/20)\n",
    "    # invert gain if a cut\n",
    "    if V0 < 1:\n",
    "        V0 = 1/V0\n",
    "\n",
    "    # Boost\n",
    "    if gain > 0:\n",
    "        b0 = (1 + ((V0/q)*k)+ k**2) / (1+((1/q)*k)+k**2)\n",
    "        b1 = (2 * (k**2 - 1)) / (1 + ((1/q)*k) + k**2);\n",
    "        b2 = (1 - ((V0/q)*k) + k**2) / (1 + ((1/q)*k) + k**2);\n",
    "        a1 = b1;\n",
    "        a2 =  (1 - ((1/q)*k) + k**2) / (1 + ((1/q)*k) + k**2);\n",
    "    # Cut\n",
    "    elif gain <0:\n",
    "        b0 = (1 + ((1/q)*k) + k**2) / (1 + ((V0/q)*k) + k**2);\n",
    "        b1 =       (2 * (k**2 - 1)) / (1 + ((V0/q)*k) + k**2);\n",
    "        b2 = (1 - ((1/q)*k) + k**2) / (1 + ((V0/q)*k) + k**2);\n",
    "        a1 = b1;\n",
    "        a2 = (1 - ((V0/q)*k) + k**2) / (1 + ((V0/q)*k) + k**2);\n",
    "    #gain is 0\n",
    "    else:\n",
    "        b0 = V0;\n",
    "        b1 = 0;\n",
    "        b2 = 0;\n",
    "        a1 = 0;\n",
    "        a2 = 0;\n",
    "    a = [  1, a1, a2];\n",
    "    b = [ b0, b1, b2];\n",
    "    return b,a"
   ]
  },
  {
   "cell_type": "markdown",
   "metadata": {},
   "source": [
    "<br>\n",
    "<div style=\"border: 2px solid #999; padding: 10px; background: #abe;\">\n",
    "    \n",
    "**Task T12:**\n",
    "    \n",
    "* Visualise the frequency response of one filter.\n",
    "* Implement a cascade of filters to realise an equaliser.\n",
    "* Visualise the frequency response of your equaliser filter and the input and (filtered) output signal.\n",
    "    \n",
    "</div>"
   ]
  },
  {
   "cell_type": "code",
   "execution_count": null,
   "metadata": {},
   "outputs": [],
   "source": [
    "# Your code here \n",
    "#\n",
    "# ..."
   ]
  },
  {
   "cell_type": "markdown",
   "metadata": {},
   "source": [
    "## 6. Prepare for submission\n",
    "\n",
    "<br>\n",
    "<div style=\"border: 2px solid #999; padding: 10px; background: #abe;\">\n",
    "    \n",
    "**Task T13:**\n",
    "    \n",
    "* Create a `.zip` file of the form `YourName.zip` containing this Jupyter Notebook files as well as all other file necessary to run this notebook (**if such exist**, e.g. if you created (additional) WAVE files). \n",
    "* Hand-in your `.zip` file via Blackboard.\n",
    "    \n",
    "\n",
    "<span style=\"font-weight:bold;color:red;text-align:center;\">**Important: For marking, we expect your code to work ‘out of the box’.**</span>\n",
    "    \n",
    "</div>"
   ]
  }
 ],
 "metadata": {
  "colab": {
   "collapsed_sections": [],
   "name": "SP_final_assignment.ipynb",
   "provenance": []
  },
  "kernelspec": {
   "display_name": "Python 3 (ipykernel)",
   "language": "python",
   "name": "python3"
  },
  "language_info": {
   "codemirror_mode": {
    "name": "ipython",
    "version": 3
   },
   "file_extension": ".py",
   "mimetype": "text/x-python",
   "name": "python",
   "nbconvert_exporter": "python",
   "pygments_lexer": "ipython3",
   "version": "3.8.3"
  },
  "toc": {
   "base_numbering": 1,
   "nav_menu": {},
   "number_sections": true,
   "sideBar": true,
   "skip_h1_title": false,
   "title_cell": "Table of Contents",
   "title_sidebar": "Contents",
   "toc_cell": false,
   "toc_position": {},
   "toc_section_display": true,
   "toc_window_display": false
  }
 },
 "nbformat": 4,
 "nbformat_minor": 1
}
