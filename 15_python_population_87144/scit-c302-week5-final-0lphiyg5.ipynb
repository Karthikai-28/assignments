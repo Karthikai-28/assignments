{
 "cells": [
  {
   "cell_type": "markdown",
   "metadata": {},
   "source": [
    "# SCIT C302 - C302 Advanced Computer Programming & Lab\n",
    "\n",
    "\n",
    "# Week 5 - Fianl \n",
    "\n",
    "### Final exam (100 points, total 30% of your final grade)\n",
    "\n",
    "#### Test Time: 120 minutes. Start time: 6:10PM. Due 8:10PM.\n",
    "\n",
    "- Download all the files (this notebook and data files) and start to work on it.\n",
    "- Make sure to rename your notebook file to final_yourFirstName.ipynb\n",
    "- Submit your Jupyter notebook. \n",
    "\n"
   ]
  },
  {
   "cell_type": "markdown",
   "metadata": {},
   "source": [
    "## Final Questions"
   ]
  },
  {
   "cell_type": "markdown",
   "metadata": {},
   "source": [
    "<hr>\n",
    "\n",
    "1. (total 10 points) Write a function to add all the digits in a number and use the provided tests code to generate answers:\n",
    "\n",
    "    - digitSum(num)\n",
    "\n",
    "\n",
    "```\n",
    "# run this code\n",
    "\n",
    "digitSum(12345)\n",
    "\n",
    "# should generate the following result\n",
    "\n",
    "15\n",
    "\n",
    "```\n"
   ]
  },
  {
   "cell_type": "code",
   "execution_count": null,
   "metadata": {},
   "outputs": [],
   "source": [
    "# Complete the function and run tests to show your answers:\n",
    "\n",
    "\n",
    "def digitSum(num):\n",
    "    result = 0\n",
    "    print('The sum of all digits in', num, 'is', result )\n",
    "     \n",
    "\n",
    "#### Tests ####\n",
    "    \n",
    "digitSum(333)\n",
    "\n",
    "digitSum(5667081235)\n"
   ]
  },
  {
   "cell_type": "markdown",
   "metadata": {},
   "source": [
    "<hr>\n",
    "\n",
    "## Extra Credit Here!! (extra 10 points)\n",
    "\n",
    "Instead of using argument in your digitSum function, change to use the user input. You can not expect the users always put in the legal inputs. The input could be a number or other chatacter string. \n",
    "\n",
    "Please modify your digitSum function to 1) use user input and 2) validate the input before summing up the digits. If the input is a number as expected, proceed with the function. If the input is a non-number character string, your program should return an error message \"Only number is allowed\". \n"
   ]
  },
  {
   "cell_type": "code",
   "execution_count": null,
   "metadata": {},
   "outputs": [],
   "source": [
    "'''\n",
    "Your enhanced digitsum function using user input here. \n",
    "''' \n",
    "\n",
    "\n",
    "def digitSumEnh():\n",
    "    pass\n",
    "\n",
    "\n",
    "\n",
    "\n",
    "\n",
    "\n"
   ]
  },
  {
   "cell_type": "code",
   "execution_count": null,
   "metadata": {},
   "outputs": [],
   "source": [
    "### TEST digitSumEnh() with valid and invalid inputs\n",
    "\n",
    "digitSumEnh()"
   ]
  },
  {
   "cell_type": "markdown",
   "metadata": {},
   "source": [
    "<hr>\n",
    "\n",
    "2. (15 points each, total 30 points) The following questions are derived from your Lab 4. You have a Car class, a list of sales record, a list of cars objects.\n",
    "\n",
    "These are what you need to do:\n",
    "\n",
    "1, Write code to convert the sales record in list to a dictionary.\n",
    "\n",
    "    Ex. for record [\"Honda\", 2017, \"Civic\", 18500, '201910', 22000, '202102'], your dictionary should be:\n",
    "    \n",
    "    {'brand': 'Honda', 'modelYear': 2017, 'model': 'Civic', 'cost': 18500, 'onLotSince': '201910', 'soldPrice': 22000, 'soldDate': '202102'}\n",
    "    \n",
    "2, Use the provided Car class, list of car objects (cars) and sample code, write additional code to report the most popular brand (the brand got sold the most) and how many cars of the most popular brand sold.\n",
    "\n"
   ]
  },
  {
   "cell_type": "code",
   "execution_count": null,
   "metadata": {},
   "outputs": [],
   "source": [
    "# 1, write code to convert sales record list to dictionary \n",
    "\n",
    "# This is your sales record in list\n",
    "salesRecords = [\n",
    "    [\"Tesla\", 2015, \"X\", 45000, '201710', 44567, '201805'],\n",
    "    [\"Tesla\", 2017, \"S\", 95000, '201910', 96850, '202007'],\n",
    "    [\"Toyota\", 2010, \"Sienna\", 25000, '201502', 23800, '201504'],\n",
    "    [\"Honda\", 2000, \"Accord\", 23000, '201303', 25890, '201601'],\n",
    "    [\"Toyota\", 2016, \"Camry\", 23000, '201612', 25890, '201702'],\n",
    "    [\"Honda\", 2017, \"Civic\", 18500, '201910', 22000, '202102'],\n",
    "    [\"Toyota\", 2004, \"Camry\", 9000, '201310', 12390, '201612'],\n",
    "    [\"Ford\", 2014, \"F150\", 35000, '201508', 38500, '201612'],\n",
    "    [\"Subaru\", 2016, \"Forester\", 25000, '201808', 28000, '201809']\n",
    "]\n",
    "\n",
    "transaction = {}  # use this to store each sales record\n",
    "transactionList = []  # put all transactions to this list\n",
    "\n",
    "###### You need to write your code here #####\n",
    "\n",
    "\n",
    "\n",
    "\n",
    "###### End of your code  ########\n",
    "\n",
    "##### The lines below are to print your answers. Do Not change these two lines  ########\n",
    "print('The first item in the transactionList = ', transactionList[0])\n",
    "print('---------------------')\n",
    "print(transactionList)"
   ]
  },
  {
   "cell_type": "code",
   "execution_count": null,
   "metadata": {},
   "outputs": [],
   "source": [
    "'''\n",
    "#2, write additional code to report the most popular brand (the brand got sold the most) \n",
    "and how many cars of the most popular brand sold.\n",
    "\n",
    "Review the following code sample from Lab 4. \n",
    "\n",
    "Notes:\n",
    "1, You should run it first to see how it work.\n",
    "2, Do not modify any provided sample code. \n",
    "3, Only work on your code/answer in the bottom of this cell.\n",
    "''' \n",
    "\n",
    "import datetime\n",
    "\n",
    "class Car:\n",
    "    \"\"\"A simple class about car\"\"\"\n",
    "    \n",
    "    def __init__(self, brand, modelYear, model, cost, onLotSince, soldPrice, soldDate):\n",
    "        self.brand = brand\n",
    "        self.modelYear = modelYear  \n",
    "        self.model = model  \n",
    "        self.cost = cost\n",
    "        self.onLotSince = onLotSince\n",
    "        self.soldPrice = soldPrice\n",
    "        self.soldDate = soldDate\n",
    "        \n",
    "    def age(self):\n",
    "        today = datetime.datetime.now()\n",
    "        # age of the car = today's year - model year\n",
    "        return today.year - self.modelYear\n",
    "    \n",
    "    def carMonthsOnLot(self):\n",
    "        # return \"months on lot\" to initialize the internal attribute \"monthsOnLot\"\n",
    "        #print('I am trying to figure out how many months the car was sitting on the list...')\n",
    "        #print(int(self.soldDate[:4]) , int(self.onLotSince[:4]))\n",
    "        yearDiff = int(self.soldDate[:4]) - int(self.onLotSince[:4])\n",
    "        #print(yearDiff)\n",
    "        toAddMonths = yearDiff * 12\n",
    "        \n",
    "        if (yearDiff == 0):  # same year sale, soldMonth - onLotMonth\n",
    "            return int(self.soldDate[4:]) - int(self.onLotSince[4:]) \n",
    "        elif (yearDiff == 1):  # remaining months from the onLotMonth + soldMonth\n",
    "            return (12 - int(self.onLotSince[4:])) + int(self.soldDate[4:]) \n",
    "        else:  # remaining months from the onLotMonth + soldMonth + (yearDiff * 12) \n",
    "            return (12 - int(self.onLotSince[4:])) + int(self.soldDate[4:]) + toAddMonths\n",
    "    \n",
    "    def profit(self):\n",
    "        # return the profit \n",
    "        # print('I am trying to figure out the profit of the sold car...')\n",
    "        return  self.soldPrice - self.cost\n",
    " \n",
    "\n",
    "'''\n",
    "List of car objects\n",
    "''' \n",
    "cars = []\n",
    "for record in salesRecords:\n",
    "    cars.append(Car(record[0], record[1], record[2], record[3], record[4], record[5], record[6]))\n",
    "\n",
    "#print(len(cars))\n",
    "longestSittingIndex = 0\n",
    "maxProfitIndex = 0\n",
    "totalProfit = 0\n",
    "\n",
    "for i in range(len(cars)):\n",
    "    #print(i)\n",
    "    #print(cars[i].carMonthsOnLot(), cars[longestSittingIndex].carMonthsOnLot())\n",
    "    #print(cars[i].profit(), cars[maxProfitIndex].profit())\n",
    "    \n",
    "    if (cars[i].carMonthsOnLot() >= cars[longestSittingIndex].carMonthsOnLot()):\n",
    "        #print('I got longer sitting car', i)\n",
    "        longestSittingIndex = i\n",
    "        \n",
    "    if (cars[i].profit() >= cars[maxProfitIndex].profit()):\n",
    "        #print('I got higher profit car', i)\n",
    "        maxProfitIndex = i\n",
    "        \n",
    "    totalProfit = totalProfit + cars[i].profit()\n",
    "    \n",
    "    \n",
    "# Sample output for your reference\n",
    "print('The longest sitting car index is', longestSittingIndex, ':',\n",
    "      cars[longestSittingIndex].carMonthsOnLot(), 'months,',\n",
    "      cars[longestSittingIndex].brand ,cars[longestSittingIndex].model)\n",
    "print('The max profit car index is', maxProfitIndex, ':', \n",
    "      '$' + str(cars[maxProfitIndex].profit()), ':', \n",
    "      cars[maxProfitIndex].brand ,cars[maxProfitIndex].model)\n",
    "print('Total profit :', '$' + str(totalProfit))\n",
    "\n",
    "\n",
    "print('----------------------------------------------------------')\n",
    "print('----------- The following are my answers... --------------')\n",
    "print('----------------------------------------------------------')\n",
    "\n",
    "### Above are code sample. Do Not modify any line above. ###\n",
    "\n",
    "##################################\n",
    "#### Write your code below #######\n",
    "\n",
    "'''\n",
    "Hint: a potential solution could be\n",
    "1, use set() to figure out a set of distinct brands in the sales record.\n",
    "2, count how many cars sold for each distinct brand, then you know which is the most popular brand\n",
    "3, figure out total revenue from the most popular brand\n",
    "4, write the proper print statement to report the answer\n",
    "'''\n",
    "\n",
    "\n",
    "\n",
    "\n",
    "\n",
    "\n",
    "\n",
    "\n",
    "\n",
    "\n",
    "\n",
    "\n",
    "print('Modify this print statement for your answers.')\n"
   ]
  },
  {
   "cell_type": "markdown",
   "metadata": {},
   "source": [
    "<hr>\n",
    "\n",
    "3. (total 20 points) Write a program to print the 2021 July calendar that looks exactly as below\n",
    "\n",
    "```\n",
    "2021 July\n",
    "Sun Mon Tue Wed Thu Fri Sat\n",
    "                1   2   3  \n",
    "4   5   6   7   8   9   10 \n",
    "11  12  13  14  15  16  17 \n",
    "18  19  20  21  22  23  24 \n",
    "25  26  27  28  29  30  31 \n",
    "```\n",
    "\n"
   ]
  },
  {
   "cell_type": "code",
   "execution_count": 24,
   "metadata": {},
   "outputs": [
    {
     "name": "stdout",
     "output_type": "stream",
     "text": [
      "2021 July\n",
      "Sun Mon Tue Wed Thu Fri Sat\n"
     ]
    }
   ],
   "source": [
    "# Define weekday  \n",
    "weekday = ('Sun', 'Mon', 'Tue', 'Wed', 'Thu', 'Fri', 'Sat')\n",
    "\n",
    "# There are 31 days in July\n",
    "daysInMonth = 31   \n",
    "\n",
    "'''\n",
    "For some solutions, it might be handy to know the index of the first day \n",
    "in July from the weekday list\n",
    "'''\n",
    "firstDayIndex = weekday.index('Thu')\n",
    "#print(firstDayIndex)\n",
    "\n",
    "'''\n",
    "For the following 4 variables, you my use them if you like. \n",
    "If you don't want to use them, just ignore them.\n",
    "You can create your own variables that fit your logic.\n",
    "'''\n",
    "day_count = 0\n",
    "row_length = 7\n",
    "dateList = []\n",
    "printRow = []\n",
    "\n",
    "# The following two lines are to print the header for you \n",
    "# (so that you have an idea about the spacing of each field)\n",
    "print('2021 July')\n",
    "print(' '.join(weekday))\n",
    "\n",
    "#######################################################################\n",
    "####### Your code here to print the dates exactly like the spec. ######\n",
    "        \n",
    "\n",
    "    \n",
    "    \n",
    "    \n",
    "    \n",
    "    \n",
    "    \n",
    "    \n"
   ]
  },
  {
   "cell_type": "markdown",
   "metadata": {},
   "source": [
    "<hr>\n",
    "\n",
    "4. (total 40 points) In this question, you need to use Pandas and Matplotlib. For usage, you may refer to the Week 4-2 and Week 5-1 lecture notes. Please do the followings:\n",
    "\n",
    "    - (10 points) Read in the CA projection population data (csv file provided) that we used in class. File name: dof_dru_pop_1970_2050_csya_wide.csv  \n",
    "    \n",
    "    - (15 points) Use Pandas to print a table that show the new born population projection from 2020 - 2050 for Orange, San Bernadino, Riverside. \n",
    "    \n",
    "    - (15 points) Use Matplotlib to plot a line chart with 3 lines that shows the above 3 counties new born population project from 2020 - 2050. \n",
    "    "
   ]
  },
  {
   "cell_type": "code",
   "execution_count": null,
   "metadata": {},
   "outputs": [],
   "source": [
    "from matplotlib import pyplot as plt\n",
    "import pandas as pd\n",
    "\n",
    "# The file name is 'dof_dru_pop_1970_2050_csya_wide.csv'"
   ]
  },
  {
   "cell_type": "code",
   "execution_count": null,
   "metadata": {},
   "outputs": [],
   "source": [
    "# 1, readd the file in here\n",
    "\n"
   ]
  },
  {
   "cell_type": "code",
   "execution_count": null,
   "metadata": {},
   "outputs": [],
   "source": [
    "# 2, use this cell or more cells to output the table\n",
    "\n",
    "\n"
   ]
  },
  {
   "cell_type": "code",
   "execution_count": null,
   "metadata": {},
   "outputs": [],
   "source": []
  },
  {
   "cell_type": "code",
   "execution_count": null,
   "metadata": {},
   "outputs": [],
   "source": [
    "# 3, use this cell or more cells to plot the multi-line chart\n",
    "\n",
    "\n",
    "\n",
    "\n"
   ]
  },
  {
   "cell_type": "code",
   "execution_count": null,
   "metadata": {},
   "outputs": [],
   "source": []
  },
  {
   "cell_type": "markdown",
   "metadata": {},
   "source": [
    "# Maximum 100 points (30% of your grade). Test time: 120 minutes."
   ]
  },
  {
   "cell_type": "code",
   "execution_count": null,
   "metadata": {},
   "outputs": [],
   "source": []
  },
  {
   "cell_type": "code",
   "execution_count": null,
   "metadata": {},
   "outputs": [],
   "source": []
  },
  {
   "cell_type": "code",
   "execution_count": null,
   "metadata": {},
   "outputs": [],
   "source": []
  }
 ],
 "metadata": {
  "kernelspec": {
   "display_name": "Python 3",
   "language": "python",
   "name": "python3"
  },
  "language_info": {
   "codemirror_mode": {
    "name": "ipython",
    "version": 3
   },
   "file_extension": ".py",
   "mimetype": "text/x-python",
   "name": "python",
   "nbconvert_exporter": "python",
   "pygments_lexer": "ipython3",
   "version": "3.7.2"
  }
 },
 "nbformat": 4,
 "nbformat_minor": 2
}
