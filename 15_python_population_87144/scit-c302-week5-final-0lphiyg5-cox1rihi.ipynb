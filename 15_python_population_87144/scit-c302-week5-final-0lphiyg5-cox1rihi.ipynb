{
 "cells": [
  {
   "cell_type": "markdown",
   "metadata": {},
   "source": [
    "# SCIT C302 - C302 Advanced Computer Programming & Lab\n",
    "\n",
    "\n",
    "# Week 5 - Fianl \n",
    "\n",
    "### Final exam (100 points, total 30% of your final grade)\n",
    "\n",
    "#### Test Time: 120 minutes. Start time: 6:10PM. Due 8:10PM.\n",
    "\n",
    "- Download all the files (this notebook and data files) and start to work on it.\n",
    "- Make sure to rename your notebook file to final_yourFirstName.ipynb\n",
    "- Submit your Jupyter notebook. \n",
    "\n"
   ]
  },
  {
   "cell_type": "markdown",
   "metadata": {},
   "source": [
    "## Final Questions"
   ]
  },
  {
   "cell_type": "markdown",
   "metadata": {},
   "source": [
    "<hr>\n",
    "\n",
    "1. (total 10 points) Write a function to add all the digits in a number and use the provided tests code to generate answers:\n",
    "\n",
    "    - digitSum(num)\n",
    "\n",
    "\n",
    "```\n",
    "# run this code\n",
    "\n",
    "digitSum(12345)\n",
    "\n",
    "# should generate the following result\n",
    "\n",
    "15\n",
    "\n",
    "```\n"
   ]
  },
  {
   "cell_type": "code",
   "execution_count": 4,
   "metadata": {},
   "outputs": [
    {
     "output_type": "stream",
     "name": "stdout",
     "text": [
      "The sum of all digits in 333 is 9\nThe sum of all digits in 5667081235 is 43\n"
     ]
    }
   ],
   "source": [
    "# Complete the function and run tests to show your answers:\n",
    "\n",
    "\n",
    "def digitSum(num):\n",
    "    num_ = num\n",
    "    result = 0\n",
    "    while(num != 0):\n",
    "        result = result + int(num % 10)\n",
    "        num = int(num/10)\n",
    "\n",
    "    print('The sum of all digits in', num_, 'is', result )\n",
    "     \n",
    "\n",
    "#### Tests ####\n",
    "    \n",
    "digitSum(333)\n",
    "\n",
    "digitSum(5667081235)\n"
   ]
  },
  {
   "cell_type": "markdown",
   "metadata": {},
   "source": [
    "<hr>\n",
    "\n",
    "## Extra Credit Here!! (extra 10 points)\n",
    "\n",
    "Instead of using argument in your digitSum function, change to use the user input. You can not expect the users always put in the legal inputs. The input could be a number or other chatacter string. \n",
    "\n",
    "Please modify your digitSum function to 1) use user input and 2) validate the input before summing up the digits. If the input is a number as expected, proceed with the function. If the input is a non-number character string, your program should return an error message \"Only number is allowed\". \n"
   ]
  },
  {
   "cell_type": "code",
   "execution_count": 19,
   "metadata": {},
   "outputs": [
    {
     "output_type": "stream",
     "name": "stdout",
     "text": [
      "6 It is a number\nThe sum of all digits in 333 is 9\nThe sum of all digits in 5667081235 is 43\n"
     ]
    }
   ],
   "source": [
    "'''\n",
    "Your enhanced digitsum function using user input here. \n",
    "''' \n",
    "def digitSumEnh(num_):\n",
    "    if type(num_) == int:\n",
    "        print(num_, \"It is a number\")\n",
    "        digitSum(333)\n",
    "        digitSum(5667081235)\n",
    "    else type(num_) == str:\n",
    "        print(num_, \"Only number is allowed\")\n",
    "    pass\n",
    "\n",
    "digitSumEnh(333)\n",
    "\n",
    "digitSumEnh(5667081235)\n",
    "\n",
    "\n",
    "\n"
   ]
  },
  {
   "cell_type": "code",
   "execution_count": null,
   "metadata": {},
   "outputs": [],
   "source": [
    "### TEST digitSumEnh() with valid and invalid inputs\n",
    "\n",
    "digitSumEnh()"
   ]
  },
  {
   "cell_type": "markdown",
   "metadata": {},
   "source": [
    "<hr>\n",
    "\n",
    "2. (15 points each, total 30 points) The following questions are derived from your Lab 4. You have a Car class, a list of sales record, a list of cars objects.\n",
    "\n",
    "These are what you need to do:\n",
    "\n",
    "1, Write code to convert the sales record in list to a dictionary.\n",
    "\n",
    "    Ex. for record [\"Honda\", 2017, \"Civic\", 18500, '201910', 22000, '202102'], your dictionary should be:\n",
    "    \n",
    "    {'brand': 'Honda', 'modelYear': 2017, 'model': 'Civic', 'cost': 18500, 'onLotSince': '201910', 'soldPrice': 22000, 'soldDate': '202102'}\n",
    "    \n",
    "2, Use the provided Car class, list of car objects (cars) and sample code, write additional code to report the most popular brand (the brand got sold the most) and how many cars of the most popular brand sold.\n",
    "\n"
   ]
  },
  {
   "cell_type": "code",
   "execution_count": 37,
   "metadata": {},
   "outputs": [
    {
     "output_type": "stream",
     "name": "stdout",
     "text": [
      "{'brand': 'Tesla', 'modelYear': 2015, 'model': 'X', 'cost': 45000, 'onLotSince': '201710', 'soldPrice': 44567, 'soldDate': '201805'}\n{'brand': 'Tesla', 'modelYear': 2017, 'model': 'S', 'cost': 95000, 'onLotSince': '201910', 'soldPrice': 96850, 'soldDate': '202007'}\n{'brand': 'Toyota', 'modelYear': 2010, 'model': 'Sienna', 'cost': 25000, 'onLotSince': '201502', 'soldPrice': 23800, 'soldDate': '201504'}\n{'brand': 'Honda', 'modelYear': 2000, 'model': 'Accord', 'cost': 23000, 'onLotSince': '201303', 'soldPrice': 25890, 'soldDate': '201601'}\n{'brand': 'Toyota', 'modelYear': 2016, 'model': 'Camry', 'cost': 23000, 'onLotSince': '201612', 'soldPrice': 25890, 'soldDate': '201702'}\n{'brand': 'Honda', 'modelYear': 2017, 'model': 'Civic', 'cost': 18500, 'onLotSince': '201910', 'soldPrice': 22000, 'soldDate': '202102'}\n{'brand': 'Toyota', 'modelYear': 2004, 'model': 'Camry', 'cost': 9000, 'onLotSince': '201310', 'soldPrice': 12390, 'soldDate': '201612'}\n{'brand': 'Ford', 'modelYear': 2014, 'model': 'F150', 'cost': 35000, 'onLotSince': '201508', 'soldPrice': 38500, 'soldDate': '201612'}\n{'brand': 'Subaru', 'modelYear': 2016, 'model': 'Forester', 'cost': 25000, 'onLotSince': '201808', 'soldPrice': 28000, 'soldDate': '201809'}\n---------------------\nThe number of cars sold,  201710201910201502201303201612201910201310201508201808\nthe brand got sold the most  Tesla 201910\nthe brand got sold the most  Honda 201910\nThe first item in the transactionList =  brand\n---------------------\n['brand', 'modelYear', 'model', 'cost', 'onLotSince', 'soldPrice', 'soldDate']\n"
     ]
    }
   ],
   "source": [
    "# 1, write code to convert sales record list to dictionary \n",
    "\n",
    "# This is your sales record in list\n",
    "salesRecords = [\n",
    "    [\"Tesla\", 2015, \"X\", 45000, '201710', 44567, '201805'],\n",
    "    [\"Tesla\", 2017, \"S\", 95000, '201910', 96850, '202007'],\n",
    "    [\"Toyota\", 2010, \"Sienna\", 25000, '201502', 23800, '201504'],\n",
    "    [\"Honda\", 2000, \"Accord\", 23000, '201303', 25890, '201601'],\n",
    "    [\"Toyota\", 2016, \"Camry\", 23000, '201612', 25890, '201702'],\n",
    "    [\"Honda\", 2017, \"Civic\", 18500, '201910', 22000, '202102'],\n",
    "    [\"Toyota\", 2004, \"Camry\", 9000, '201310', 12390, '201612'],\n",
    "    [\"Ford\", 2014, \"F150\", 35000, '201508', 38500, '201612'],\n",
    "    [\"Subaru\", 2016, \"Forester\", 25000, '201808', 28000, '201809']\n",
    "]\n",
    "\n",
    "transaction = {}  # use this to store each sales record\n",
    "transactionList = ['brand', 'modelYear', 'model', 'cost', 'onLotSince', 'soldPrice', 'soldDate']  # put all transactions to this list\n",
    "\n",
    "###### You need to write your code here #####\n",
    "\n",
    "# transactionList.append(salesRecords[])\n",
    "\n",
    "transaction = dict(zip(transactionList, salesRecords[0]))\n",
    "print(transaction)\n",
    "\n",
    "transaction = dict(zip(transactionList, salesRecords[1]))\n",
    "print(transaction)\n",
    "\n",
    "transaction = dict(zip(transactionList, salesRecords[2]))\n",
    "print(transaction)\n",
    "\n",
    "transaction = dict(zip(transactionList, salesRecords[3]))\n",
    "print(transaction)\n",
    "\n",
    "transaction = dict(zip(transactionList, salesRecords[4]))\n",
    "print(transaction)\n",
    "\n",
    "transaction = dict(zip(transactionList, salesRecords[5]))\n",
    "print(transaction)\n",
    "\n",
    "transaction = dict(zip(transactionList, salesRecords[6]))\n",
    "print(transaction)\n",
    "\n",
    "transaction = dict(zip(transactionList, salesRecords[7]))\n",
    "print(transaction)\n",
    "\n",
    "transaction = dict(zip(transactionList, salesRecords[8]))\n",
    "print(transaction)\n",
    "\n",
    "print('---------------------')\n",
    "\n",
    "cars_sold = salesRecords[0][4] + salesRecords[1][4] + salesRecords[2][4] + salesRecords[3][4] + salesRecords[4][4] + salesRecords[5][4] + salesRecords[6][4] + salesRecords[7][4] + salesRecords[8][4]\n",
    "\n",
    "print(\"The number of cars sold, \", cars_sold)\n",
    "\n",
    "brand_car = print(\"the brand got sold the most \", salesRecords[1][0], salesRecords[1][4])\n",
    "\n",
    "brand_car = print(\"the brand got sold the most \", salesRecords[5][0], salesRecords[5][4])\n",
    "\n",
    "###### End of your code  ########\n",
    "\n",
    "##### The lines below are to print your answers. Do Not change these two lines  ########\n",
    "print('The first item in the transactionList = ', transactionList[0])\n",
    "print('---------------------')\n",
    "print(transactionList)"
   ]
  },
  {
   "cell_type": "code",
   "execution_count": 40,
   "metadata": {},
   "outputs": [
    {
     "output_type": "stream",
     "name": "stdout",
     "text": [
      "The longest sitting car index is 6 : 50 months, Toyota Camry\nThe max profit car index is 7 : $3500 : Ford F150\nTotal profit : $19387\n----------------------------------------------------------\n----------- The following are my answers... --------------\n----------------------------------------------------------\nModify this print statement for your answers.\n"
     ]
    }
   ],
   "source": [
    "'''\n",
    "#2, write additional code to report the most popular brand (the brand got sold the most) \n",
    "and how many cars of the most popular brand sold.\n",
    "\n",
    "Review the following code sample from Lab 4. \n",
    "\n",
    "Notes:\n",
    "1, You should run it first to see how it work.\n",
    "2, Do not modify any provided sample code. \n",
    "3, Only work on your code/answer in the bottom of this cell.\n",
    "''' \n",
    "\n",
    "import datetime\n",
    "\n",
    "class Car:\n",
    "    \"\"\"A simple class about car\"\"\"\n",
    "    \n",
    "    def __init__(self, brand, modelYear, model, cost, onLotSince, soldPrice, soldDate):\n",
    "        self.brand = brand\n",
    "        self.modelYear = modelYear  \n",
    "        self.model = model  \n",
    "        self.cost = cost\n",
    "        self.onLotSince = onLotSince\n",
    "        self.soldPrice = soldPrice\n",
    "        self.soldDate = soldDate\n",
    "        \n",
    "    def age(self):\n",
    "        today = datetime.datetime.now()\n",
    "        # age of the car = today's year - model year\n",
    "        return today.year - self.modelYear\n",
    "    \n",
    "    def carMonthsOnLot(self):\n",
    "        # return \"months on lot\" to initialize the internal attribute \"monthsOnLot\"\n",
    "        #print('I am trying to figure out how many months the car was sitting on the list...')\n",
    "        #print(int(self.soldDate[:4]) , int(self.onLotSince[:4]))\n",
    "        yearDiff = int(self.soldDate[:4]) - int(self.onLotSince[:4])\n",
    "        #print(yearDiff)\n",
    "        toAddMonths = yearDiff * 12\n",
    "        \n",
    "        if (yearDiff == 0):  # same year sale, soldMonth - onLotMonth\n",
    "            return int(self.soldDate[4:]) - int(self.onLotSince[4:]) \n",
    "        elif (yearDiff == 1):  # remaining months from the onLotMonth + soldMonth\n",
    "            return (12 - int(self.onLotSince[4:])) + int(self.soldDate[4:]) \n",
    "        else:  # remaining months from the onLotMonth + soldMonth + (yearDiff * 12) \n",
    "            return (12 - int(self.onLotSince[4:])) + int(self.soldDate[4:]) + toAddMonths\n",
    "    \n",
    "    def profit(self):\n",
    "        # return the profit \n",
    "        # print('I am trying to figure out the profit of the sold car...')\n",
    "        return  self.soldPrice - self.cost\n",
    " \n",
    "\n",
    "'''\n",
    "List of car objects\n",
    "''' \n",
    "cars = []\n",
    "for record in salesRecords:\n",
    "    cars.append(Car(record[0], record[1], record[2], record[3], record[4], record[5], record[6]))\n",
    "\n",
    "#print(len(cars))\n",
    "longestSittingIndex = 0\n",
    "maxProfitIndex = 0\n",
    "totalProfit = 0\n",
    "\n",
    "for i in range(len(cars)):\n",
    "    #print(i)\n",
    "    #print(cars[i].carMonthsOnLot(), cars[longestSittingIndex].carMonthsOnLot())\n",
    "    #print(cars[i].profit(), cars[maxProfitIndex].profit())\n",
    "    \n",
    "    if (cars[i].carMonthsOnLot() >= cars[longestSittingIndex].carMonthsOnLot()):\n",
    "        #print('I got longer sitting car', i)\n",
    "        longestSittingIndex = i\n",
    "        \n",
    "    if (cars[i].profit() >= cars[maxProfitIndex].profit()):\n",
    "        #print('I got higher profit car', i)\n",
    "        maxProfitIndex = i\n",
    "        \n",
    "    totalProfit = totalProfit + cars[i].profit()\n",
    "    \n",
    "    \n",
    "# Sample output for your reference\n",
    "print('The longest sitting car index is', longestSittingIndex, ':',\n",
    "      cars[longestSittingIndex].carMonthsOnLot(), 'months,',\n",
    "      cars[longestSittingIndex].brand ,cars[longestSittingIndex].model)\n",
    "print('The max profit car index is', maxProfitIndex, ':', \n",
    "      '$' + str(cars[maxProfitIndex].profit()), ':', \n",
    "      cars[maxProfitIndex].brand ,cars[maxProfitIndex].model)\n",
    "print('Total profit :', '$' + str(totalProfit))\n",
    "\n",
    "\n",
    "print('----------------------------------------------------------')\n",
    "print('----------- The following are my answers... --------------')\n",
    "print('----------------------------------------------------------')\n",
    "\n",
    "### Above are code sample. Do Not modify any line above. ###\n",
    "\n",
    "##################################\n",
    "#### Write your code below #######\n",
    "\n",
    "'''\n",
    "Hint: a potential solution could be\n",
    "1, use set() to figure out a set of distinct brands in the sales record.\n",
    "2, count how many cars sold for each distinct brand, then you know which is the most popular brand\n",
    "3, figure out total revenue from the most popular brand\n",
    "4, write the proper print statement to report the answer\n",
    "'''\n",
    "\n",
    "\n",
    "\n",
    "\n",
    "\n",
    "\n",
    "\n",
    "\n",
    "\n",
    "\n",
    "\n",
    "\n",
    "print('Modify this print statement for your answers.')\n"
   ]
  },
  {
   "cell_type": "markdown",
   "metadata": {},
   "source": [
    "<hr>\n",
    "\n",
    "3. (total 20 points) Write a program to print the 2021 July calendar that looks exactly as below\n",
    "\n",
    "```\n",
    "2021 July\n",
    "Sun Mon Tue Wed Thu Fri Sat\n",
    "                1   2   3  \n",
    "4   5   6   7   8   9   10 \n",
    "11  12  13  14  15  16  17 \n",
    "18  19  20  21  22  23  24 \n",
    "25  26  27  28  29  30  31 \n",
    "```\n",
    "\n"
   ]
  },
  {
   "cell_type": "code",
   "execution_count": 49,
   "metadata": {},
   "outputs": [
    {
     "output_type": "stream",
     "name": "stdout",
     "text": [
      "2021 July\nSun Mon Tue Wed Thu Fri Sat\n     July 2021\nMo Tu We Th Fr Sa Su\n          1  2  3  4\n 5  6  7  8  9 10 11\n12 13 14 15 16 17 18\n19 20 21 22 23 24 25\n26 27 28 29 30 31\n\n"
     ]
    }
   ],
   "source": [
    "# Define weekday  \n",
    "weekday = ('Sun', 'Mon', 'Tue', 'Wed', 'Thu', 'Fri', 'Sat')\n",
    "\n",
    "# There are 31 days in July\n",
    "daysInMonth = 31   \n",
    "\n",
    "'''\n",
    "For some solutions, it might be handy to know the index of the first day \n",
    "in July from the weekday list\n",
    "'''\n",
    "firstDayIndex = weekday.index('Thu')\n",
    "#print(firstDayIndex)\n",
    "\n",
    "'''\n",
    "For the following 4 variables, you my use them if you like. \n",
    "If you don't want to use them, just ignore them.\n",
    "You can create your own variables that fit your logic.\n",
    "'''\n",
    "day_count = 0\n",
    "row_length = 7\n",
    "dateList = []\n",
    "printRow = []\n",
    "\n",
    "# The following two lines are to print the header for you \n",
    "# (so that you have an idea about the spacing of each field)\n",
    "print('2021 July')\n",
    "print(' '.join(weekday))\n",
    "\n",
    "#######################################################################\n",
    "####### Your code here to print the dates exactly like the spec. ######\n",
    "import calendar\n",
    "y = 2021\n",
    "m = 7\n",
    "print(calendar.month(y, m)) \n"
   ]
  },
  {
   "cell_type": "markdown",
   "metadata": {},
   "source": [
    "<hr>\n",
    "\n",
    "4. (total 40 points) In this question, you need to use Pandas and Matplotlib. For usage, you may refer to the Week 4-2 and Week 5-1 lecture notes. Please do the followings:\n",
    "\n",
    "    - (10 points) Read in the CA projection population data (csv file provided) that we used in class. File name: dof_dru_pop_1970_2050_csya_wide.csv  \n",
    "    \n",
    "    - (15 points) Use Pandas to print a table that show the new born population projection from 2020 - 2050 for Orange, San Bernadino, Riverside. \n",
    "    \n",
    "    - (15 points) Use Matplotlib to plot a line chart with 3 lines that shows the above 3 counties new born population project from 2020 - 2050. \n",
    "    "
   ]
  },
  {
   "cell_type": "code",
   "execution_count": 50,
   "metadata": {},
   "outputs": [
    {
     "output_type": "error",
     "ename": "ModuleNotFoundError",
     "evalue": "No module named 'matplotlib'",
     "traceback": [
      "\u001b[1;31m---------------------------------------------------------------------------\u001b[0m",
      "\u001b[1;31mModuleNotFoundError\u001b[0m                       Traceback (most recent call last)",
      "\u001b[1;32m<ipython-input-50-5213688cb38f>\u001b[0m in \u001b[0;36m<module>\u001b[1;34m\u001b[0m\n\u001b[1;32m----> 1\u001b[1;33m \u001b[1;32mfrom\u001b[0m \u001b[0mmatplotlib\u001b[0m \u001b[1;32mimport\u001b[0m \u001b[0mpyplot\u001b[0m \u001b[1;32mas\u001b[0m \u001b[0mplt\u001b[0m\u001b[1;33m\u001b[0m\u001b[1;33m\u001b[0m\u001b[0m\n\u001b[0m\u001b[0;32m      2\u001b[0m \u001b[1;32mimport\u001b[0m \u001b[0mpandas\u001b[0m \u001b[1;32mas\u001b[0m \u001b[0mpd\u001b[0m\u001b[1;33m\u001b[0m\u001b[1;33m\u001b[0m\u001b[0m\n\u001b[0;32m      3\u001b[0m \u001b[1;33m\u001b[0m\u001b[0m\n\u001b[0;32m      4\u001b[0m \u001b[1;31m# The file name is 'dof_dru_pop_1970_2050_csya_wide.csv'\u001b[0m\u001b[1;33m\u001b[0m\u001b[1;33m\u001b[0m\u001b[1;33m\u001b[0m\u001b[0m\n",
      "\u001b[1;31mModuleNotFoundError\u001b[0m: No module named 'matplotlib'"
     ]
    }
   ],
   "source": [
    "from matplotlib import pyplot as plt\n",
    "import pandas as pd\n",
    "\n",
    "# The file name is 'dof_dru_pop_1970_2050_csya_wide.csv'"
   ]
  },
  {
   "cell_type": "code",
   "execution_count": 51,
   "metadata": {},
   "outputs": [
    {
     "output_type": "error",
     "ename": "NameError",
     "evalue": "name 'pd' is not defined",
     "traceback": [
      "\u001b[1;31m---------------------------------------------------------------------------\u001b[0m",
      "\u001b[1;31mNameError\u001b[0m                                 Traceback (most recent call last)",
      "\u001b[1;32m<ipython-input-51-7ed3f0c68e27>\u001b[0m in \u001b[0;36m<module>\u001b[1;34m\u001b[0m\n\u001b[0;32m      1\u001b[0m \u001b[1;31m# 1, readd the file in here\u001b[0m\u001b[1;33m\u001b[0m\u001b[1;33m\u001b[0m\u001b[1;33m\u001b[0m\u001b[0m\n\u001b[1;32m----> 2\u001b[1;33m \u001b[0mdata\u001b[0m \u001b[1;33m=\u001b[0m \u001b[0mpd\u001b[0m\u001b[1;33m.\u001b[0m\u001b[0mread_csv\u001b[0m\u001b[1;33m(\u001b[0m\u001b[1;34m\"dof_dru_pop_1970_2050_csya_wide.csv\"\u001b[0m\u001b[1;33m)\u001b[0m\u001b[1;33m\u001b[0m\u001b[1;33m\u001b[0m\u001b[0m\n\u001b[0m\u001b[0;32m      3\u001b[0m \u001b[0mdata\u001b[0m\u001b[1;33m.\u001b[0m\u001b[0mhead\u001b[0m\u001b[1;33m(\u001b[0m\u001b[1;33m)\u001b[0m\u001b[1;33m\u001b[0m\u001b[1;33m\u001b[0m\u001b[0m\n\u001b[0;32m      4\u001b[0m \u001b[1;33m\u001b[0m\u001b[0m\n",
      "\u001b[1;31mNameError\u001b[0m: name 'pd' is not defined"
     ]
    }
   ],
   "source": [
    "# 1, readd the file in here\n",
    "data = pd.read_csv(\"dof_dru_pop_1970_2050_csya_wide.csv\")\n",
    "data.head()\n",
    "\n"
   ]
  },
  {
   "cell_type": "code",
   "execution_count": null,
   "metadata": {},
   "outputs": [],
   "source": [
    "# 2, use this cell or more cells to output the table\n",
    "df.iloc[]"
   ]
  },
  {
   "cell_type": "code",
   "execution_count": null,
   "metadata": {},
   "outputs": [],
   "source": []
  },
  {
   "cell_type": "code",
   "execution_count": null,
   "metadata": {},
   "outputs": [],
   "source": [
    "# 3, use this cell or more cells to plot the multi-line chart\n",
    "\n",
    "\n",
    "\n",
    "\n"
   ]
  },
  {
   "cell_type": "code",
   "execution_count": null,
   "metadata": {},
   "outputs": [],
   "source": []
  },
  {
   "cell_type": "markdown",
   "metadata": {},
   "source": [
    "# Maximum 100 points (30% of your grade). Test time: 120 minutes."
   ]
  },
  {
   "cell_type": "code",
   "execution_count": null,
   "metadata": {},
   "outputs": [],
   "source": []
  },
  {
   "cell_type": "code",
   "execution_count": null,
   "metadata": {},
   "outputs": [],
   "source": []
  },
  {
   "cell_type": "code",
   "execution_count": null,
   "metadata": {},
   "outputs": [],
   "source": []
  }
 ],
 "metadata": {
  "kernelspec": {
   "name": "python3",
   "display_name": "Python 3.9.5 64-bit (windows store)"
  },
  "language_info": {
   "codemirror_mode": {
    "name": "ipython",
    "version": 3
   },
   "file_extension": ".py",
   "mimetype": "text/x-python",
   "name": "python",
   "nbconvert_exporter": "python",
   "pygments_lexer": "ipython3",
   "version": "3.9.5"
  },
  "interpreter": {
   "hash": "0848a1930b3998aa13c36e60b4ebcdf2b552137b10640169b279149e77ffafcb"
  }
 },
 "nbformat": 4,
 "nbformat_minor": 2
}