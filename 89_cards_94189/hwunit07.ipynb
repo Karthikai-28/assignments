{
 "cells": [
  {
   "cell_type": "markdown",
   "metadata": {
    "deletable": false,
    "editable": false,
    "nbgrader": {
     "cell_type": "markdown",
     "checksum": "7e8798bbe291cf264f775a05ad795f1d",
     "grade": false,
     "grade_id": "cell-527229cf042812ef",
     "locked": true,
     "schema_version": 3,
     "solution": false
    }
   },
   "source": [
    "## Week 7 Assignment - W200 Introduction to Data Science Programming, UC Berkeley MIDS\n",
    "\n",
    "Write code in this Jupyter Notebook to solve each of the following problems. Each problem should have its solution in a separate cell. Please upload this **Notebook** with your solutions to your GitHub repository in your SUBMISSIONS/week_07 folder by 11:59PM PST the night before the Unit 9 class (you have two weeks to complete this assignment)."
   ]
  },
  {
   "cell_type": "markdown",
   "metadata": {
    "deletable": false,
    "editable": false,
    "nbgrader": {
     "cell_type": "markdown",
     "checksum": "cadccc143ff9bf2d28a6f48ce9a1aba0",
     "grade": false,
     "grade_id": "cell-1b44a7b98ed62731",
     "locked": true,
     "schema_version": 3,
     "solution": false
    }
   },
   "source": [
    "## Objectives:\n",
    "\n",
    "- Demonstrate how to define classes\n",
    "- Design and implement class objects and class interactions\n",
    "- Understand how to call methods from both inside and outside of classes\n",
    "- Understand how to set internal attribute within a class"
   ]
  },
  {
   "cell_type": "markdown",
   "metadata": {
    "deletable": false,
    "editable": false,
    "nbgrader": {
     "cell_type": "markdown",
     "checksum": "029f43f95b4d8354c834666c22708489",
     "grade": false,
     "grade_id": "cell-cfac900eae3841cc",
     "locked": true,
     "schema_version": 3,
     "solution": false
    }
   },
   "source": [
    "## General Guidelines:\n",
    "\n",
    "- All calculations need to be done in the classes (that includes any formatting of the output)\n",
    "- Name your classes exactly as written in the problem statement\n",
    "- Do NOT make separate input() statements.  The classes will be passed the input as shown in the examples\n",
    "- The examples are using the '>>>' as the command entered into a Jupyter coding cell with the example output shown below it. Your program will be run on other tests not just the example provided.\n",
    "- The examples given are samples of how we will test/grade your code. Please ensure your classes output the same information\n",
    "- Answer format is graded - please match the examples\n",
    "- Inputs to classes and methods do need to be validated or checked where the problem or examples specifically state to check for inputs. Otherwise, you can assume that the correct input will be sent as shown in the examples.\n",
    "- Comments in your code are strongly suggested but won't be graded\n",
    "- This homework is mostly auto-graded. The blank code blocks are the auto-grading scripts - please do not delete these!\n",
    "- Your code needs to be written in the #Your Code Here blocks or it wont be graded correctly.\n",
    "- `__str__` and `__repr__` methods are discussed in Unit 8. "
   ]
  },
  {
   "cell_type": "markdown",
   "metadata": {
    "deletable": false,
    "editable": false,
    "nbgrader": {
     "cell_type": "markdown",
     "checksum": "deedf1ff2a60447c36d8b0a142412153",
     "grade": false,
     "grade_id": "cell-783896db972e3f83",
     "locked": true,
     "schema_version": 3,
     "solution": false
    }
   },
   "source": [
    "## Project Proposal\n",
    "\n",
    "**Reminder!** Please complete your project proposal, as discussed in class and outlined in the project_1 folder.  Submit your 1-2 page proposal as a PDF in your SUBMISSIONS repo under the project_1 folder.\n",
    "\n",
    "This is worth 10 points of your **project** grade (not the grade for this homework)."
   ]
  },
  {
   "cell_type": "markdown",
   "metadata": {
    "deletable": false,
    "editable": false,
    "nbgrader": {
     "cell_type": "markdown",
     "checksum": "45d7a5f1c7528dc6a9be0bb8a5502ccb",
     "grade": false,
     "grade_id": "cell-696344d235251439",
     "locked": true,
     "schema_version": 3,
     "solution": false
    }
   },
   "source": [
    "## 7-1 A Quick Reading (20 points)\n",
    "\n",
    "Please read the following article and write a couple sentences (~100 words) of reaction. What is the most interesting part?\n",
    "\n",
    "<a href=\"http://programmingisterrible.com/post/139222674273/write-code-that-is-easy-to-delete-not-easy-to\">Write code that is easy to delete, not easy to extend</a> \n",
    "\n",
    "This article is to explain an \"architectural\" perspective towards thinking about writing in large code bases. This might not really apply to the work that you are doing now but should provide some food for thought on upcoming projects. Think about the author's perspective and why he seems to have come to it. Please don't worry about knowing all the terminology or programs/systems that he refers to. We want you to extract what he's trying to say about writing code rather than the intricacies of the low-level systems that is referring to.\n"
   ]
  },
  {
   "cell_type": "markdown",
   "metadata": {
    "deletable": false,
    "nbgrader": {
     "cell_type": "markdown",
     "checksum": "a7015f0e83e7f04451f4e0b75aee2716",
     "grade": true,
     "grade_id": "cell-ec8be46bbe5effd3",
     "locked": false,
     "points": 20,
     "schema_version": 3,
     "solution": true
    }
   },
   "source": [
    "YOUR ANSWER HERE"
   ]
  },
  {
   "cell_type": "markdown",
   "metadata": {
    "deletable": false,
    "editable": false,
    "nbgrader": {
     "cell_type": "markdown",
     "checksum": "0f9e4be5528937acb7c3459c7d4b08bc",
     "grade": false,
     "grade_id": "cell-7804e7ebc0429dcc",
     "locked": true,
     "schema_version": 3,
     "solution": false
    }
   },
   "source": [
    "--------------------------------------------------------------------------------------------------------------------------------\n",
    "# Please do two out of the three parts below (80 points - 40 points each)  \n",
    "# That is, please do two of the three questions (7-2, 7-3 & 7-4)! \n",
    "\n",
    "If you want to do all three parts please write a comment on which two parts to grade. If a comment isn't found, Questions 7-2 & 7-3 will be graded."
   ]
  },
  {
   "cell_type": "markdown",
   "metadata": {
    "deletable": false,
    "editable": false,
    "nbgrader": {
     "cell_type": "markdown",
     "checksum": "b52d84bb83e9e2b5c6a0e13e788348b6",
     "grade": false,
     "grade_id": "cell-03f9229475d9a257",
     "locked": true,
     "schema_version": 3,
     "solution": false
    }
   },
   "source": [
    "## 7-2 Deck of Cards\n",
    "\n",
    "Please design two classes in this notebook as follows:\n",
    "\n",
    "1\\. Please create a class called **PlayingCard**. This class should have: <br>\n",
    "- An attribute, \"rank\" that takes a value of \"2\", \"3\", \"4\", \"5\", \"6\", \"7\", \"8\", \"9\", \"10\", \"J\", \"Q\", \"K\", or \"A\"<br>\n",
    "- An attribute, \"suit\" that takes a value of \"♠\" \"♥\" \"♦\" or \"♣\". (If you don't know how to make these characters you can cut and paste from this block)<br>  \n",
    "- An __init__ function that:\n",
    "    -  Accepts as parameters a specific rank (as a string) and suit (as a string).\n",
    "    -  Gives an appropriate response when a rank or suit is not valid.\n",
    "\n",
    "2\\. Please create a class called **Deck**.  This class should have: <br>\n",
    "- An attribute, \"cards\", that holds a list of PlayingCard objects. <br>\n",
    "- An __init__ function that: \n",
    "\n",
    "    - By default stores a full deck of 52 playing card (with proper numbers and suits) in the \"cards\" list. Each cards will be  of the class PlayingCard above<br>\n",
    "    - Allows the user to specify a specific suit (of the 4 - \"♠\" \"♥\" \"♦\" or \"♣\").  In this case, the program should only populate the deck with the 13 cards of that suit.\n",
    "    - After the cards object is initialized, call the \"shuffle_deck()\" function (below).<br>\n",
    "    \n",
    "- A \"shuffle_deck()\" function that randomly changes the order of cards in the deck.<br>\n",
    "    - You can import the random library to 'shuffle' the deck: https://docs.python.org/3.7/library/random.html\n",
    "    - If you import random, please import it at the top of your block instead of inside the class / methods.\n",
    "\n",
    "- A \"deal_card(card_count)\" function that removes the first card_count cards from the deck and returns them as a list.<br>\n",
    "    - Make sure this function gives an appropriate response when the deck is out of cards.\n",
    "    \n",
    "3\\. You might have to write ```__str__ or __repr__``` methods to display the cards correctly in either or both classes.\n",
    "\n",
    "\n",
    "Example:\n",
    "```\n",
    ">>> card1 = PlayingCard(\"A\", \"♠\")\n",
    ">>> print(card1)\n",
    "A of ♠\n",
    "\n",
    ">>> card2 = PlayingCard(\"15\", \"♠\")\n",
    "Invalid rank!\n",
    "\n",
    ">>> card2 = PlayingCard(\"10\", \"bunnies\")\n",
    "Invalid suit!\n",
    "\n",
    ">>> deck1 = Deck()\n",
    ">>> print(deck1.cards)\n",
    "[K of ♠, A of ♥, 6 of ♣, 7 of ♠, J of ♦, 6 of ♠, Q of ♦, 5 of ♣, 10 of ♦, 2 of ♥, 8 of ♣, 8 of ♦, 4 of ♦, 7 of ♦, 3 of ♣, K of ♣, 9 of ♠, 4 of ♥, 10 of ♥, 10 of ♣, A of ♠, 9 of ♥, 7 of ♥, 9 of ♣, 7 of ♣, 5 of ♠, 3 of ♦, 10 of ♠, Q of ♥, J of ♣, 5 of ♥, K of ♥, K of ♦, 2 of ♠, 8 of ♠, Q of ♣, 3 of ♠, 6 of ♥, 6 of ♦, A of ♣, A of ♦, 3 of ♥, J of ♠, 4 of ♣, 5 of ♦, 2 of ♦, 4 of ♠, 2 of ♣, Q of ♠, J of ♥, 8 of ♥, 9 of ♦] \n",
    "\n",
    ">>> deck2 = Deck('♠')\n",
    ">>> deck2.shuffle_deck()\n",
    ">>> print(deck2.cards)\n",
    "[A of ♠, 10 of ♠, 3 of ♠, 7 of ♠, 5 of ♠, 4 of ♠, 8 of ♠, J of ♠, 9 of ♠, Q of ♠, 6 of ♠, 2 of ♠, K of ♠]\n",
    "\n",
    ">>> deck2.deal_card(7)\n",
    "[A of ♠, 10 of ♠, 3 of ♠, 7 of ♠, 5 of ♠, 4 of ♠, 8 of ♠]\n",
    "\n",
    ">>> deck2.deal_card(7)\n",
    "Cannot deal 7 cards. The deck only has 6 cards left!\n",
    "```"
   ]
  },
  {
   "cell_type": "code",
   "execution_count": 13,
   "metadata": {
    "deletable": false,
    "nbgrader": {
     "cell_type": "code",
     "checksum": "065c7730f5f4def3d7b686213c4515c3",
     "grade": false,
     "grade_id": "cell-1a340c9ca6b682a1",
     "locked": false,
     "schema_version": 3,
     "solution": true
    }
   },
   "outputs": [],
   "source": [
    "# YOUR CODE HERE\n",
    "import random\n",
    "\n",
    "class PlayingCard():\n",
    "    \"\"\"This class has two attributes: \n",
    "       1. \"rank\" that takes a value of \"2\", \"3\", \"4\", \"5\", \"6\", \"7\", \"8\", \"9\", \"10\", \"J\", \"Q\", \"K\", or \"A\" \n",
    "       2. \"suit\" that takes a value of \"♠\" \"♥\" \"♦\" or \"♣\". \n",
    "    \"\"\"\n",
    "    \n",
    "    def __init__(self, cardrank, cardsuit):\n",
    "        try:\n",
    "            if str(cardrank).upper() not in [\"2\", \"3\", \"4\", \"5\", \"6\", \"7\", \"8\", \"9\", \"10\", \"J\", \"Q\", \"K\", \"A\"]:\n",
    "                raise Exception(\"Invalid rank!\")\n",
    "            elif cardsuit not in [\"♠\", \"♥\", \"♦\", \"♣\"]:\n",
    "                raise Exception(\"Invalid suit!\")\n",
    "            else:\n",
    "                self.rank = str(cardrank).upper()\n",
    "                self.suit = cardsuit\n",
    "                \n",
    "        except Exception as e:\n",
    "            print(str(e))\n",
    "            \n",
    "    def __str__(self):\n",
    "        return self.rank + \" of \" + self.suit\n",
    "    \n",
    "    def __repr__(self):\n",
    "        return self.rank + \" of \" + self.suit\n",
    "    \n",
    "            \n",
    "class Deck():\n",
    "    \"\"\"This class has the following attributes: \n",
    "       1. \"cards\", that holds a list of PlayingCard objects. \n",
    "       2. An init function that: \n",
    "          (1) By default stores a full deck of 52 playing card (with proper numbers and suits) in the \"cards\" list. \n",
    "          Each cards will be of the class PlayingCard above.\n",
    "          (2) Allows the user to specify a specific suit (of the 4 - \"♠\" \"♥\" \"♦\" or \"♣\"). \n",
    "          In this case, the program should only populate the deck with the 13 cards of that suit.\n",
    "       3. A \"shuffle_deck()\" function that randomly changes the order of cards in the deck.\n",
    "       4. A \"deal_card(card_count)\" function that removes the first card_count cards from the deck and returns them as a list.\n",
    "    \"\"\"\n",
    "    \n",
    "    def __init__(self, cardsuit=\"\"):\n",
    "        if cardsuit != \"\":\n",
    "            self.cards = [PlayingCard(x, cardsuit) for x in \n",
    "                           [\"2\", \"3\", \"4\", \"5\", \"6\", \"7\", \"8\", \"9\", \"10\", \"J\", \"Q\", \"K\", \"A\"]]\n",
    "        else:\n",
    "            self.cards = [PlayingCard(x, y) for x in [\"2\", \"3\", \"4\", \"5\", \"6\", \"7\", \"8\", \"9\", \"10\", \"J\", \"Q\", \"K\", \"A\"]\n",
    "                          for y in [\"♠\", \"♥\", \"♦\", \"♣\"]]\n",
    "        \n",
    "        self.shuffle_deck()\n",
    "    \n",
    "    def shuffle_deck(self):\n",
    "        random.shuffle(self.cards)\n",
    "    \n",
    "    def deal_card(self, card_count):\n",
    "        try:\n",
    "            self.__dealt_card = [] # make it a hidden attribute so that player cannot easily manipulate it.\n",
    "            if card_count <= len(self.cards):\n",
    "                for i in range(0, card_count): \n",
    "                    self.__dealt_card.append(self.cards.pop(0))\n",
    "                print(self.__dealt_card)\n",
    "            \n",
    "            else:\n",
    "                raise Exception(\"Cannot deal\")\n",
    "            \n",
    "        except Exception as e:\n",
    "            print(str(e), card_count, \"cards. The deck only has\", len(self.cards), \"cards left!\")\n",
    "    \n",
    "    def war(self):\n",
    "        try:\n",
    "            if len(self.cards) < 2:\n",
    "                raise Exception(\"The deck does not have enough cards for war. Need to have at least 2 cards.\")\n",
    "            \n",
    "            else:\n",
    "                self.player_card = self.cards.pop(0)\n",
    "                self.player_rank = self.player_card.rank\n",
    "                self.dealer_card = self.cards.pop(0)\n",
    "                self.dealer_rank = self.dealer_card.rank\n",
    "                rank_order = {\"2\":2, \"3\":3, \"4\":4, \"5\":5, \"6\":6, \"7\":7, \"8\":8, \"9\":9, \n",
    "                              \"10\":10, \"J\":11, \"Q\":12, \"K\":13, \"A\":14}\n",
    "        \n",
    "                if rank_order[self.player_rank] > rank_order[self.dealer_rank]:\n",
    "                    print(\"Player's card:\", self.player_card)\n",
    "                    print(\"Dearler's card:\", self.dealer_card)\n",
    "                    print(\"Player's rank is higher than dealer's. Player wins.\")\n",
    "            \n",
    "                elif rank_order[self.player_rank] < rank_order[self.dealer_rank]:\n",
    "                    print(\"Player's card:\", self.player_card)\n",
    "                    print(\"Dearler's card:\", self.dealer_card)\n",
    "                    print(\"Player's rank is lower than dealer's. Dealer wins.\")\n",
    "        \n",
    "                else:\n",
    "                    print(\"Player's card:\", self.player_card)\n",
    "                    print(\"Dearler's card:\", self.dealer_card)\n",
    "                    print(\"Player's rank is equal to dealer's. This is a tie.\")\n",
    "        \n",
    "        except Exception as e:\n",
    "            print(str(e))"
   ]
  },
  {
   "cell_type": "code",
   "execution_count": 14,
   "metadata": {
    "deletable": false,
    "editable": false,
    "nbgrader": {
     "cell_type": "code",
     "checksum": "f786562143725de0819d161a8f54f9ca",
     "grade": true,
     "grade_id": "cell-6bd309bb7346977e",
     "locked": true,
     "points": 0,
     "schema_version": 3,
     "solution": false
    }
   },
   "outputs": [
    {
     "name": "stdout",
     "output_type": "stream",
     "text": [
      "A of ♠\n",
      "True\n"
     ]
    }
   ],
   "source": [
    "# Autograde cell - do not erase/delete\n",
    "# Here we implement some tests for you to compare your code with the output we expect.\n",
    "import random\n",
    "import subprocess\n",
    "from nose.tools import assert_equal \n",
    "from nose.tools import assert_true\n",
    "\n",
    "# String representation of PlayingCard class matches expected output?\n",
    "print(PlayingCard('A', '♠'))\n",
    "print(str(PlayingCard('A', '♠')) == 'A of ♠')\n"
   ]
  },
  {
   "cell_type": "code",
   "execution_count": 15,
   "metadata": {
    "deletable": false,
    "editable": false,
    "nbgrader": {
     "cell_type": "code",
     "checksum": "0fa120b748e19eb2392d0c7230bee3df",
     "grade": true,
     "grade_id": "cell-f3dd93876f39de63",
     "locked": true,
     "points": 0,
     "schema_version": 3,
     "solution": false
    }
   },
   "outputs": [
    {
     "name": "stdout",
     "output_type": "stream",
     "text": [
      "K of ♠ in solution list? True\n",
      "2 of ♠ in solution list? True\n",
      "9 of ♠ in solution list? True\n",
      "4 of ♠ in solution list? True\n",
      "7 of ♠ in solution list? True\n",
      "5 of ♠ in solution list? True\n",
      "J of ♠ in solution list? True\n",
      "6 of ♠ in solution list? True\n",
      "10 of ♠ in solution list? True\n",
      "A of ♠ in solution list? True\n",
      "8 of ♠ in solution list? True\n",
      "Q of ♠ in solution list? True\n",
      "3 of ♠ in solution list? True\n",
      "------------------------------\n",
      "Are any cards left in the deck? []\n"
     ]
    }
   ],
   "source": [
    "# Autograde cell - do not erase/delete\n",
    "# Here we implement some tests for you to compare your code with the output we expect.\n",
    "\n",
    "# Does your deck class initialize as expected?\n",
    "\n",
    "D = Deck(\"♠\")\n",
    "\n",
    "solution = ['A of ♠', '8 of ♠', '4 of ♠', 'K of ♠', 'J of ♠', \n",
    "            '5 of ♠', '6 of ♠', '9 of ♠', 'Q of ♠', '3 of ♠', \n",
    "            '7 of ♠', '10 of ♠', '2 of ♠']\n",
    "\n",
    "for i in D.cards:\n",
    "    test = str(i) in solution\n",
    "    print(str(i) + ' in solution list?', test)\n",
    "    \n",
    "    if test:\n",
    "        solution.remove(str(i))\n",
    "\n",
    "print(10 * '---')\n",
    "print('Are any cards left in the deck?', solution)"
   ]
  },
  {
   "cell_type": "code",
   "execution_count": 16,
   "metadata": {
    "deletable": false,
    "editable": false,
    "nbgrader": {
     "cell_type": "code",
     "checksum": "9f4ec937febc33f6f8fcb4eaa7b68909",
     "grade": true,
     "grade_id": "cell-b253eb962f2579b8",
     "locked": true,
     "points": 2,
     "schema_version": 3,
     "solution": false
    }
   },
   "outputs": [],
   "source": [
    "# Autograde cell - do not erase/delete\n",
    "# Here and in the following cells we implemented some hidden tests.\n",
    "# This means: Check your code for other inputs as well! Does it match with what you would expect?\n",
    "# Test the other methods you implemented. Do they work as expected?\n"
   ]
  },
  {
   "cell_type": "code",
   "execution_count": 17,
   "metadata": {
    "deletable": false,
    "editable": false,
    "nbgrader": {
     "cell_type": "code",
     "checksum": "98b305f15dcac7a2d0067b186392e7e5",
     "grade": true,
     "grade_id": "cell-1a695b8f0fba34a2",
     "locked": true,
     "points": 2,
     "schema_version": 3,
     "solution": false
    }
   },
   "outputs": [],
   "source": [
    "# Autograde cell - do not erase/delete"
   ]
  },
  {
   "cell_type": "code",
   "execution_count": 18,
   "metadata": {
    "deletable": false,
    "editable": false,
    "nbgrader": {
     "cell_type": "code",
     "checksum": "6c602cdc4dafd1650d8b86d5611581f6",
     "grade": true,
     "grade_id": "cell-9ec4298ad117e265",
     "locked": true,
     "points": 3,
     "schema_version": 3,
     "solution": false
    }
   },
   "outputs": [],
   "source": [
    "# Autograde cell - do not erase/delete"
   ]
  },
  {
   "cell_type": "code",
   "execution_count": 19,
   "metadata": {
    "deletable": false,
    "editable": false,
    "nbgrader": {
     "cell_type": "code",
     "checksum": "c2845f212af0f22a0076ed7ed248470d",
     "grade": true,
     "grade_id": "cell-4a3888541bb49c23",
     "locked": true,
     "points": 3,
     "schema_version": 3,
     "solution": false
    }
   },
   "outputs": [],
   "source": [
    "# Autograde cell - do not erase/delete"
   ]
  },
  {
   "cell_type": "code",
   "execution_count": 20,
   "metadata": {
    "deletable": false,
    "editable": false,
    "nbgrader": {
     "cell_type": "code",
     "checksum": "9e2a8f013fe78ae82d6944053004270f",
     "grade": true,
     "grade_id": "cell-7904a48b935e84c2",
     "locked": true,
     "points": 8,
     "schema_version": 3,
     "solution": false
    }
   },
   "outputs": [],
   "source": [
    "# Autograde cell - do not erase/delete"
   ]
  },
  {
   "cell_type": "code",
   "execution_count": 21,
   "metadata": {
    "deletable": false,
    "editable": false,
    "nbgrader": {
     "cell_type": "code",
     "checksum": "0f17442b7ccbfae76e8d1c84fcff6300",
     "grade": true,
     "grade_id": "cell-eddb8a271f9474ac",
     "locked": true,
     "points": 10,
     "schema_version": 3,
     "solution": false
    }
   },
   "outputs": [],
   "source": [
    "# Autograde cell - do not erase/delete"
   ]
  },
  {
   "cell_type": "code",
   "execution_count": 22,
   "metadata": {
    "deletable": false,
    "editable": false,
    "nbgrader": {
     "cell_type": "code",
     "checksum": "bd16817e2321821eba0c0f7e79a83eed",
     "grade": true,
     "grade_id": "cell-323b480c599a17ca",
     "locked": true,
     "points": 5,
     "schema_version": 3,
     "solution": false
    }
   },
   "outputs": [],
   "source": [
    "# Autograde cell - do not erase/delete"
   ]
  },
  {
   "cell_type": "code",
   "execution_count": 23,
   "metadata": {
    "deletable": false,
    "editable": false,
    "nbgrader": {
     "cell_type": "code",
     "checksum": "fe38844e342adc42f3a5e36bf828c54d",
     "grade": true,
     "grade_id": "cell-5bd83bb060e3098d",
     "locked": true,
     "points": 7,
     "schema_version": 3,
     "solution": false
    }
   },
   "outputs": [],
   "source": [
    "# Autograde cell - do not erase/delete"
   ]
  },
  {
   "cell_type": "markdown",
   "metadata": {
    "deletable": false,
    "editable": false,
    "nbgrader": {
     "cell_type": "markdown",
     "checksum": "8fa9ffef29ffb8eb7d6f2dd4b15fe0fe",
     "grade": false,
     "grade_id": "cell-2d3fb17759ce7be6",
     "locked": true,
     "schema_version": 3,
     "solution": false
    }
   },
   "source": [
    "Extra Credit (2 points): Write a method called **war** in the coding cell above under the Deck class that deals a card to the player and a card to the dealer from your deck.  Whomever has the highest ranked card wins; print them a nice message! (2 is the lowest rank and A is the highest).  If it is a tie, print a different message. In the cell below, show three examples of running your **war** method."
   ]
  },
  {
   "cell_type": "code",
   "execution_count": 24,
   "metadata": {
    "deletable": false,
    "nbgrader": {
     "cell_type": "code",
     "checksum": "5570ebf8a3b08dcf6b0de218e7966b37",
     "grade": true,
     "grade_id": "cell-f792b0aacbf4aeb1",
     "locked": false,
     "points": 2,
     "schema_version": 3,
     "solution": true
    }
   },
   "outputs": [
    {
     "name": "stdout",
     "output_type": "stream",
     "text": [
      "Player's card: 8 of ♦\n",
      "Dearler's card: 7 of ♥\n",
      "Player's rank is higher than dealer's. Player wins.\n",
      "Player's card: 9 of ♠\n",
      "Dearler's card: J of ♠\n",
      "Player's rank is lower than dealer's. Dealer wins.\n",
      "[A of ♣, J of ♣, 7 of ♣, 10 of ♣, 5 of ♣, 6 of ♣, 2 of ♣, K of ♣, 4 of ♣, 3 of ♣, 8 of ♣, 9 of ♣]\n",
      "The deck does not have enough cards for war. Need to have at least 2 cards.\n"
     ]
    }
   ],
   "source": [
    "# YOUR CODE HERE\n",
    "adeck = Deck()\n",
    "adeck.war()\n",
    "\n",
    "bdeck = Deck(\"♠\")\n",
    "bdeck.war()\n",
    "\n",
    "cdeck = Deck(\"♣\")\n",
    "cdeck.deal_card(12)\n",
    "cdeck.war()"
   ]
  },
  {
   "cell_type": "markdown",
   "metadata": {
    "deletable": false,
    "editable": false,
    "nbgrader": {
     "cell_type": "markdown",
     "checksum": "74d004f46524d3ef7d90286e02f1ed91",
     "grade": false,
     "grade_id": "cell-9fb0d10895402417",
     "locked": true,
     "schema_version": 3,
     "solution": false
    }
   },
   "source": [
    "## 7-3 Galton's Box\n",
    "\n",
    "The following figure depicts Galton's box, a game in which marbles are dropped through N rows of pins.  In row 0, there is one position a marble can be in (labeled 0), in row 1, there are two positions (labeled 0 and 1), and so forth.  Each time the marble bounces from one row to the next, there is a 50% probability it bounces left and a 50% probability it bounces right. \n",
    "\n",
    "<img src=\"Galton_Box.png\">\n",
    "<img src=\"Galton2.jpg\">\n",
    "\n",
    "Notice that if a marble is in position x of row y, and it bounces left, it ends up in position x of row y+1.  If it bounces right, it ends up in position x+1.\n",
    "\n",
    "1\\. Create a class, **Marble**, to represent a single Marble that will drop through Galton's Box. \n",
    "- Include attributes to represent the position of the marble.  \n",
    "- The ```__init__``` method should accept a one-character label for use when printing the Marble.\n",
    "\n",
    "2\\. Create a class, **GaltonBox**, to represent the overall setup.  You should include the following methods:\n",
    "\n",
    "- ```__init__``` - Your initializer should accept the size of the box (number of rows including the start row), N.\n",
    "- ```insert_marble``` - This method should accept a Marble instance and sets its position to position 0, row 0.\n",
    "- ```time_step``` - This method should cause all Marbles in Galton's box to bounce to the next row, dropping left or right with equal probability.  When a marble reaches row N-1 at the bottom of the box, it should not move any more.  Note that you should simply allow marbles to occupy the same position (instead of working out a system to prevent a Marble from entering a position if another Marble is already there).\n",
    "    - You can import the random library to decide which way the marble bounces: https://docs.python.org/3.7/library/random.htm\n",
    "    - If you import random, please import it at the top of your block instead of inside the class / methods.\n",
    "    \n",
    "- `__str__` and `__repr__` - Include methods to display the Marbles currently in the box.  To keep things simple, if there are multiple Marbles in a given position, you only have to display one of the labels.\n",
    "\n",
    "Your classes should mimic the following behavior (except that the horizontal positions are random):\n",
    "\n",
    "```\n",
    ">>> m1 = Marble(\"x\")\n",
    ">>> m2 = Marble(\"o\")\n",
    ">>> box = GaltonBox(3)\n",
    ">>> box.insert_marble(m1)\n",
    ">>> box\n",
    "x\n",
    "--\n",
    "---\n",
    ">>> box.time_step()\n",
    ">>> box\n",
    "-\n",
    "-x\n",
    "---\n",
    ">>> box.insert_marble(m2)\n",
    ">>> box\n",
    "o\n",
    "-x\n",
    "---\n",
    ">>> box.time_step()\n",
    ">>> box\n",
    "-\n",
    "o-\n",
    "-x-\n",
    ">>> box.time_step()\n",
    ">>> box\n",
    "-\n",
    "--\n",
    "ox-\n",
    "```\n",
    "\n"
   ]
  },
  {
   "cell_type": "code",
   "execution_count": 27,
   "metadata": {
    "deletable": false,
    "nbgrader": {
     "cell_type": "code",
     "checksum": "8781b079a4a85535107b3011845cfa2d",
     "grade": false,
     "grade_id": "cell-8dc0d52c853e6e25",
     "locked": false,
     "schema_version": 3,
     "solution": true
    }
   },
   "outputs": [],
   "source": [
    "# YOUR CODE HERE\n",
    "class Marble:\n",
    "    \"\"\"Class of a single Marble \"\"\"\n",
    "    def __init__(self, char):\n",
    "        if len(char) > 1:\n",
    "            print(\"Invalid Marble Name\")\n",
    "            return\n",
    "        self.name = char\n",
    "        self.pos = [0, 0]\n",
    "           \n",
    "class GaltonBox:\n",
    "    \"\"\"Class of a box to drop the marbles in\"\"\"\n",
    "    \n",
    "    def __init__(self, row):\n",
    "        self.size = row\n",
    "        self.marble_list = []\n",
    "    \n",
    "    def insert_marble(self, marble):\n",
    "        self.marble_list.append(marble)\n",
    "        \n",
    "    def time_step(self):\n",
    "        # Update the marble each time step until that marble reaches the bottom of the box\n",
    "        for marble in self.marble_list:\n",
    "            if marble.pos[0] != self.size - 1:\n",
    "                marble.pos[0] += 1\n",
    "                marble.pos[1] += random.randint(0, 1) \n",
    "            \n",
    "    def __repr__(self):\n",
    "        output = \"\"\n",
    "        box = []\n",
    "        \n",
    "        # Create the box with all -s\n",
    "        for row in range(1, self.size + 1):\n",
    "            box.append(list('-' * row))\n",
    "        \n",
    "        # Now put the replace the -s with the marbles at those positions\n",
    "        for marble in self.marble_list:\n",
    "            box[marble.pos[0]][marble.pos[1]] = marble.name\n",
    "            \n",
    "        # Make the output string\n",
    "        for rows in box:\n",
    "            output += ''.join(rows)\n",
    "            output += \"\\n\"\n",
    "        return output"
   ]
  },
  {
   "cell_type": "code",
   "execution_count": 28,
   "metadata": {
    "deletable": false,
    "editable": false,
    "nbgrader": {
     "cell_type": "code",
     "checksum": "7f89db84d1d07b75aede8eec14ff04b5",
     "grade": true,
     "grade_id": "cell-d3c80439c09ab209",
     "locked": true,
     "points": 0,
     "schema_version": 3,
     "solution": false
    }
   },
   "outputs": [
    {
     "name": "stdout",
     "output_type": "stream",
     "text": [
      "o\n",
      "--\n",
      "---\n",
      "\n",
      "True\n"
     ]
    }
   ],
   "source": [
    "# Autograde cell - do not erase/delete\n",
    "# Here we implement some tests for you to compare your code with the output we expect.\n",
    "\n",
    "# Does the string representation match?\n",
    "\n",
    "box = GaltonBox(3)\n",
    "box.insert_marble(Marble(\"o\"))\n",
    "print(box)\n",
    "print(str(box) == 'o\\n--\\n---\\n')"
   ]
  },
  {
   "cell_type": "code",
   "execution_count": 29,
   "metadata": {
    "deletable": false,
    "editable": false,
    "nbgrader": {
     "cell_type": "code",
     "checksum": "9ccea9c10e9fd7cbd8f39e84abcd2d3f",
     "grade": true,
     "grade_id": "cell-7db503472fca5fc5",
     "locked": true,
     "points": 0,
     "schema_version": 3,
     "solution": false
    }
   },
   "outputs": [
    {
     "name": "stdout",
     "output_type": "stream",
     "text": [
      "-\n",
      "-o\n",
      "---\n",
      "\n",
      "True\n"
     ]
    }
   ],
   "source": [
    "# Autograde cell - do not erase/delete\n",
    "# Here we implement some tests for you to compare your code with the output we expect.\n",
    "\n",
    "# Does the time-step method work as expected?\n",
    "import random\n",
    "random.seed(1234)\n",
    "\n",
    "box.time_step()\n",
    "print(box)\n",
    "print(str(box) == '-\\n-o\\n---\\n')"
   ]
  },
  {
   "cell_type": "code",
   "execution_count": 30,
   "metadata": {
    "deletable": false,
    "editable": false,
    "nbgrader": {
     "cell_type": "code",
     "checksum": "ae05f21c3e097656634c2bf75a6964c0",
     "grade": true,
     "grade_id": "cell-4ef5047c5cc385e7",
     "locked": true,
     "points": 5,
     "schema_version": 3,
     "solution": false
    }
   },
   "outputs": [],
   "source": [
    "# Autograde cell - do not erase/delete\n",
    "# Here and in the following cells we implemented some hidden tests.\n",
    "# This means: Check your code for other inputs as well! Does it match with what you would expect?\n",
    "# Test the other methods you implemented. Do they work as expected?\n"
   ]
  },
  {
   "cell_type": "code",
   "execution_count": 31,
   "metadata": {
    "deletable": false,
    "editable": false,
    "nbgrader": {
     "cell_type": "code",
     "checksum": "a8b7750e4f930f7ccb4a115fe9b00557",
     "grade": true,
     "grade_id": "cell-cf2e80a27d490ec5",
     "locked": true,
     "points": 5,
     "schema_version": 3,
     "solution": false
    }
   },
   "outputs": [],
   "source": [
    "# Autograde cell - do not erase/delete"
   ]
  },
  {
   "cell_type": "code",
   "execution_count": 32,
   "metadata": {
    "deletable": false,
    "editable": false,
    "nbgrader": {
     "cell_type": "code",
     "checksum": "b28ce8175fc0856bf9d438b99ceab55a",
     "grade": true,
     "grade_id": "cell-4cf5d21d4f7ffb1b",
     "locked": true,
     "points": 5,
     "schema_version": 3,
     "solution": false
    }
   },
   "outputs": [],
   "source": [
    "# Autograde cell - do not erase/delete"
   ]
  },
  {
   "cell_type": "code",
   "execution_count": 33,
   "metadata": {
    "deletable": false,
    "editable": false,
    "nbgrader": {
     "cell_type": "code",
     "checksum": "2d62fe9b6350543588383613ffc57d0b",
     "grade": true,
     "grade_id": "cell-a2d7227fd25834ee",
     "locked": true,
     "points": 5,
     "schema_version": 3,
     "solution": false,
     "task": false
    }
   },
   "outputs": [],
   "source": [
    "# Autograde cell - do not erase/delete"
   ]
  },
  {
   "cell_type": "code",
   "execution_count": 34,
   "metadata": {
    "deletable": false,
    "editable": false,
    "nbgrader": {
     "cell_type": "code",
     "checksum": "b036fa8899e3c227b86a69d247b3b8e3",
     "grade": true,
     "grade_id": "cell-cecaa549ab10f02b",
     "locked": true,
     "points": 18,
     "schema_version": 3,
     "solution": false
    }
   },
   "outputs": [],
   "source": [
    "# Autograde cell - do not erase/delete"
   ]
  },
  {
   "cell_type": "code",
   "execution_count": 35,
   "metadata": {
    "deletable": false,
    "editable": false,
    "nbgrader": {
     "cell_type": "code",
     "checksum": "22bf31f2226c87353f7ce676de190346",
     "grade": true,
     "grade_id": "cell-8e9d43c85efc0ba8",
     "locked": true,
     "points": 2,
     "schema_version": 3,
     "solution": false,
     "task": false
    }
   },
   "outputs": [],
   "source": [
    "# Autograde cell - do not erase/delete"
   ]
  },
  {
   "cell_type": "markdown",
   "metadata": {
    "deletable": false,
    "editable": false,
    "nbgrader": {
     "cell_type": "markdown",
     "checksum": "910cd59c7fb7cd1da7d0b34e42668155",
     "grade": false,
     "grade_id": "cell-0d6fbf3d0326cbc4",
     "locked": true,
     "schema_version": 3,
     "solution": false
    }
   },
   "source": [
    "**Bonus Investigation:** (Extra Credit: 2 points) Once your code is working, write code to create a box with 20 rows, insert a 100 Marbles, and repeatedly call time_step() until all Marbles are at the bottom.  Now adapt the following code to display a histogram of the final Marble positions.  What does the shape of the distribution look like?"
   ]
  },
  {
   "cell_type": "code",
   "execution_count": 36,
   "metadata": {
    "deletable": false,
    "editable": false,
    "nbgrader": {
     "cell_type": "code",
     "checksum": "e226d32cb8dee9743e16faf4ac2b1829",
     "grade": false,
     "grade_id": "cell-ff1d95ccd995a9d3",
     "locked": true,
     "schema_version": 3,
     "solution": false
    }
   },
   "outputs": [
    {
     "data": {
      "text/plain": [
       "(array([1., 2., 3., 2., 0., 1.]),\n",
       " array([0.5, 1.5, 2.5, 3.5, 4.5, 5.5, 6.5]),\n",
       " <a list of 6 Patch objects>)"
      ]
     },
     "execution_count": 36,
     "metadata": {},
     "output_type": "execute_result"
    },
    {
     "data": {
      "image/png": "[encoded data removed]",
      "text/plain": [
       "<Figure size 432x288 with 1 Axes>"
      ]
     },
     "metadata": {
      "needs_background": "light"
     },
     "output_type": "display_data"
    }
   ],
   "source": [
    "# Sample code below - you will have to adjust it to work for your code.\n",
    "\n",
    "%matplotlib inline\n",
    "import matplotlib.pyplot as plt\n",
    "import numpy as np\n",
    "\n",
    "x_positions = (2,3,4,6,7,4,3,2,3,1)\n",
    "cutoffs = np.arange(min(x_positions) - .5, max(x_positions)+.5)\n",
    "plt.hist(x_positions, bins = cutoffs)"
   ]
  },
  {
   "cell_type": "code",
   "execution_count": 46,
   "metadata": {
    "deletable": false,
    "nbgrader": {
     "cell_type": "code",
     "checksum": "495bc16160e16b5947cd5524c5bbbc92",
     "grade": true,
     "grade_id": "cell-d4119824e9396a02",
     "locked": false,
     "points": 1,
     "schema_version": 3,
     "solution": true
    }
   },
   "outputs": [],
   "source": [
    "# YOUR CODE HERE\n"
   ]
  },
  {
   "cell_type": "markdown",
   "metadata": {
    "deletable": false,
    "nbgrader": {
     "cell_type": "markdown",
     "checksum": "234191f8d25e07f5c92cb3d66867b992",
     "grade": true,
     "grade_id": "cell-e86742ae1d24a577",
     "locked": false,
     "points": 1,
     "schema_version": 3,
     "solution": true
    }
   },
   "source": [
    "YOUR ANSWER HERE"
   ]
  },
  {
   "cell_type": "markdown",
   "metadata": {
    "deletable": false,
    "editable": false,
    "nbgrader": {
     "cell_type": "markdown",
     "checksum": "ca5ba024d819355f9e8e03787243d4b8",
     "grade": false,
     "grade_id": "cell-d8aa3306267a8c97",
     "locked": true,
     "schema_version": 3,
     "solution": false
    }
   },
   "source": [
    "## 7-4 Sorting Marbles\n",
    "\n",
    "In a particular board game, there is exactly one row and it comprises N spaces, numbered 0 through N - 1 from left to right. There are also N marbles, numbered 0 through N - 1, initially placed in some arbitrary order. After that, there are two moves available that only can be done one at a time:\n",
    "\n",
    "- Switch: Switch the marbles in positions 0 and 1.\n",
    "- Rotate: Move the marble in position 0 to position N - 1, and move all other marbles one space to the left (one index lower).\n",
    "\n",
    "The objective is to arrange the marbles in order, with each marble i in position i.\n",
    "\n",
    "1\\. Write a class, **MarblesBoard**, to represent the game above. The class should be initialized with a particular sequence of Marbles.  \n",
    "- Write an ```__init__``` function that takes a starting sequence of marbles (the number of each marble listed in the positions from 0 to N - 1). (Notice in the sequence all the marbles are different numbers and are sequential numbered but not in order!)\n",
    "- Next, write switch() and rotate() methods to simulate the player's moves as described above. \n",
    "- Write a method, is_solved(), that returns True if the marbles are in the correct order, False otherwise.\n",
    "- Additionally, write ```__str__ and __repr__``` methods to display the current state of the board. \n",
    "\n",
    "Your class should behave like the following example:\n",
    "```\n",
    ">>> board = MarblesBoard((3,6,7,4,1,0,8,2,5)) \n",
    ">>> board \n",
    "3 6 7 4 1 0 8 2 5 \n",
    ">>> board.switch() \n",
    ">>> board \n",
    "6 3 7 4 1 0 8 2 5 \n",
    ">>> board.rotate() \n",
    ">>> board \n",
    "3 7 4 1 0 8 2 5 6 \n",
    ">>> board.switch() \n",
    ">>> board \n",
    "7 3 4 1 0 8 2 5 6\n",
    "```\n",
    "\n",
    "2\\. Write a second class, **Solver**, that actually plays the MarblesGame. \n",
    "- Your class will take a MarblesBoard in its initializer. \n",
    "- Write a solve() method that repeatedly calls the switch() and rotate() methods of the given MarblesBoard until the game is solved. You should print the state of the board after each move.  Additionally, print out the total number of moves at the end. Remember, you can only do one switch or one rotate per step!\n",
    "- You are to come up with your own algorithm for solving the marbles game. Before you write your solve() method, you may want to practice solving some small versions of the marbles game yourself.\n",
    "- Your Solver should strive to make the algorithm reasonably efficient and strive to be the fastest runtime. (Points are awarded based on algorithm efficiency!)\n",
    "\n",
    "\n",
    "Below is an example:\n",
    "```\n",
    ">>> board2 = MarblesBoard((1,3,0,2))\n",
    ">>> solver = Solver(board2)\n",
    ">>> solver.solve()\n",
    "1 3 0 2 \n",
    "3 0 2 1 \n",
    "0 2 1 3 \n",
    "2 1 3 0 \n",
    "1 2 3 0 \n",
    "2 3 0 1 \n",
    "3 0 1 2 \n",
    "0 1 2 3 \n",
    "total steps: 7\n",
    "```\n",
    "\n",
    "You may be interested to know that your program is a variation of a well-known sorting algorithm called bubble sort.  Bubble sort would normally be used on a list of items, not on a rotating track, but adapting your algorithm to this setting would be straight-forward."
   ]
  },
  {
   "cell_type": "code",
   "execution_count": 37,
   "metadata": {
    "deletable": false,
    "nbgrader": {
     "cell_type": "code",
     "checksum": "cfffb8bf30abfb18983b116b83a8ecfa",
     "grade": false,
     "grade_id": "cell-4591333e9bb4a2db",
     "locked": false,
     "schema_version": 3,
     "solution": true
    }
   },
   "outputs": [],
   "source": [
    "# YOUR CODE HERE\n",
    "import sys\n",
    "\n",
    "class MarblesBoard():\n",
    "    \n",
    "    def __init__(self, marble_list):\n",
    "        try:\n",
    "            if type(marble_list) != list and type(marble_list) != tuple:\n",
    "                raise Exception(\"Please provide a sequence of marbles in tuple or list format.\")\n",
    "                \n",
    "            elif len(marble_list) == 0:\n",
    "                raise Exception(\"Please provide a sequence of marbles.\")\n",
    "                \n",
    "            else:\n",
    "                for item in marble_list:\n",
    "                    if type(item) != int:\n",
    "                        raise Exception(\"The sequence of each marble should be integer.\")\n",
    "                    elif marble_list.count(item) > 1:\n",
    "                        raise Exception(\"The sequence of each marble should be unique.\")\n",
    "                        \n",
    "                if min(marble_list) != 0 or max(marble_list) != len(marble_list) - 1:\n",
    "                    raise Exception(\"The sequence should be numbers in the range of 0 and N - 1 where N is the total numbers you input.\")\n",
    "                \n",
    "                else:\n",
    "                    if type(marble_list) != list:\n",
    "                        self.marbles = list(marble_list)\n",
    "                    else:\n",
    "                        self.marbles = marble_list\n",
    "        \n",
    "        except Exception as e:\n",
    "            print(\"An error has occured: \" + str(e))\n",
    "            sys.exit()\n",
    "        \n",
    "    def switch(self):\n",
    "        x = self.marbles[0]\n",
    "        self.marbles[0] = self.marbles[1]\n",
    "        self.marbles[1] = x\n",
    "    \n",
    "    def rotate(self):\n",
    "        x = self.marbles[0]\n",
    "        for i in range(1,len(self.marbles)):\n",
    "            self.marbles[i-1] = self.marbles[i]\n",
    "        self.marbles[-1] = x\n",
    "    \n",
    "    def is_solved(self):\n",
    "        if self.marbles == sorted(self.marbles):\n",
    "            return True\n",
    "        else:\n",
    "            return False\n",
    "    \n",
    "    def __str__(self):\n",
    "        return \" \".join(map(str, self.marbles))\n",
    "    \n",
    "    def __repr__(self):\n",
    "        return \" \".join(map(str, self.marbles))\n",
    "        \n",
    "\n",
    "class Solver():\n",
    "    \n",
    "    def __init__(self, MarbleBoard):\n",
    "        self.MarbleBoard = MarbleBoard\n",
    "    \n",
    "    def solve(self):\n",
    "        self.__step = 0 # make it a hidden attribute so that player cannot easily manipulate it.\n",
    "        print(self.MarbleBoard)\n",
    "        while not self.MarbleBoard.is_solved():\n",
    "            if self.MarbleBoard.marbles[0] > self.MarbleBoard.marbles[1]:\n",
    "                if self.MarbleBoard.marbles[0] != len(self.MarbleBoard.marbles) - 1 or self.MarbleBoard.marbles[1] != 0:\n",
    "                    self.MarbleBoard.switch()\n",
    "                    print(self.MarbleBoard)\n",
    "                    self.__step += 1\n",
    "            self.MarbleBoard.rotate()\n",
    "            print(self.MarbleBoard)\n",
    "            self.__step += 1\n",
    "        \n",
    "        print(\"total steps:\", self.__step)"
   ]
  },
  {
   "cell_type": "code",
   "execution_count": 38,
   "metadata": {
    "deletable": false,
    "editable": false,
    "nbgrader": {
     "cell_type": "code",
     "checksum": "f0c43111e2c1b45ee64c8b7086405333",
     "grade": true,
     "grade_id": "cell-e2a73c3d3b12b2f3",
     "locked": true,
     "points": 0,
     "schema_version": 3,
     "solution": false
    }
   },
   "outputs": [
    {
     "name": "stdout",
     "output_type": "stream",
     "text": [
      "1 2 4 3 0\n",
      "True\n"
     ]
    }
   ],
   "source": [
    "# Autograde cell - do not erase/delete\n",
    "# Here we implement some tests for you to compare your code with the output we expect.\n",
    "\n",
    "# Does the marble board's string representation match?\n",
    "board = MarblesBoard((1,2,4,3,0)) \n",
    "print(board)\n",
    "print(str(board) == '1 2 4 3 0')\n"
   ]
  },
  {
   "cell_type": "code",
   "execution_count": 39,
   "metadata": {
    "deletable": false,
    "editable": false,
    "nbgrader": {
     "cell_type": "code",
     "checksum": "4a47f8c695121c5d636c197d34d022b6",
     "grade": true,
     "grade_id": "cell-5ccbb066942dd7d2",
     "locked": true,
     "points": 0,
     "schema_version": 3,
     "solution": false
    }
   },
   "outputs": [
    {
     "name": "stdout",
     "output_type": "stream",
     "text": [
      "2 1 4 3 0\n",
      "1 4 3 0 2\n",
      "True\n"
     ]
    }
   ],
   "source": [
    "# Autograde cell - do not erase/delete\n",
    "# Here we implement some tests for you to compare your code with the output we expect.\n",
    "\n",
    "# Does the switch and rotate methods work?\n",
    "board.switch()\n",
    "print(board)\n",
    "board.rotate()\n",
    "print(board)\n",
    "print(str(board) == '1 4 3 0 2')\n"
   ]
  },
  {
   "cell_type": "code",
   "execution_count": 40,
   "metadata": {
    "deletable": false,
    "editable": false,
    "nbgrader": {
     "cell_type": "code",
     "checksum": "a171a972685b9f557fc251aa59e53d2c",
     "grade": true,
     "grade_id": "cell-8303e69f8df7a9bb",
     "locked": true,
     "points": 5,
     "schema_version": 3,
     "solution": false,
     "task": false
    }
   },
   "outputs": [],
   "source": [
    "# Autograde cell - do not erase/delete\n",
    "# Here and in the following cells we implemented some hidden tests.\n",
    "# This means: Check your code for other inputs as well! Does it match with what you would expect?"
   ]
  },
  {
   "cell_type": "code",
   "execution_count": 41,
   "metadata": {
    "deletable": false,
    "editable": false,
    "nbgrader": {
     "cell_type": "code",
     "checksum": "a97626e6c6f07728b65031774efc9970",
     "grade": true,
     "grade_id": "cell-4fb9194c51a4218d",
     "locked": true,
     "points": 5,
     "schema_version": 3,
     "solution": false
    }
   },
   "outputs": [],
   "source": [
    "# Autograde cell - do not erase/delete\n"
   ]
  },
  {
   "cell_type": "code",
   "execution_count": 42,
   "metadata": {
    "deletable": false,
    "editable": false,
    "nbgrader": {
     "cell_type": "code",
     "checksum": "b4ce035419137a8a582b82ce00aceb8a",
     "grade": true,
     "grade_id": "cell-7453b5dbb1ec30fd",
     "locked": true,
     "points": 5,
     "schema_version": 3,
     "solution": false
    }
   },
   "outputs": [],
   "source": [
    "# Autograde cell - do not erase/delete"
   ]
  },
  {
   "cell_type": "code",
   "execution_count": 43,
   "metadata": {
    "deletable": false,
    "editable": false,
    "nbgrader": {
     "cell_type": "code",
     "checksum": "0235934e4f6bd1614f220df2f7436f4f",
     "grade": true,
     "grade_id": "cell-66c5e7635b517fa8",
     "locked": true,
     "points": 5,
     "schema_version": 3,
     "solution": false
    }
   },
   "outputs": [],
   "source": [
    "# Autograde cell - do not erase/delete"
   ]
  },
  {
   "cell_type": "code",
   "execution_count": 44,
   "metadata": {
    "deletable": false,
    "editable": false,
    "nbgrader": {
     "cell_type": "code",
     "checksum": "09dbc3183b751b34fd658cf05fde0687",
     "grade": true,
     "grade_id": "cell-5bdc859879cfd92e",
     "locked": true,
     "points": 20,
     "schema_version": 3,
     "solution": false
    }
   },
   "outputs": [],
   "source": [
    "# Autograde cell - do not erase/delete"
   ]
  },
  {
   "cell_type": "markdown",
   "metadata": {
    "deletable": false,
    "editable": false,
    "nbgrader": {
     "cell_type": "markdown",
     "checksum": "71b17ded21693694789f1f52a63b3dfe",
     "grade": false,
     "grade_id": "cell-e55bf2766c88246f",
     "locked": true,
     "schema_version": 3,
     "solution": false
    }
   },
   "source": [
    "Extra Credit (2 points): Describe in big-O notation the complexity of your algorithm."
   ]
  },
  {
   "cell_type": "markdown",
   "metadata": {
    "deletable": false,
    "nbgrader": {
     "cell_type": "markdown",
     "checksum": "018b6bfd2c58eaae672aa2f5e954a4a3",
     "grade": true,
     "grade_id": "cell-fc4969c14c4704e8",
     "locked": false,
     "points": 2,
     "schema_version": 3,
     "solution": true
    }
   },
   "source": [
    "YOUR ANSWER HERE\n",
    "\n",
    "big-O = O($n^{2}$)"
   ]
  }
 ],
 "metadata": {
  "interpreter": {
   "hash": "e7370f93d1d0cde622a1f8e1c04877d8463912d04d973331ad4851f04de6915a"
  },
  "kernelspec": {
   "display_name": "Python 3.8.10 64-bit",
   "name": "python3"
  },
  "language_info": {
   "codemirror_mode": {
    "name": "ipython",
    "version": 3
   },
   "file_extension": ".py",
   "mimetype": "text/x-python",
   "name": "python",
   "nbconvert_exporter": "python",
   "pygments_lexer": "ipython3",
   "version": "3.8.10"
  }
 },
 "nbformat": 4,
 "nbformat_minor": 1
}
